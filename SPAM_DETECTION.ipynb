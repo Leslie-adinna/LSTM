{
  "nbformat": 4,
  "nbformat_minor": 0,
  "metadata": {
    "colab": {
      "provenance": []
    },
    "kernelspec": {
      "name": "python3",
      "display_name": "Python 3"
    },
    "language_info": {
      "name": "python"
    }
  },
  "cells": [
    {
      "cell_type": "markdown",
      "source": [
        "Problem Statement¶\n",
        "\n",
        "With the widespread use of email for communication, the issue of spam emails has become increasingly prevalent. Spam emails not only clutter users' inboxes but also pose security risks by spreading malware, phishing attempts, and fraudulent schemes. To mitigate these risks and improve user experience, there is a need for an efficient and reliable automated system capable of accurately identifying and filtering spam emails.\n",
        "\n",
        "Develop a machine learning-based system to automatically detect spam emails in a given dataset\n",
        "\n",
        "Objective\n",
        "The primary objective of this project is to build a robust spam detection model that can accurately classify emails as spam or legitimate (ham) based on their content and metadata.\n",
        "\n",
        "Data Description\n",
        "\n",
        "The dataset consists of a collection of emails labeled as either spam or legitimate (ham). Each email sample is represented by features such as sender email address, subject line, email body content, and attachments. The dataset provides a balanced distribution of spam and ham emails, enabling the development of a model that can effectively differentiate between the two classes."
      ],
      "metadata": {
        "id": "mAZUPT_vaSb9"
      }
    },
    {
      "cell_type": "code",
      "execution_count": 1,
      "metadata": {
        "colab": {
          "base_uri": "https://localhost:8080/"
        },
        "id": "GOSE82OVaQ3z",
        "outputId": "1c32dd40-17b9-451c-9fdb-1156f2cc27ea"
      },
      "outputs": [
        {
          "output_type": "stream",
          "name": "stderr",
          "text": [
            "[nltk_data] Downloading package punkt to /root/nltk_data...\n",
            "[nltk_data]   Package punkt is already up-to-date!\n",
            "[nltk_data] Downloading package stopwords to /root/nltk_data...\n",
            "[nltk_data]   Package stopwords is already up-to-date!\n",
            "[nltk_data] Downloading package wordnet to /root/nltk_data...\n",
            "[nltk_data]   Package wordnet is already up-to-date!\n"
          ]
        }
      ],
      "source": [
        "# Import libraries\n",
        "import string\n",
        "import nltk\n",
        "import pandas as pd\n",
        "import numpy as np\n",
        "import matplotlib.pyplot as plt\n",
        "import seaborn as sns\n",
        "from nltk.corpus import stopwords\n",
        "from nltk.stem import WordNetLemmatizer\n",
        "from sklearn.feature_extraction.text import TfidfTransformer\n",
        "from sklearn.feature_extraction.text import CountVectorizer\n",
        "from sklearn.model_selection import train_test_split\n",
        "from sklearn.svm import SVC\n",
        "import warnings\n",
        "import plotly.express as px\n",
        "import string\n",
        "nltk.download('punkt')\n",
        "nltk.download('stopwords')\n",
        "nltk.download('wordnet')\n",
        "from sklearn.svm import SVC\n",
        "from sklearn.ensemble import RandomForestClassifier\n",
        "from sklearn.tree import DecisionTreeClassifier\n",
        "from sklearn.naive_bayes import GaussianNB\n",
        "from sklearn.metrics import accuracy_score, confusion_matrix, precision_score, recall_score, ConfusionMatrixDisplay\n",
        "from sklearn.model_selection import RandomizedSearchCV, train_test_split\n",
        "from scipy.stats import randint\n",
        "from sklearn.metrics import accuracy_score, precision_score, recall_score, f1_score, confusion_matrix, classification_report, mean_squared_error\n",
        "from sklearn.metrics import roc_curve, roc_auc_score,auc\n",
        "from sklearn.model_selection import cross_val_predict\n",
        "from sklearn import metrics\n",
        "warnings.simplefilter(action='ignore', category=FutureWarning)"
      ]
    },
    {
      "cell_type": "code",
      "metadata": {
        "colab": {
          "base_uri": "https://localhost:8080/",
          "height": 96
        },
        "id": "da356ca0",
        "outputId": "dc0a5a93-46b9-4506-a3df-693200aeeba7"
      },
      "source": [
        "from google.colab import files\n",
        "\n",
        "uploaded = files.upload()\n",
        "\n",
        "for fn in uploaded.keys():\n",
        "  print('User uploaded file \"{name}\" with length {length} bytes'.format(\n",
        "      name=fn, length=len(uploaded[fn])))"
      ],
      "execution_count": 2,
      "outputs": [
        {
          "output_type": "display_data",
          "data": {
            "text/plain": [
              "<IPython.core.display.HTML object>"
            ],
            "text/html": [
              "\n",
              "     <input type=\"file\" id=\"files-76203f85-7338-4902-b2c1-5fced451fd71\" name=\"files[]\" multiple disabled\n",
              "        style=\"border:none\" />\n",
              "     <output id=\"result-76203f85-7338-4902-b2c1-5fced451fd71\">\n",
              "      Upload widget is only available when the cell has been executed in the\n",
              "      current browser session. Please rerun this cell to enable.\n",
              "      </output>\n",
              "      <script>// Copyright 2017 Google LLC\n",
              "//\n",
              "// Licensed under the Apache License, Version 2.0 (the \"License\");\n",
              "// you may not use this file except in compliance with the License.\n",
              "// You may obtain a copy of the License at\n",
              "//\n",
              "//      http://www.apache.org/licenses/LICENSE-2.0\n",
              "//\n",
              "// Unless required by applicable law or agreed to in writing, software\n",
              "// distributed under the License is distributed on an \"AS IS\" BASIS,\n",
              "// WITHOUT WARRANTIES OR CONDITIONS OF ANY KIND, either express or implied.\n",
              "// See the License for the specific language governing permissions and\n",
              "// limitations under the License.\n",
              "\n",
              "/**\n",
              " * @fileoverview Helpers for google.colab Python module.\n",
              " */\n",
              "(function(scope) {\n",
              "function span(text, styleAttributes = {}) {\n",
              "  const element = document.createElement('span');\n",
              "  element.textContent = text;\n",
              "  for (const key of Object.keys(styleAttributes)) {\n",
              "    element.style[key] = styleAttributes[key];\n",
              "  }\n",
              "  return element;\n",
              "}\n",
              "\n",
              "// Max number of bytes which will be uploaded at a time.\n",
              "const MAX_PAYLOAD_SIZE = 100 * 1024;\n",
              "\n",
              "function _uploadFiles(inputId, outputId) {\n",
              "  const steps = uploadFilesStep(inputId, outputId);\n",
              "  const outputElement = document.getElementById(outputId);\n",
              "  // Cache steps on the outputElement to make it available for the next call\n",
              "  // to uploadFilesContinue from Python.\n",
              "  outputElement.steps = steps;\n",
              "\n",
              "  return _uploadFilesContinue(outputId);\n",
              "}\n",
              "\n",
              "// This is roughly an async generator (not supported in the browser yet),\n",
              "// where there are multiple asynchronous steps and the Python side is going\n",
              "// to poll for completion of each step.\n",
              "// This uses a Promise to block the python side on completion of each step,\n",
              "// then passes the result of the previous step as the input to the next step.\n",
              "function _uploadFilesContinue(outputId) {\n",
              "  const outputElement = document.getElementById(outputId);\n",
              "  const steps = outputElement.steps;\n",
              "\n",
              "  const next = steps.next(outputElement.lastPromiseValue);\n",
              "  return Promise.resolve(next.value.promise).then((value) => {\n",
              "    // Cache the last promise value to make it available to the next\n",
              "    // step of the generator.\n",
              "    outputElement.lastPromiseValue = value;\n",
              "    return next.value.response;\n",
              "  });\n",
              "}\n",
              "\n",
              "/**\n",
              " * Generator function which is called between each async step of the upload\n",
              " * process.\n",
              " * @param {string} inputId Element ID of the input file picker element.\n",
              " * @param {string} outputId Element ID of the output display.\n",
              " * @return {!Iterable<!Object>} Iterable of next steps.\n",
              " */\n",
              "function* uploadFilesStep(inputId, outputId) {\n",
              "  const inputElement = document.getElementById(inputId);\n",
              "  inputElement.disabled = false;\n",
              "\n",
              "  const outputElement = document.getElementById(outputId);\n",
              "  outputElement.innerHTML = '';\n",
              "\n",
              "  const pickedPromise = new Promise((resolve) => {\n",
              "    inputElement.addEventListener('change', (e) => {\n",
              "      resolve(e.target.files);\n",
              "    });\n",
              "  });\n",
              "\n",
              "  const cancel = document.createElement('button');\n",
              "  inputElement.parentElement.appendChild(cancel);\n",
              "  cancel.textContent = 'Cancel upload';\n",
              "  const cancelPromise = new Promise((resolve) => {\n",
              "    cancel.onclick = () => {\n",
              "      resolve(null);\n",
              "    };\n",
              "  });\n",
              "\n",
              "  // Wait for the user to pick the files.\n",
              "  const files = yield {\n",
              "    promise: Promise.race([pickedPromise, cancelPromise]),\n",
              "    response: {\n",
              "      action: 'starting',\n",
              "    }\n",
              "  };\n",
              "\n",
              "  cancel.remove();\n",
              "\n",
              "  // Disable the input element since further picks are not allowed.\n",
              "  inputElement.disabled = true;\n",
              "\n",
              "  if (!files) {\n",
              "    return {\n",
              "      response: {\n",
              "        action: 'complete',\n",
              "      }\n",
              "    };\n",
              "  }\n",
              "\n",
              "  for (const file of files) {\n",
              "    const li = document.createElement('li');\n",
              "    li.append(span(file.name, {fontWeight: 'bold'}));\n",
              "    li.append(span(\n",
              "        `(${file.type || 'n/a'}) - ${file.size} bytes, ` +\n",
              "        `last modified: ${\n",
              "            file.lastModifiedDate ? file.lastModifiedDate.toLocaleDateString() :\n",
              "                                    'n/a'} - `));\n",
              "    const percent = span('0% done');\n",
              "    li.appendChild(percent);\n",
              "\n",
              "    outputElement.appendChild(li);\n",
              "\n",
              "    const fileDataPromise = new Promise((resolve) => {\n",
              "      const reader = new FileReader();\n",
              "      reader.onload = (e) => {\n",
              "        resolve(e.target.result);\n",
              "      };\n",
              "      reader.readAsArrayBuffer(file);\n",
              "    });\n",
              "    // Wait for the data to be ready.\n",
              "    let fileData = yield {\n",
              "      promise: fileDataPromise,\n",
              "      response: {\n",
              "        action: 'continue',\n",
              "      }\n",
              "    };\n",
              "\n",
              "    // Use a chunked sending to avoid message size limits. See b/62115660.\n",
              "    let position = 0;\n",
              "    do {\n",
              "      const length = Math.min(fileData.byteLength - position, MAX_PAYLOAD_SIZE);\n",
              "      const chunk = new Uint8Array(fileData, position, length);\n",
              "      position += length;\n",
              "\n",
              "      const base64 = btoa(String.fromCharCode.apply(null, chunk));\n",
              "      yield {\n",
              "        response: {\n",
              "          action: 'append',\n",
              "          file: file.name,\n",
              "          data: base64,\n",
              "        },\n",
              "      };\n",
              "\n",
              "      let percentDone = fileData.byteLength === 0 ?\n",
              "          100 :\n",
              "          Math.round((position / fileData.byteLength) * 100);\n",
              "      percent.textContent = `${percentDone}% done`;\n",
              "\n",
              "    } while (position < fileData.byteLength);\n",
              "  }\n",
              "\n",
              "  // All done.\n",
              "  yield {\n",
              "    response: {\n",
              "      action: 'complete',\n",
              "    }\n",
              "  };\n",
              "}\n",
              "\n",
              "scope.google = scope.google || {};\n",
              "scope.google.colab = scope.google.colab || {};\n",
              "scope.google.colab._files = {\n",
              "  _uploadFiles,\n",
              "  _uploadFilesContinue,\n",
              "};\n",
              "})(self);\n",
              "</script> "
            ]
          },
          "metadata": {}
        },
        {
          "output_type": "stream",
          "name": "stdout",
          "text": [
            "Saving emails.csv.zip to emails.csv (1).zip\n",
            "User uploaded file \"emails.csv (1).zip\" with length 2994798 bytes\n"
          ]
        }
      ]
    },
    {
      "cell_type": "code",
      "source": [
        "import zipfile\n",
        "import os\n",
        "\n",
        "# Unzip the uploaded file\n",
        "zip_filename = \"emails.csv.zip\"\n",
        "extract_dir = \"unzipped_emails\"\n",
        "\n",
        "with zipfile.ZipFile(zip_filename, 'r') as zip_ref:\n",
        "    zip_ref.extractall(extract_dir)\n",
        "\n",
        "print(\"Extraction completed.\")\n"
      ],
      "metadata": {
        "colab": {
          "base_uri": "https://localhost:8080/"
        },
        "id": "QaQ5bRfvbwT4",
        "outputId": "68211bad-296c-4ee5-a9b1-8db6e67ae7ea"
      },
      "execution_count": 3,
      "outputs": [
        {
          "output_type": "stream",
          "name": "stdout",
          "text": [
            "Extraction completed.\n"
          ]
        }
      ]
    },
    {
      "cell_type": "code",
      "source": [
        "import pandas as pd\n",
        "from pathlib import Path\n",
        "\n",
        "# Find the first CSV in the extracted directory\n",
        "csv_files = list(Path(extract_dir).rglob(\"*.csv\"))\n",
        "\n",
        "if csv_files:\n",
        "    df = pd.read_csv(csv_files[0])\n",
        "    display(df.head())  # Preview first 5 rows\n",
        "else:\n",
        "    print(\"No CSV file found in the extracted folder.\")\n"
      ],
      "metadata": {
        "colab": {
          "base_uri": "https://localhost:8080/",
          "height": 206
        },
        "id": "9LgPi05LbyZl",
        "outputId": "5dd089cb-6712-4e36-be0e-dfdf6d01a812"
      },
      "execution_count": 4,
      "outputs": [
        {
          "output_type": "display_data",
          "data": {
            "text/plain": [
              "                                                text  spam\n",
              "0  Subject: naturally irresistible your corporate...     1\n",
              "1  Subject: the stock trading gunslinger  fanny i...     1\n",
              "2  Subject: unbelievable new homes made easy  im ...     1\n",
              "3  Subject: 4 color printing special  request add...     1\n",
              "4  Subject: do not have money , get software cds ...     1"
            ],
            "text/html": [
              "\n",
              "  <div id=\"df-d6252639-eb6f-43ab-886c-27d3ce1bb29e\" class=\"colab-df-container\">\n",
              "    <div>\n",
              "<style scoped>\n",
              "    .dataframe tbody tr th:only-of-type {\n",
              "        vertical-align: middle;\n",
              "    }\n",
              "\n",
              "    .dataframe tbody tr th {\n",
              "        vertical-align: top;\n",
              "    }\n",
              "\n",
              "    .dataframe thead th {\n",
              "        text-align: right;\n",
              "    }\n",
              "</style>\n",
              "<table border=\"1\" class=\"dataframe\">\n",
              "  <thead>\n",
              "    <tr style=\"text-align: right;\">\n",
              "      <th></th>\n",
              "      <th>text</th>\n",
              "      <th>spam</th>\n",
              "    </tr>\n",
              "  </thead>\n",
              "  <tbody>\n",
              "    <tr>\n",
              "      <th>0</th>\n",
              "      <td>Subject: naturally irresistible your corporate...</td>\n",
              "      <td>1</td>\n",
              "    </tr>\n",
              "    <tr>\n",
              "      <th>1</th>\n",
              "      <td>Subject: the stock trading gunslinger  fanny i...</td>\n",
              "      <td>1</td>\n",
              "    </tr>\n",
              "    <tr>\n",
              "      <th>2</th>\n",
              "      <td>Subject: unbelievable new homes made easy  im ...</td>\n",
              "      <td>1</td>\n",
              "    </tr>\n",
              "    <tr>\n",
              "      <th>3</th>\n",
              "      <td>Subject: 4 color printing special  request add...</td>\n",
              "      <td>1</td>\n",
              "    </tr>\n",
              "    <tr>\n",
              "      <th>4</th>\n",
              "      <td>Subject: do not have money , get software cds ...</td>\n",
              "      <td>1</td>\n",
              "    </tr>\n",
              "  </tbody>\n",
              "</table>\n",
              "</div>\n",
              "    <div class=\"colab-df-buttons\">\n",
              "\n",
              "  <div class=\"colab-df-container\">\n",
              "    <button class=\"colab-df-convert\" onclick=\"convertToInteractive('df-d6252639-eb6f-43ab-886c-27d3ce1bb29e')\"\n",
              "            title=\"Convert this dataframe to an interactive table.\"\n",
              "            style=\"display:none;\">\n",
              "\n",
              "  <svg xmlns=\"http://www.w3.org/2000/svg\" height=\"24px\" viewBox=\"0 -960 960 960\">\n",
              "    <path d=\"M120-120v-720h720v720H120Zm60-500h600v-160H180v160Zm220 220h160v-160H400v160Zm0 220h160v-160H400v160ZM180-400h160v-160H180v160Zm440 0h160v-160H620v160ZM180-180h160v-160H180v160Zm440 0h160v-160H620v160Z\"/>\n",
              "  </svg>\n",
              "    </button>\n",
              "\n",
              "  <style>\n",
              "    .colab-df-container {\n",
              "      display:flex;\n",
              "      gap: 12px;\n",
              "    }\n",
              "\n",
              "    .colab-df-convert {\n",
              "      background-color: #E8F0FE;\n",
              "      border: none;\n",
              "      border-radius: 50%;\n",
              "      cursor: pointer;\n",
              "      display: none;\n",
              "      fill: #1967D2;\n",
              "      height: 32px;\n",
              "      padding: 0 0 0 0;\n",
              "      width: 32px;\n",
              "    }\n",
              "\n",
              "    .colab-df-convert:hover {\n",
              "      background-color: #E2EBFA;\n",
              "      box-shadow: 0px 1px 2px rgba(60, 64, 67, 0.3), 0px 1px 3px 1px rgba(60, 64, 67, 0.15);\n",
              "      fill: #174EA6;\n",
              "    }\n",
              "\n",
              "    .colab-df-buttons div {\n",
              "      margin-bottom: 4px;\n",
              "    }\n",
              "\n",
              "    [theme=dark] .colab-df-convert {\n",
              "      background-color: #3B4455;\n",
              "      fill: #D2E3FC;\n",
              "    }\n",
              "\n",
              "    [theme=dark] .colab-df-convert:hover {\n",
              "      background-color: #434B5C;\n",
              "      box-shadow: 0px 1px 3px 1px rgba(0, 0, 0, 0.15);\n",
              "      filter: drop-shadow(0px 1px 2px rgba(0, 0, 0, 0.3));\n",
              "      fill: #FFFFFF;\n",
              "    }\n",
              "  </style>\n",
              "\n",
              "    <script>\n",
              "      const buttonEl =\n",
              "        document.querySelector('#df-d6252639-eb6f-43ab-886c-27d3ce1bb29e button.colab-df-convert');\n",
              "      buttonEl.style.display =\n",
              "        google.colab.kernel.accessAllowed ? 'block' : 'none';\n",
              "\n",
              "      async function convertToInteractive(key) {\n",
              "        const element = document.querySelector('#df-d6252639-eb6f-43ab-886c-27d3ce1bb29e');\n",
              "        const dataTable =\n",
              "          await google.colab.kernel.invokeFunction('convertToInteractive',\n",
              "                                                    [key], {});\n",
              "        if (!dataTable) return;\n",
              "\n",
              "        const docLinkHtml = 'Like what you see? Visit the ' +\n",
              "          '<a target=\"_blank\" href=https://colab.research.google.com/notebooks/data_table.ipynb>data table notebook</a>'\n",
              "          + ' to learn more about interactive tables.';\n",
              "        element.innerHTML = '';\n",
              "        dataTable['output_type'] = 'display_data';\n",
              "        await google.colab.output.renderOutput(dataTable, element);\n",
              "        const docLink = document.createElement('div');\n",
              "        docLink.innerHTML = docLinkHtml;\n",
              "        element.appendChild(docLink);\n",
              "      }\n",
              "    </script>\n",
              "  </div>\n",
              "\n",
              "\n",
              "    <div id=\"df-7bf01741-8c79-4084-86e6-3e3cd9f5f9d3\">\n",
              "      <button class=\"colab-df-quickchart\" onclick=\"quickchart('df-7bf01741-8c79-4084-86e6-3e3cd9f5f9d3')\"\n",
              "                title=\"Suggest charts\"\n",
              "                style=\"display:none;\">\n",
              "\n",
              "<svg xmlns=\"http://www.w3.org/2000/svg\" height=\"24px\"viewBox=\"0 0 24 24\"\n",
              "     width=\"24px\">\n",
              "    <g>\n",
              "        <path d=\"M19 3H5c-1.1 0-2 .9-2 2v14c0 1.1.9 2 2 2h14c1.1 0 2-.9 2-2V5c0-1.1-.9-2-2-2zM9 17H7v-7h2v7zm4 0h-2V7h2v10zm4 0h-2v-4h2v4z\"/>\n",
              "    </g>\n",
              "</svg>\n",
              "      </button>\n",
              "\n",
              "<style>\n",
              "  .colab-df-quickchart {\n",
              "      --bg-color: #E8F0FE;\n",
              "      --fill-color: #1967D2;\n",
              "      --hover-bg-color: #E2EBFA;\n",
              "      --hover-fill-color: #174EA6;\n",
              "      --disabled-fill-color: #AAA;\n",
              "      --disabled-bg-color: #DDD;\n",
              "  }\n",
              "\n",
              "  [theme=dark] .colab-df-quickchart {\n",
              "      --bg-color: #3B4455;\n",
              "      --fill-color: #D2E3FC;\n",
              "      --hover-bg-color: #434B5C;\n",
              "      --hover-fill-color: #FFFFFF;\n",
              "      --disabled-bg-color: #3B4455;\n",
              "      --disabled-fill-color: #666;\n",
              "  }\n",
              "\n",
              "  .colab-df-quickchart {\n",
              "    background-color: var(--bg-color);\n",
              "    border: none;\n",
              "    border-radius: 50%;\n",
              "    cursor: pointer;\n",
              "    display: none;\n",
              "    fill: var(--fill-color);\n",
              "    height: 32px;\n",
              "    padding: 0;\n",
              "    width: 32px;\n",
              "  }\n",
              "\n",
              "  .colab-df-quickchart:hover {\n",
              "    background-color: var(--hover-bg-color);\n",
              "    box-shadow: 0 1px 2px rgba(60, 64, 67, 0.3), 0 1px 3px 1px rgba(60, 64, 67, 0.15);\n",
              "    fill: var(--button-hover-fill-color);\n",
              "  }\n",
              "\n",
              "  .colab-df-quickchart-complete:disabled,\n",
              "  .colab-df-quickchart-complete:disabled:hover {\n",
              "    background-color: var(--disabled-bg-color);\n",
              "    fill: var(--disabled-fill-color);\n",
              "    box-shadow: none;\n",
              "  }\n",
              "\n",
              "  .colab-df-spinner {\n",
              "    border: 2px solid var(--fill-color);\n",
              "    border-color: transparent;\n",
              "    border-bottom-color: var(--fill-color);\n",
              "    animation:\n",
              "      spin 1s steps(1) infinite;\n",
              "  }\n",
              "\n",
              "  @keyframes spin {\n",
              "    0% {\n",
              "      border-color: transparent;\n",
              "      border-bottom-color: var(--fill-color);\n",
              "      border-left-color: var(--fill-color);\n",
              "    }\n",
              "    20% {\n",
              "      border-color: transparent;\n",
              "      border-left-color: var(--fill-color);\n",
              "      border-top-color: var(--fill-color);\n",
              "    }\n",
              "    30% {\n",
              "      border-color: transparent;\n",
              "      border-left-color: var(--fill-color);\n",
              "      border-top-color: var(--fill-color);\n",
              "      border-right-color: var(--fill-color);\n",
              "    }\n",
              "    40% {\n",
              "      border-color: transparent;\n",
              "      border-right-color: var(--fill-color);\n",
              "      border-top-color: var(--fill-color);\n",
              "    }\n",
              "    60% {\n",
              "      border-color: transparent;\n",
              "      border-right-color: var(--fill-color);\n",
              "    }\n",
              "    80% {\n",
              "      border-color: transparent;\n",
              "      border-right-color: var(--fill-color);\n",
              "      border-bottom-color: var(--fill-color);\n",
              "    }\n",
              "    90% {\n",
              "      border-color: transparent;\n",
              "      border-bottom-color: var(--fill-color);\n",
              "    }\n",
              "  }\n",
              "</style>\n",
              "\n",
              "      <script>\n",
              "        async function quickchart(key) {\n",
              "          const quickchartButtonEl =\n",
              "            document.querySelector('#' + key + ' button');\n",
              "          quickchartButtonEl.disabled = true;  // To prevent multiple clicks.\n",
              "          quickchartButtonEl.classList.add('colab-df-spinner');\n",
              "          try {\n",
              "            const charts = await google.colab.kernel.invokeFunction(\n",
              "                'suggestCharts', [key], {});\n",
              "          } catch (error) {\n",
              "            console.error('Error during call to suggestCharts:', error);\n",
              "          }\n",
              "          quickchartButtonEl.classList.remove('colab-df-spinner');\n",
              "          quickchartButtonEl.classList.add('colab-df-quickchart-complete');\n",
              "        }\n",
              "        (() => {\n",
              "          let quickchartButtonEl =\n",
              "            document.querySelector('#df-7bf01741-8c79-4084-86e6-3e3cd9f5f9d3 button');\n",
              "          quickchartButtonEl.style.display =\n",
              "            google.colab.kernel.accessAllowed ? 'block' : 'none';\n",
              "        })();\n",
              "      </script>\n",
              "    </div>\n",
              "\n",
              "    </div>\n",
              "  </div>\n"
            ],
            "application/vnd.google.colaboratory.intrinsic+json": {
              "type": "dataframe",
              "summary": "{\n  \"name\": \"    print(\\\"No CSV file found in the extracted folder\",\n  \"rows\": 5,\n  \"fields\": [\n    {\n      \"column\": \"text\",\n      \"properties\": {\n        \"dtype\": \"string\",\n        \"num_unique_values\": 5,\n        \"samples\": [\n          \"Subject: the stock trading gunslinger  fanny is merrill but muzo not colza attainder and penultimate like esmark perspicuous ramble is segovia not group try slung kansas tanzania yes chameleon or continuant clothesman no  libretto is chesapeake but tight not waterway herald and hawthorn like chisel morristown superior is deoxyribonucleic not clockwork try hall incredible mcdougall yes hepburn or einsteinian earmark no  sapling is boar but duane not plain palfrey and inflexible like huzzah pepperoni bedtime is nameable not attire try edt chronography optima yes pirogue or diffusion albeit no \",\n          \"Subject: do not have money , get software cds from here !  software compatibility . . . . ain ' t it great ?  grow old along with me the best is yet to be .  all tradgedies are finish ' d by death . all comedies are ended by marriage .\",\n          \"Subject: unbelievable new homes made easy  im wanting to show you this  homeowner  you have been pre - approved for a $ 454 , 169 home loan at a 3 . 72 fixed rate .  this offer is being extended to you unconditionally and your credit is in no way a factor .  to take advantage of this limited time opportunity  all we ask is that you visit our website and complete  the 1 minute post approval form  look foward to hearing from you ,  dorcas pittman\"\n        ],\n        \"semantic_type\": \"\",\n        \"description\": \"\"\n      }\n    },\n    {\n      \"column\": \"spam\",\n      \"properties\": {\n        \"dtype\": \"number\",\n        \"std\": 0,\n        \"min\": 1,\n        \"max\": 1,\n        \"num_unique_values\": 1,\n        \"samples\": [\n          1\n        ],\n        \"semantic_type\": \"\",\n        \"description\": \"\"\n      }\n    }\n  ]\n}"
            }
          },
          "metadata": {}
        }
      ]
    },
    {
      "cell_type": "markdown",
      "source": [
        "Understanding the data\n",
        "\n",
        "text :- Contains the subject of the email\n",
        "\n",
        "spam :- contains binary values '0' indicating ham and '1' indicating spam"
      ],
      "metadata": {
        "id": "ANX-nWazcDG0"
      }
    },
    {
      "cell_type": "code",
      "source": [
        "import pandas as pd\n",
        "from pathlib import Path\n",
        "\n",
        "# Load CSV (assuming you've unzipped it already)\n",
        "csv_files = list(Path(\"unzipped_emails\").rglob(\"*.csv\"))\n",
        "\n",
        "# Load into DataFrame\n",
        "if csv_files:\n",
        "    spam_df = pd.read_csv(csv_files[0])\n",
        "\n",
        "    # Preview structure\n",
        "    print(\"✅ DataFrame loaded successfully.\")\n",
        "    spam_df.info()\n",
        "else:\n",
        "    print(\"❌ CSV not found.\")\n"
      ],
      "metadata": {
        "colab": {
          "base_uri": "https://localhost:8080/"
        },
        "id": "2yDmOnhXb6OF",
        "outputId": "4640b3d5-1d3f-47c1-ced3-166397260eb8"
      },
      "execution_count": 5,
      "outputs": [
        {
          "output_type": "stream",
          "name": "stdout",
          "text": [
            "✅ DataFrame loaded successfully.\n",
            "<class 'pandas.core.frame.DataFrame'>\n",
            "RangeIndex: 5728 entries, 0 to 5727\n",
            "Data columns (total 2 columns):\n",
            " #   Column  Non-Null Count  Dtype \n",
            "---  ------  --------------  ----- \n",
            " 0   text    5728 non-null   object\n",
            " 1   spam    5728 non-null   int64 \n",
            "dtypes: int64(1), object(1)\n",
            "memory usage: 89.6+ KB\n"
          ]
        }
      ]
    },
    {
      "cell_type": "markdown",
      "source": [
        "Exploratory Data Analysis¶\n",
        "Statistics Summary\n",
        "Indentifying Missing values\n",
        "Handling Missing values\n",
        "Removing Duplicate records\n",
        "Visualization\n",
        "\n",
        "\n",
        "Statistics Summary"
      ],
      "metadata": {
        "id": "Kj07Yvogc9Pw"
      }
    },
    {
      "cell_type": "code",
      "source": [
        "spam_df.describe().T"
      ],
      "metadata": {
        "colab": {
          "base_uri": "https://localhost:8080/",
          "height": 81
        },
        "id": "XE3lJFsOc_2q",
        "outputId": "35f92189-2d29-484a-eafc-08cd87c7d1cc"
      },
      "execution_count": 6,
      "outputs": [
        {
          "output_type": "execute_result",
          "data": {
            "text/plain": [
              "       count      mean       std  min  25%  50%  75%  max\n",
              "spam  5728.0  0.238827  0.426404  0.0  0.0  0.0  0.0  1.0"
            ],
            "text/html": [
              "\n",
              "  <div id=\"df-c4c452b0-8640-45e0-8ba3-1acd98f1ef1c\" class=\"colab-df-container\">\n",
              "    <div>\n",
              "<style scoped>\n",
              "    .dataframe tbody tr th:only-of-type {\n",
              "        vertical-align: middle;\n",
              "    }\n",
              "\n",
              "    .dataframe tbody tr th {\n",
              "        vertical-align: top;\n",
              "    }\n",
              "\n",
              "    .dataframe thead th {\n",
              "        text-align: right;\n",
              "    }\n",
              "</style>\n",
              "<table border=\"1\" class=\"dataframe\">\n",
              "  <thead>\n",
              "    <tr style=\"text-align: right;\">\n",
              "      <th></th>\n",
              "      <th>count</th>\n",
              "      <th>mean</th>\n",
              "      <th>std</th>\n",
              "      <th>min</th>\n",
              "      <th>25%</th>\n",
              "      <th>50%</th>\n",
              "      <th>75%</th>\n",
              "      <th>max</th>\n",
              "    </tr>\n",
              "  </thead>\n",
              "  <tbody>\n",
              "    <tr>\n",
              "      <th>spam</th>\n",
              "      <td>5728.0</td>\n",
              "      <td>0.238827</td>\n",
              "      <td>0.426404</td>\n",
              "      <td>0.0</td>\n",
              "      <td>0.0</td>\n",
              "      <td>0.0</td>\n",
              "      <td>0.0</td>\n",
              "      <td>1.0</td>\n",
              "    </tr>\n",
              "  </tbody>\n",
              "</table>\n",
              "</div>\n",
              "    <div class=\"colab-df-buttons\">\n",
              "\n",
              "  <div class=\"colab-df-container\">\n",
              "    <button class=\"colab-df-convert\" onclick=\"convertToInteractive('df-c4c452b0-8640-45e0-8ba3-1acd98f1ef1c')\"\n",
              "            title=\"Convert this dataframe to an interactive table.\"\n",
              "            style=\"display:none;\">\n",
              "\n",
              "  <svg xmlns=\"http://www.w3.org/2000/svg\" height=\"24px\" viewBox=\"0 -960 960 960\">\n",
              "    <path d=\"M120-120v-720h720v720H120Zm60-500h600v-160H180v160Zm220 220h160v-160H400v160Zm0 220h160v-160H400v160ZM180-400h160v-160H180v160Zm440 0h160v-160H620v160ZM180-180h160v-160H180v160Zm440 0h160v-160H620v160Z\"/>\n",
              "  </svg>\n",
              "    </button>\n",
              "\n",
              "  <style>\n",
              "    .colab-df-container {\n",
              "      display:flex;\n",
              "      gap: 12px;\n",
              "    }\n",
              "\n",
              "    .colab-df-convert {\n",
              "      background-color: #E8F0FE;\n",
              "      border: none;\n",
              "      border-radius: 50%;\n",
              "      cursor: pointer;\n",
              "      display: none;\n",
              "      fill: #1967D2;\n",
              "      height: 32px;\n",
              "      padding: 0 0 0 0;\n",
              "      width: 32px;\n",
              "    }\n",
              "\n",
              "    .colab-df-convert:hover {\n",
              "      background-color: #E2EBFA;\n",
              "      box-shadow: 0px 1px 2px rgba(60, 64, 67, 0.3), 0px 1px 3px 1px rgba(60, 64, 67, 0.15);\n",
              "      fill: #174EA6;\n",
              "    }\n",
              "\n",
              "    .colab-df-buttons div {\n",
              "      margin-bottom: 4px;\n",
              "    }\n",
              "\n",
              "    [theme=dark] .colab-df-convert {\n",
              "      background-color: #3B4455;\n",
              "      fill: #D2E3FC;\n",
              "    }\n",
              "\n",
              "    [theme=dark] .colab-df-convert:hover {\n",
              "      background-color: #434B5C;\n",
              "      box-shadow: 0px 1px 3px 1px rgba(0, 0, 0, 0.15);\n",
              "      filter: drop-shadow(0px 1px 2px rgba(0, 0, 0, 0.3));\n",
              "      fill: #FFFFFF;\n",
              "    }\n",
              "  </style>\n",
              "\n",
              "    <script>\n",
              "      const buttonEl =\n",
              "        document.querySelector('#df-c4c452b0-8640-45e0-8ba3-1acd98f1ef1c button.colab-df-convert');\n",
              "      buttonEl.style.display =\n",
              "        google.colab.kernel.accessAllowed ? 'block' : 'none';\n",
              "\n",
              "      async function convertToInteractive(key) {\n",
              "        const element = document.querySelector('#df-c4c452b0-8640-45e0-8ba3-1acd98f1ef1c');\n",
              "        const dataTable =\n",
              "          await google.colab.kernel.invokeFunction('convertToInteractive',\n",
              "                                                    [key], {});\n",
              "        if (!dataTable) return;\n",
              "\n",
              "        const docLinkHtml = 'Like what you see? Visit the ' +\n",
              "          '<a target=\"_blank\" href=https://colab.research.google.com/notebooks/data_table.ipynb>data table notebook</a>'\n",
              "          + ' to learn more about interactive tables.';\n",
              "        element.innerHTML = '';\n",
              "        dataTable['output_type'] = 'display_data';\n",
              "        await google.colab.output.renderOutput(dataTable, element);\n",
              "        const docLink = document.createElement('div');\n",
              "        docLink.innerHTML = docLinkHtml;\n",
              "        element.appendChild(docLink);\n",
              "      }\n",
              "    </script>\n",
              "  </div>\n",
              "\n",
              "\n",
              "    </div>\n",
              "  </div>\n"
            ],
            "application/vnd.google.colaboratory.intrinsic+json": {
              "type": "dataframe",
              "summary": "{\n  \"name\": \"spam_df\",\n  \"rows\": 1,\n  \"fields\": [\n    {\n      \"column\": \"count\",\n      \"properties\": {\n        \"dtype\": \"number\",\n        \"std\": null,\n        \"min\": 5728.0,\n        \"max\": 5728.0,\n        \"num_unique_values\": 1,\n        \"samples\": [\n          5728.0\n        ],\n        \"semantic_type\": \"\",\n        \"description\": \"\"\n      }\n    },\n    {\n      \"column\": \"mean\",\n      \"properties\": {\n        \"dtype\": \"number\",\n        \"std\": null,\n        \"min\": 0.2388268156424581,\n        \"max\": 0.2388268156424581,\n        \"num_unique_values\": 1,\n        \"samples\": [\n          0.2388268156424581\n        ],\n        \"semantic_type\": \"\",\n        \"description\": \"\"\n      }\n    },\n    {\n      \"column\": \"std\",\n      \"properties\": {\n        \"dtype\": \"number\",\n        \"std\": null,\n        \"min\": 0.42640392838852054,\n        \"max\": 0.42640392838852054,\n        \"num_unique_values\": 1,\n        \"samples\": [\n          0.42640392838852054\n        ],\n        \"semantic_type\": \"\",\n        \"description\": \"\"\n      }\n    },\n    {\n      \"column\": \"min\",\n      \"properties\": {\n        \"dtype\": \"number\",\n        \"std\": null,\n        \"min\": 0.0,\n        \"max\": 0.0,\n        \"num_unique_values\": 1,\n        \"samples\": [\n          0.0\n        ],\n        \"semantic_type\": \"\",\n        \"description\": \"\"\n      }\n    },\n    {\n      \"column\": \"25%\",\n      \"properties\": {\n        \"dtype\": \"number\",\n        \"std\": null,\n        \"min\": 0.0,\n        \"max\": 0.0,\n        \"num_unique_values\": 1,\n        \"samples\": [\n          0.0\n        ],\n        \"semantic_type\": \"\",\n        \"description\": \"\"\n      }\n    },\n    {\n      \"column\": \"50%\",\n      \"properties\": {\n        \"dtype\": \"number\",\n        \"std\": null,\n        \"min\": 0.0,\n        \"max\": 0.0,\n        \"num_unique_values\": 1,\n        \"samples\": [\n          0.0\n        ],\n        \"semantic_type\": \"\",\n        \"description\": \"\"\n      }\n    },\n    {\n      \"column\": \"75%\",\n      \"properties\": {\n        \"dtype\": \"number\",\n        \"std\": null,\n        \"min\": 0.0,\n        \"max\": 0.0,\n        \"num_unique_values\": 1,\n        \"samples\": [\n          0.0\n        ],\n        \"semantic_type\": \"\",\n        \"description\": \"\"\n      }\n    },\n    {\n      \"column\": \"max\",\n      \"properties\": {\n        \"dtype\": \"number\",\n        \"std\": null,\n        \"min\": 1.0,\n        \"max\": 1.0,\n        \"num_unique_values\": 1,\n        \"samples\": [\n          1.0\n        ],\n        \"semantic_type\": \"\",\n        \"description\": \"\"\n      }\n    }\n  ]\n}"
            }
          },
          "metadata": {},
          "execution_count": 6
        }
      ]
    },
    {
      "cell_type": "code",
      "source": [
        "spam_df.dtypes"
      ],
      "metadata": {
        "colab": {
          "base_uri": "https://localhost:8080/",
          "height": 147
        },
        "id": "yFIx2PQfdHy3",
        "outputId": "3bf373d5-4c1a-4aee-f63b-0b2d86577325"
      },
      "execution_count": 7,
      "outputs": [
        {
          "output_type": "execute_result",
          "data": {
            "text/plain": [
              "text    object\n",
              "spam     int64\n",
              "dtype: object"
            ],
            "text/html": [
              "<div>\n",
              "<style scoped>\n",
              "    .dataframe tbody tr th:only-of-type {\n",
              "        vertical-align: middle;\n",
              "    }\n",
              "\n",
              "    .dataframe tbody tr th {\n",
              "        vertical-align: top;\n",
              "    }\n",
              "\n",
              "    .dataframe thead th {\n",
              "        text-align: right;\n",
              "    }\n",
              "</style>\n",
              "<table border=\"1\" class=\"dataframe\">\n",
              "  <thead>\n",
              "    <tr style=\"text-align: right;\">\n",
              "      <th></th>\n",
              "      <th>0</th>\n",
              "    </tr>\n",
              "  </thead>\n",
              "  <tbody>\n",
              "    <tr>\n",
              "      <th>text</th>\n",
              "      <td>object</td>\n",
              "    </tr>\n",
              "    <tr>\n",
              "      <th>spam</th>\n",
              "      <td>int64</td>\n",
              "    </tr>\n",
              "  </tbody>\n",
              "</table>\n",
              "</div><br><label><b>dtype:</b> object</label>"
            ]
          },
          "metadata": {},
          "execution_count": 7
        }
      ]
    },
    {
      "cell_type": "code",
      "source": [
        "len(spam_df['text'].unique())"
      ],
      "metadata": {
        "colab": {
          "base_uri": "https://localhost:8080/"
        },
        "id": "kslMXJnMdMtT",
        "outputId": "2a57b4d6-2b95-4730-d2d3-c7863cc27061"
      },
      "execution_count": 8,
      "outputs": [
        {
          "output_type": "execute_result",
          "data": {
            "text/plain": [
              "5695"
            ]
          },
          "metadata": {},
          "execution_count": 8
        }
      ]
    },
    {
      "cell_type": "code",
      "source": [
        "# check for missing values\n",
        "#Check Null values\n",
        "spam_df.isnull().sum()"
      ],
      "metadata": {
        "colab": {
          "base_uri": "https://localhost:8080/",
          "height": 147
        },
        "id": "rY9VMhY5dRb3",
        "outputId": "1f8794e5-b8f8-40e9-ce66-b7ece349d53c"
      },
      "execution_count": 9,
      "outputs": [
        {
          "output_type": "execute_result",
          "data": {
            "text/plain": [
              "text    0\n",
              "spam    0\n",
              "dtype: int64"
            ],
            "text/html": [
              "<div>\n",
              "<style scoped>\n",
              "    .dataframe tbody tr th:only-of-type {\n",
              "        vertical-align: middle;\n",
              "    }\n",
              "\n",
              "    .dataframe tbody tr th {\n",
              "        vertical-align: top;\n",
              "    }\n",
              "\n",
              "    .dataframe thead th {\n",
              "        text-align: right;\n",
              "    }\n",
              "</style>\n",
              "<table border=\"1\" class=\"dataframe\">\n",
              "  <thead>\n",
              "    <tr style=\"text-align: right;\">\n",
              "      <th></th>\n",
              "      <th>0</th>\n",
              "    </tr>\n",
              "  </thead>\n",
              "  <tbody>\n",
              "    <tr>\n",
              "      <th>text</th>\n",
              "      <td>0</td>\n",
              "    </tr>\n",
              "    <tr>\n",
              "      <th>spam</th>\n",
              "      <td>0</td>\n",
              "    </tr>\n",
              "  </tbody>\n",
              "</table>\n",
              "</div><br><label><b>dtype:</b> int64</label>"
            ]
          },
          "metadata": {},
          "execution_count": 9
        }
      ]
    },
    {
      "cell_type": "code",
      "source": [
        "# check for duplicate record\n",
        "spam_df.duplicated().sum()"
      ],
      "metadata": {
        "colab": {
          "base_uri": "https://localhost:8080/"
        },
        "id": "OpcRR-eadZj2",
        "outputId": "a2d92a4c-11a8-4be8-d170-4fcfc7dc5860"
      },
      "execution_count": 10,
      "outputs": [
        {
          "output_type": "execute_result",
          "data": {
            "text/plain": [
              "np.int64(33)"
            ]
          },
          "metadata": {},
          "execution_count": 10
        }
      ]
    },
    {
      "cell_type": "code",
      "source": [
        "#Fetch all duplicate values\n",
        "duplicate=spam_df[spam_df.duplicated(keep='last')]\n",
        "duplicate.head()"
      ],
      "metadata": {
        "colab": {
          "base_uri": "https://localhost:8080/",
          "height": 206
        },
        "id": "TtI87hn6dksI",
        "outputId": "0b9dfb1f-5fff-4b02-952d-3d99e15d94b2"
      },
      "execution_count": 11,
      "outputs": [
        {
          "output_type": "execute_result",
          "data": {
            "text/plain": [
              "                                                   text  spam\n",
              "1417  Subject: day off tuesday  stinson ,  i would l...     0\n",
              "1508  Subject: re : enron weather research  good aft...     0\n",
              "1532  Subject: schedule and more . .  dr . kaminski ...     0\n",
              "1667  Subject: re : summer work . .  jinbaek ,  this...     0\n",
              "1749  Subject: term paper  dr . kaminski ,  attached...     0"
            ],
            "text/html": [
              "\n",
              "  <div id=\"df-072dae28-3865-4e66-8af8-e4985db8d8f9\" class=\"colab-df-container\">\n",
              "    <div>\n",
              "<style scoped>\n",
              "    .dataframe tbody tr th:only-of-type {\n",
              "        vertical-align: middle;\n",
              "    }\n",
              "\n",
              "    .dataframe tbody tr th {\n",
              "        vertical-align: top;\n",
              "    }\n",
              "\n",
              "    .dataframe thead th {\n",
              "        text-align: right;\n",
              "    }\n",
              "</style>\n",
              "<table border=\"1\" class=\"dataframe\">\n",
              "  <thead>\n",
              "    <tr style=\"text-align: right;\">\n",
              "      <th></th>\n",
              "      <th>text</th>\n",
              "      <th>spam</th>\n",
              "    </tr>\n",
              "  </thead>\n",
              "  <tbody>\n",
              "    <tr>\n",
              "      <th>1417</th>\n",
              "      <td>Subject: day off tuesday  stinson ,  i would l...</td>\n",
              "      <td>0</td>\n",
              "    </tr>\n",
              "    <tr>\n",
              "      <th>1508</th>\n",
              "      <td>Subject: re : enron weather research  good aft...</td>\n",
              "      <td>0</td>\n",
              "    </tr>\n",
              "    <tr>\n",
              "      <th>1532</th>\n",
              "      <td>Subject: schedule and more . .  dr . kaminski ...</td>\n",
              "      <td>0</td>\n",
              "    </tr>\n",
              "    <tr>\n",
              "      <th>1667</th>\n",
              "      <td>Subject: re : summer work . .  jinbaek ,  this...</td>\n",
              "      <td>0</td>\n",
              "    </tr>\n",
              "    <tr>\n",
              "      <th>1749</th>\n",
              "      <td>Subject: term paper  dr . kaminski ,  attached...</td>\n",
              "      <td>0</td>\n",
              "    </tr>\n",
              "  </tbody>\n",
              "</table>\n",
              "</div>\n",
              "    <div class=\"colab-df-buttons\">\n",
              "\n",
              "  <div class=\"colab-df-container\">\n",
              "    <button class=\"colab-df-convert\" onclick=\"convertToInteractive('df-072dae28-3865-4e66-8af8-e4985db8d8f9')\"\n",
              "            title=\"Convert this dataframe to an interactive table.\"\n",
              "            style=\"display:none;\">\n",
              "\n",
              "  <svg xmlns=\"http://www.w3.org/2000/svg\" height=\"24px\" viewBox=\"0 -960 960 960\">\n",
              "    <path d=\"M120-120v-720h720v720H120Zm60-500h600v-160H180v160Zm220 220h160v-160H400v160Zm0 220h160v-160H400v160ZM180-400h160v-160H180v160Zm440 0h160v-160H620v160ZM180-180h160v-160H180v160Zm440 0h160v-160H620v160Z\"/>\n",
              "  </svg>\n",
              "    </button>\n",
              "\n",
              "  <style>\n",
              "    .colab-df-container {\n",
              "      display:flex;\n",
              "      gap: 12px;\n",
              "    }\n",
              "\n",
              "    .colab-df-convert {\n",
              "      background-color: #E8F0FE;\n",
              "      border: none;\n",
              "      border-radius: 50%;\n",
              "      cursor: pointer;\n",
              "      display: none;\n",
              "      fill: #1967D2;\n",
              "      height: 32px;\n",
              "      padding: 0 0 0 0;\n",
              "      width: 32px;\n",
              "    }\n",
              "\n",
              "    .colab-df-convert:hover {\n",
              "      background-color: #E2EBFA;\n",
              "      box-shadow: 0px 1px 2px rgba(60, 64, 67, 0.3), 0px 1px 3px 1px rgba(60, 64, 67, 0.15);\n",
              "      fill: #174EA6;\n",
              "    }\n",
              "\n",
              "    .colab-df-buttons div {\n",
              "      margin-bottom: 4px;\n",
              "    }\n",
              "\n",
              "    [theme=dark] .colab-df-convert {\n",
              "      background-color: #3B4455;\n",
              "      fill: #D2E3FC;\n",
              "    }\n",
              "\n",
              "    [theme=dark] .colab-df-convert:hover {\n",
              "      background-color: #434B5C;\n",
              "      box-shadow: 0px 1px 3px 1px rgba(0, 0, 0, 0.15);\n",
              "      filter: drop-shadow(0px 1px 2px rgba(0, 0, 0, 0.3));\n",
              "      fill: #FFFFFF;\n",
              "    }\n",
              "  </style>\n",
              "\n",
              "    <script>\n",
              "      const buttonEl =\n",
              "        document.querySelector('#df-072dae28-3865-4e66-8af8-e4985db8d8f9 button.colab-df-convert');\n",
              "      buttonEl.style.display =\n",
              "        google.colab.kernel.accessAllowed ? 'block' : 'none';\n",
              "\n",
              "      async function convertToInteractive(key) {\n",
              "        const element = document.querySelector('#df-072dae28-3865-4e66-8af8-e4985db8d8f9');\n",
              "        const dataTable =\n",
              "          await google.colab.kernel.invokeFunction('convertToInteractive',\n",
              "                                                    [key], {});\n",
              "        if (!dataTable) return;\n",
              "\n",
              "        const docLinkHtml = 'Like what you see? Visit the ' +\n",
              "          '<a target=\"_blank\" href=https://colab.research.google.com/notebooks/data_table.ipynb>data table notebook</a>'\n",
              "          + ' to learn more about interactive tables.';\n",
              "        element.innerHTML = '';\n",
              "        dataTable['output_type'] = 'display_data';\n",
              "        await google.colab.output.renderOutput(dataTable, element);\n",
              "        const docLink = document.createElement('div');\n",
              "        docLink.innerHTML = docLinkHtml;\n",
              "        element.appendChild(docLink);\n",
              "      }\n",
              "    </script>\n",
              "  </div>\n",
              "\n",
              "\n",
              "    <div id=\"df-5f186164-fa54-4fe5-a173-109b1ddf45dc\">\n",
              "      <button class=\"colab-df-quickchart\" onclick=\"quickchart('df-5f186164-fa54-4fe5-a173-109b1ddf45dc')\"\n",
              "                title=\"Suggest charts\"\n",
              "                style=\"display:none;\">\n",
              "\n",
              "<svg xmlns=\"http://www.w3.org/2000/svg\" height=\"24px\"viewBox=\"0 0 24 24\"\n",
              "     width=\"24px\">\n",
              "    <g>\n",
              "        <path d=\"M19 3H5c-1.1 0-2 .9-2 2v14c0 1.1.9 2 2 2h14c1.1 0 2-.9 2-2V5c0-1.1-.9-2-2-2zM9 17H7v-7h2v7zm4 0h-2V7h2v10zm4 0h-2v-4h2v4z\"/>\n",
              "    </g>\n",
              "</svg>\n",
              "      </button>\n",
              "\n",
              "<style>\n",
              "  .colab-df-quickchart {\n",
              "      --bg-color: #E8F0FE;\n",
              "      --fill-color: #1967D2;\n",
              "      --hover-bg-color: #E2EBFA;\n",
              "      --hover-fill-color: #174EA6;\n",
              "      --disabled-fill-color: #AAA;\n",
              "      --disabled-bg-color: #DDD;\n",
              "  }\n",
              "\n",
              "  [theme=dark] .colab-df-quickchart {\n",
              "      --bg-color: #3B4455;\n",
              "      --fill-color: #D2E3FC;\n",
              "      --hover-bg-color: #434B5C;\n",
              "      --hover-fill-color: #FFFFFF;\n",
              "      --disabled-bg-color: #3B4455;\n",
              "      --disabled-fill-color: #666;\n",
              "  }\n",
              "\n",
              "  .colab-df-quickchart {\n",
              "    background-color: var(--bg-color);\n",
              "    border: none;\n",
              "    border-radius: 50%;\n",
              "    cursor: pointer;\n",
              "    display: none;\n",
              "    fill: var(--fill-color);\n",
              "    height: 32px;\n",
              "    padding: 0;\n",
              "    width: 32px;\n",
              "  }\n",
              "\n",
              "  .colab-df-quickchart:hover {\n",
              "    background-color: var(--hover-bg-color);\n",
              "    box-shadow: 0 1px 2px rgba(60, 64, 67, 0.3), 0 1px 3px 1px rgba(60, 64, 67, 0.15);\n",
              "    fill: var(--button-hover-fill-color);\n",
              "  }\n",
              "\n",
              "  .colab-df-quickchart-complete:disabled,\n",
              "  .colab-df-quickchart-complete:disabled:hover {\n",
              "    background-color: var(--disabled-bg-color);\n",
              "    fill: var(--disabled-fill-color);\n",
              "    box-shadow: none;\n",
              "  }\n",
              "\n",
              "  .colab-df-spinner {\n",
              "    border: 2px solid var(--fill-color);\n",
              "    border-color: transparent;\n",
              "    border-bottom-color: var(--fill-color);\n",
              "    animation:\n",
              "      spin 1s steps(1) infinite;\n",
              "  }\n",
              "\n",
              "  @keyframes spin {\n",
              "    0% {\n",
              "      border-color: transparent;\n",
              "      border-bottom-color: var(--fill-color);\n",
              "      border-left-color: var(--fill-color);\n",
              "    }\n",
              "    20% {\n",
              "      border-color: transparent;\n",
              "      border-left-color: var(--fill-color);\n",
              "      border-top-color: var(--fill-color);\n",
              "    }\n",
              "    30% {\n",
              "      border-color: transparent;\n",
              "      border-left-color: var(--fill-color);\n",
              "      border-top-color: var(--fill-color);\n",
              "      border-right-color: var(--fill-color);\n",
              "    }\n",
              "    40% {\n",
              "      border-color: transparent;\n",
              "      border-right-color: var(--fill-color);\n",
              "      border-top-color: var(--fill-color);\n",
              "    }\n",
              "    60% {\n",
              "      border-color: transparent;\n",
              "      border-right-color: var(--fill-color);\n",
              "    }\n",
              "    80% {\n",
              "      border-color: transparent;\n",
              "      border-right-color: var(--fill-color);\n",
              "      border-bottom-color: var(--fill-color);\n",
              "    }\n",
              "    90% {\n",
              "      border-color: transparent;\n",
              "      border-bottom-color: var(--fill-color);\n",
              "    }\n",
              "  }\n",
              "</style>\n",
              "\n",
              "      <script>\n",
              "        async function quickchart(key) {\n",
              "          const quickchartButtonEl =\n",
              "            document.querySelector('#' + key + ' button');\n",
              "          quickchartButtonEl.disabled = true;  // To prevent multiple clicks.\n",
              "          quickchartButtonEl.classList.add('colab-df-spinner');\n",
              "          try {\n",
              "            const charts = await google.colab.kernel.invokeFunction(\n",
              "                'suggestCharts', [key], {});\n",
              "          } catch (error) {\n",
              "            console.error('Error during call to suggestCharts:', error);\n",
              "          }\n",
              "          quickchartButtonEl.classList.remove('colab-df-spinner');\n",
              "          quickchartButtonEl.classList.add('colab-df-quickchart-complete');\n",
              "        }\n",
              "        (() => {\n",
              "          let quickchartButtonEl =\n",
              "            document.querySelector('#df-5f186164-fa54-4fe5-a173-109b1ddf45dc button');\n",
              "          quickchartButtonEl.style.display =\n",
              "            google.colab.kernel.accessAllowed ? 'block' : 'none';\n",
              "        })();\n",
              "      </script>\n",
              "    </div>\n",
              "\n",
              "    </div>\n",
              "  </div>\n"
            ],
            "application/vnd.google.colaboratory.intrinsic+json": {
              "type": "dataframe",
              "variable_name": "duplicate",
              "summary": "{\n  \"name\": \"duplicate\",\n  \"rows\": 33,\n  \"fields\": [\n    {\n      \"column\": \"text\",\n      \"properties\": {\n        \"dtype\": \"string\",\n        \"num_unique_values\": 33,\n        \"samples\": [\n          \"Subject: june 21 - 22 retail electricity conference  dear workshop participant :  i hope you will be able to join us for the conference on \\\" retail  participation in competitive power markets \\\" to be held at the littlefield  conference center , stanford university , on june 21 - 22 , 2001 . conference  attire will be business casual .  the meeting will begin on thursday morning , june 21 , at 9 : 00 a . m . and will  conclude by 5 : 00 p . m . on friday , june 22 . a continental breakfast will be  available in the meeting room each morning beginning at 8 : 30 a . m .  please visit the \\\" june 21 - 22 \\\" meeting under  for a description of the meeting and some information about hotels .  please help us in our planning by using the form there to respond back to  emf about your participation . we have listed potential participants and  planned presentations based upon previous messages . please update me with  any additional presentations or changes in existing presentations .  i look forward to seeing you in june . in the interim , please do not  hesitate to call me or email me if you have questions or suggestions  regarding this workshop .  hill huntington  hillard g . huntington  emf - an international forum on  energy and environmental markets voice : ( 650 ) 723 - 1050  408 terman center fax : ( 650 ) 725 - 5362  stanford university email : hillh @ stanford . edu  stanford , ca 94305 - 4026  emf website : http : / / www . stanford . edu / group / emf /\",\n          \"Subject: re : weather and energy price data  mulong ,  we shall send you natural gas henry hub prices right away .  please look at the last winter and the winter of  95 / 96 .  we shall prepare for you the electricity price  information ( cinergy , cobb and palo verde ) but  you have to approach ft ( the publishers of  megawatts daily , a newsletter that produces the price  index we recommend using ) and request the permision  to use the data . we are not allowed to distribute  this information .  please , explain that this is for academic research and that  we can produce the time series for you ,  conditional on the permission from the publishers  of megawatts daily .  vince kaminski  mulong wang on 04 / 15 / 2001 03 : 43 : 26 am  to : vkamins @ ect . enron . com  cc : richard macminn  subject : weather and energy price data  dear dr . kaminski :  i am a phd candidate under the supervision of drs . richard macminn and  patrick brockett . i am now working on my dissertation which is focused on  the weather derivatives and credit derivatives .  could you kindly please offer me some real weather data information about  the price peak or plummet because of the weather conditions ?  the past winter of 2000 was very cold nationwide , and there may be a  significant price jump for natural gas or electricity . could you  please offer me some energy price data during that time period ?  your kind assistance will be highly appreciated and have a great day !  mulong\",\n          \"Subject: re : interviews  vince ,  no problem , i know hr can slow the process down .  marshall brown  vice president  robert walters associates  phone # : 212 - 704 - 0596  fax # : 212 - 704 - 4312  marshall . brown @ robertwalters . com  www . robertwalters . com  > - - - - - original message - - - - -  > from : vince . j . kaminski @ enron . com [ smtp : vince . j . kaminski @ enron . com ]  > sent : friday , april 06 , 2001 5 : 50 pm  > to : marshall . brown @ robertwalters . com  > cc : vince . j . kaminski @ enron . com  > subject : re : interviews  >  >  > marshall ,  >  > sorry for a delay in responding to you .  > my hr people were asked to get in touch with you re  > the candidates .  >  > vince  >  >  >  >  >  > marshall brown on 03 / 27 / 2001 02 : 36 : 12  > pm  >  > to : \\\" ' vince kaminski ' \\\"  > cc :  > subject : interviews  >  >  > vince ,  > i had two candidates speak with zamin lu on 3 / 14 / 01 and 3 / 16 / 01 .  > ( renshi zhang and bill koures respectively ) . i know you were in london  > last  > week . if you could please give me some feedback ( either positive or  > negative ) as soon as possible , i would appreciate it .  > regards ,  >  > marshall brown  > vice president  > robert walters associates  > phone : 212 - 704 - 0596  > fax : 212 - 704 - 4312  > marshall . brown @ robertwalters . com  >  >  >  > * * * * * * * * * * * * * * * * * * * * * * * * * * * * * * * * * * * * * * * * * * * * * * * * * * * * * * * * * * * * * * * * * * * * * *  > caution : electronic mail sent through the internet is not secure and could  > be intercepted by a third party .  >  > this email and any files transmitted with it are confidential and  > intended solely for the use of the individual or entity to whom they  > are addressed . if you have received this email in error please notify  > the system manager .  >  > this footnote also confirms that this email message has been swept by  > mimesweeper for the presence of computer viruses .  >  > * * * * * * * * * * * * * * * * * * * * * * * * * * * * * * * * * * * * * * * * * * * * * * * * * * * * * * * * * * * * * * * * * * * * * *  >  >  >\"\n        ],\n        \"semantic_type\": \"\",\n        \"description\": \"\"\n      }\n    },\n    {\n      \"column\": \"spam\",\n      \"properties\": {\n        \"dtype\": \"number\",\n        \"std\": 0,\n        \"min\": 0,\n        \"max\": 0,\n        \"num_unique_values\": 1,\n        \"samples\": [\n          0\n        ],\n        \"semantic_type\": \"\",\n        \"description\": \"\"\n      }\n    }\n  ]\n}"
            }
          },
          "metadata": {},
          "execution_count": 11
        }
      ]
    },
    {
      "cell_type": "code",
      "source": [
        "#Remove Duplicate Records\n",
        "spam_df.drop_duplicates(inplace=True)\n",
        "spam_df.duplicated().sum()"
      ],
      "metadata": {
        "colab": {
          "base_uri": "https://localhost:8080/"
        },
        "id": "LaeP3oiddsWb",
        "outputId": "6243f5b0-ea32-4865-ba00-fc834b5d9242"
      },
      "execution_count": 12,
      "outputs": [
        {
          "output_type": "execute_result",
          "data": {
            "text/plain": [
              "np.int64(0)"
            ]
          },
          "metadata": {},
          "execution_count": 12
        }
      ]
    },
    {
      "cell_type": "code",
      "source": [
        "# Rename names columns\n",
        "spam_df=spam_df.rename(columns={'spam':'label'})"
      ],
      "metadata": {
        "id": "lgb1y1U0dxzi"
      },
      "execution_count": 13,
      "outputs": []
    },
    {
      "cell_type": "code",
      "source": [
        "spam_df[\"length\"] = spam_df[\"text\"].apply(len)\n",
        "spam_df.sort_values(by='length', ascending=False).head(3)"
      ],
      "metadata": {
        "colab": {
          "base_uri": "https://localhost:8080/",
          "height": 143
        },
        "id": "vSiuuQz-d50f",
        "outputId": "ab9aeeba-e60d-44b1-9abe-d1d06a788045"
      },
      "execution_count": 14,
      "outputs": [
        {
          "output_type": "execute_result",
          "data": {
            "text/plain": [
              "                                                   text  label  length\n",
              "2650  Subject: from the enron india newsdesk - april...      0   43952\n",
              "1380  Subject: from the enron india newsdesk - april...      0   43937\n",
              "2338  Subject: from the enron india newsdesk - april...      0   31055"
            ],
            "text/html": [
              "\n",
              "  <div id=\"df-ca392ffe-25b5-4b91-b1be-1c9f0e10eea6\" class=\"colab-df-container\">\n",
              "    <div>\n",
              "<style scoped>\n",
              "    .dataframe tbody tr th:only-of-type {\n",
              "        vertical-align: middle;\n",
              "    }\n",
              "\n",
              "    .dataframe tbody tr th {\n",
              "        vertical-align: top;\n",
              "    }\n",
              "\n",
              "    .dataframe thead th {\n",
              "        text-align: right;\n",
              "    }\n",
              "</style>\n",
              "<table border=\"1\" class=\"dataframe\">\n",
              "  <thead>\n",
              "    <tr style=\"text-align: right;\">\n",
              "      <th></th>\n",
              "      <th>text</th>\n",
              "      <th>label</th>\n",
              "      <th>length</th>\n",
              "    </tr>\n",
              "  </thead>\n",
              "  <tbody>\n",
              "    <tr>\n",
              "      <th>2650</th>\n",
              "      <td>Subject: from the enron india newsdesk - april...</td>\n",
              "      <td>0</td>\n",
              "      <td>43952</td>\n",
              "    </tr>\n",
              "    <tr>\n",
              "      <th>1380</th>\n",
              "      <td>Subject: from the enron india newsdesk - april...</td>\n",
              "      <td>0</td>\n",
              "      <td>43937</td>\n",
              "    </tr>\n",
              "    <tr>\n",
              "      <th>2338</th>\n",
              "      <td>Subject: from the enron india newsdesk - april...</td>\n",
              "      <td>0</td>\n",
              "      <td>31055</td>\n",
              "    </tr>\n",
              "  </tbody>\n",
              "</table>\n",
              "</div>\n",
              "    <div class=\"colab-df-buttons\">\n",
              "\n",
              "  <div class=\"colab-df-container\">\n",
              "    <button class=\"colab-df-convert\" onclick=\"convertToInteractive('df-ca392ffe-25b5-4b91-b1be-1c9f0e10eea6')\"\n",
              "            title=\"Convert this dataframe to an interactive table.\"\n",
              "            style=\"display:none;\">\n",
              "\n",
              "  <svg xmlns=\"http://www.w3.org/2000/svg\" height=\"24px\" viewBox=\"0 -960 960 960\">\n",
              "    <path d=\"M120-120v-720h720v720H120Zm60-500h600v-160H180v160Zm220 220h160v-160H400v160Zm0 220h160v-160H400v160ZM180-400h160v-160H180v160Zm440 0h160v-160H620v160ZM180-180h160v-160H180v160Zm440 0h160v-160H620v160Z\"/>\n",
              "  </svg>\n",
              "    </button>\n",
              "\n",
              "  <style>\n",
              "    .colab-df-container {\n",
              "      display:flex;\n",
              "      gap: 12px;\n",
              "    }\n",
              "\n",
              "    .colab-df-convert {\n",
              "      background-color: #E8F0FE;\n",
              "      border: none;\n",
              "      border-radius: 50%;\n",
              "      cursor: pointer;\n",
              "      display: none;\n",
              "      fill: #1967D2;\n",
              "      height: 32px;\n",
              "      padding: 0 0 0 0;\n",
              "      width: 32px;\n",
              "    }\n",
              "\n",
              "    .colab-df-convert:hover {\n",
              "      background-color: #E2EBFA;\n",
              "      box-shadow: 0px 1px 2px rgba(60, 64, 67, 0.3), 0px 1px 3px 1px rgba(60, 64, 67, 0.15);\n",
              "      fill: #174EA6;\n",
              "    }\n",
              "\n",
              "    .colab-df-buttons div {\n",
              "      margin-bottom: 4px;\n",
              "    }\n",
              "\n",
              "    [theme=dark] .colab-df-convert {\n",
              "      background-color: #3B4455;\n",
              "      fill: #D2E3FC;\n",
              "    }\n",
              "\n",
              "    [theme=dark] .colab-df-convert:hover {\n",
              "      background-color: #434B5C;\n",
              "      box-shadow: 0px 1px 3px 1px rgba(0, 0, 0, 0.15);\n",
              "      filter: drop-shadow(0px 1px 2px rgba(0, 0, 0, 0.3));\n",
              "      fill: #FFFFFF;\n",
              "    }\n",
              "  </style>\n",
              "\n",
              "    <script>\n",
              "      const buttonEl =\n",
              "        document.querySelector('#df-ca392ffe-25b5-4b91-b1be-1c9f0e10eea6 button.colab-df-convert');\n",
              "      buttonEl.style.display =\n",
              "        google.colab.kernel.accessAllowed ? 'block' : 'none';\n",
              "\n",
              "      async function convertToInteractive(key) {\n",
              "        const element = document.querySelector('#df-ca392ffe-25b5-4b91-b1be-1c9f0e10eea6');\n",
              "        const dataTable =\n",
              "          await google.colab.kernel.invokeFunction('convertToInteractive',\n",
              "                                                    [key], {});\n",
              "        if (!dataTable) return;\n",
              "\n",
              "        const docLinkHtml = 'Like what you see? Visit the ' +\n",
              "          '<a target=\"_blank\" href=https://colab.research.google.com/notebooks/data_table.ipynb>data table notebook</a>'\n",
              "          + ' to learn more about interactive tables.';\n",
              "        element.innerHTML = '';\n",
              "        dataTable['output_type'] = 'display_data';\n",
              "        await google.colab.output.renderOutput(dataTable, element);\n",
              "        const docLink = document.createElement('div');\n",
              "        docLink.innerHTML = docLinkHtml;\n",
              "        element.appendChild(docLink);\n",
              "      }\n",
              "    </script>\n",
              "  </div>\n",
              "\n",
              "\n",
              "    <div id=\"df-04a39ebc-b7ba-4188-a127-535dccfb1887\">\n",
              "      <button class=\"colab-df-quickchart\" onclick=\"quickchart('df-04a39ebc-b7ba-4188-a127-535dccfb1887')\"\n",
              "                title=\"Suggest charts\"\n",
              "                style=\"display:none;\">\n",
              "\n",
              "<svg xmlns=\"http://www.w3.org/2000/svg\" height=\"24px\"viewBox=\"0 0 24 24\"\n",
              "     width=\"24px\">\n",
              "    <g>\n",
              "        <path d=\"M19 3H5c-1.1 0-2 .9-2 2v14c0 1.1.9 2 2 2h14c1.1 0 2-.9 2-2V5c0-1.1-.9-2-2-2zM9 17H7v-7h2v7zm4 0h-2V7h2v10zm4 0h-2v-4h2v4z\"/>\n",
              "    </g>\n",
              "</svg>\n",
              "      </button>\n",
              "\n",
              "<style>\n",
              "  .colab-df-quickchart {\n",
              "      --bg-color: #E8F0FE;\n",
              "      --fill-color: #1967D2;\n",
              "      --hover-bg-color: #E2EBFA;\n",
              "      --hover-fill-color: #174EA6;\n",
              "      --disabled-fill-color: #AAA;\n",
              "      --disabled-bg-color: #DDD;\n",
              "  }\n",
              "\n",
              "  [theme=dark] .colab-df-quickchart {\n",
              "      --bg-color: #3B4455;\n",
              "      --fill-color: #D2E3FC;\n",
              "      --hover-bg-color: #434B5C;\n",
              "      --hover-fill-color: #FFFFFF;\n",
              "      --disabled-bg-color: #3B4455;\n",
              "      --disabled-fill-color: #666;\n",
              "  }\n",
              "\n",
              "  .colab-df-quickchart {\n",
              "    background-color: var(--bg-color);\n",
              "    border: none;\n",
              "    border-radius: 50%;\n",
              "    cursor: pointer;\n",
              "    display: none;\n",
              "    fill: var(--fill-color);\n",
              "    height: 32px;\n",
              "    padding: 0;\n",
              "    width: 32px;\n",
              "  }\n",
              "\n",
              "  .colab-df-quickchart:hover {\n",
              "    background-color: var(--hover-bg-color);\n",
              "    box-shadow: 0 1px 2px rgba(60, 64, 67, 0.3), 0 1px 3px 1px rgba(60, 64, 67, 0.15);\n",
              "    fill: var(--button-hover-fill-color);\n",
              "  }\n",
              "\n",
              "  .colab-df-quickchart-complete:disabled,\n",
              "  .colab-df-quickchart-complete:disabled:hover {\n",
              "    background-color: var(--disabled-bg-color);\n",
              "    fill: var(--disabled-fill-color);\n",
              "    box-shadow: none;\n",
              "  }\n",
              "\n",
              "  .colab-df-spinner {\n",
              "    border: 2px solid var(--fill-color);\n",
              "    border-color: transparent;\n",
              "    border-bottom-color: var(--fill-color);\n",
              "    animation:\n",
              "      spin 1s steps(1) infinite;\n",
              "  }\n",
              "\n",
              "  @keyframes spin {\n",
              "    0% {\n",
              "      border-color: transparent;\n",
              "      border-bottom-color: var(--fill-color);\n",
              "      border-left-color: var(--fill-color);\n",
              "    }\n",
              "    20% {\n",
              "      border-color: transparent;\n",
              "      border-left-color: var(--fill-color);\n",
              "      border-top-color: var(--fill-color);\n",
              "    }\n",
              "    30% {\n",
              "      border-color: transparent;\n",
              "      border-left-color: var(--fill-color);\n",
              "      border-top-color: var(--fill-color);\n",
              "      border-right-color: var(--fill-color);\n",
              "    }\n",
              "    40% {\n",
              "      border-color: transparent;\n",
              "      border-right-color: var(--fill-color);\n",
              "      border-top-color: var(--fill-color);\n",
              "    }\n",
              "    60% {\n",
              "      border-color: transparent;\n",
              "      border-right-color: var(--fill-color);\n",
              "    }\n",
              "    80% {\n",
              "      border-color: transparent;\n",
              "      border-right-color: var(--fill-color);\n",
              "      border-bottom-color: var(--fill-color);\n",
              "    }\n",
              "    90% {\n",
              "      border-color: transparent;\n",
              "      border-bottom-color: var(--fill-color);\n",
              "    }\n",
              "  }\n",
              "</style>\n",
              "\n",
              "      <script>\n",
              "        async function quickchart(key) {\n",
              "          const quickchartButtonEl =\n",
              "            document.querySelector('#' + key + ' button');\n",
              "          quickchartButtonEl.disabled = true;  // To prevent multiple clicks.\n",
              "          quickchartButtonEl.classList.add('colab-df-spinner');\n",
              "          try {\n",
              "            const charts = await google.colab.kernel.invokeFunction(\n",
              "                'suggestCharts', [key], {});\n",
              "          } catch (error) {\n",
              "            console.error('Error during call to suggestCharts:', error);\n",
              "          }\n",
              "          quickchartButtonEl.classList.remove('colab-df-spinner');\n",
              "          quickchartButtonEl.classList.add('colab-df-quickchart-complete');\n",
              "        }\n",
              "        (() => {\n",
              "          let quickchartButtonEl =\n",
              "            document.querySelector('#df-04a39ebc-b7ba-4188-a127-535dccfb1887 button');\n",
              "          quickchartButtonEl.style.display =\n",
              "            google.colab.kernel.accessAllowed ? 'block' : 'none';\n",
              "        })();\n",
              "      </script>\n",
              "    </div>\n",
              "\n",
              "    </div>\n",
              "  </div>\n"
            ],
            "application/vnd.google.colaboratory.intrinsic+json": {
              "type": "dataframe",
              "summary": "{\n  \"name\": \"spam_df\",\n  \"rows\": 3,\n  \"fields\": [\n    {\n      \"column\": \"text\",\n      \"properties\": {\n        \"dtype\": \"string\",\n        \"num_unique_values\": 3,\n        \"samples\": [\n          \"Subject: from the enron india newsdesk - april 27 th newsclips  fyi news articles from indian press .  - - - - - - - - - - - - - - - - - - - - - - forwarded by sandeep kohli / enron _ development on 04 / 27 / 2001 08 : 24 am - - - - - - - - - - - - - - - - - - - - - - - - - - -  nikita varma  04 / 27 / 2001 07 : 51 am  to : nikita varma / enron _ development @ enron _ development  cc : ( bcc : sandeep kohli / enron _ development )  subject : from the enron india newsdesk - april 27 th newsclips  friday apr 27 2001 , http : / / www . economictimes . com / today / cmo 3 . htm  dpc board empowers md to cancel mseb contract  friday apr 27 2001 , http : / / www . economictimes . com / today / 27 compl 1 . htm  mseb pays rs 134 cr under ' protest ' to dpc  friday , april 27 , 001 , http : / / www . businessstandard . com / today / economy 4 . asp ? menu = 3  enron india md authorised to terminate ppa  friday , april 27 , 2001 , http : / / www . financialexpress . com / fe 20010427 / topl . html  foreign lenders slam brakes on disbursements to dpc , sanjay jog & raghu mohan  global banks comfortable with enron pull - out  friday , april 27 , 2001 , http : / / www . indian - express . com / ie 20010427 / nat 23 . html  enron : dabhol chief gets powers to end deal with the mseb  friday , april 27 , 2001 , http : / / www . the - hindu . com / stories / 0227000 d . htm  offer of renegotiation ' too late ' : enron , by mahesh vijapurkar  friday , 27 april 2001 , http : / / www . timesofindia . com / today / 27 home 2 . htm  enron ready to pull out , but lenders say wait  friday , april 27 , 2001 , http : / / www . hindubusinessline . com / stories / 142756 dh . htm  dpc board authorises md to issue ppa termination notice  friday , april 27 , 2001 , http : / / www . dailypioneer . com / secon 2 . asp ? cat = story 7 & d = front _ page  enron testing maharashtra ' s nerves , t n raghunatha  friday , april 27 , 2001 , http : / / www . telegraphindia . com /  enron signal to switch off dabhol power  friday , april 27 , 2001 , http : / / www . thestatesman . org / page . news . php 3 ? id = 13026 & type = pageone & theme = a  enron threatens to pull out  friday , april 27 , 2001 , http : / / www . chalomumbai . com / asp / article . asp ? cat _ id = 29 & art _ id = 10006 & cat _ code = 2 f 574841545 f 535 f 4 f 4 e 5 f 4 d 554 d 4241492 f 5441415 a 415 f 4 b 4841424152  ' dpc may not wind up '  friday , april 27 , 2001 , http : / / www . chalomumbai . com / asp / article . asp ? cat _ id = 29 & cat _ code = 2 f 574841545 f 535 f 4 f 4 e 5 f 4 d 554 d 4241492 f 5441415 a 415 f 4 b 4841424152 & art _ id = 9953  enron offers ' no comment ' on renegotiation , h s rao  http : / / www . afternoondc . com /  ' enron ' s on ! '  state govt . to renegotiate dabhol power project , by hubert vaz  the economic times , friday apr 27 2001  dpc board empowers md to cancel mseb contract  the enron power project crisis on thursday deepened with the board of dabhol power company authorising the management to issue a termination notice to the maharashtra state electricity board even while international lenders to the project asked enron to renegotiate power purchase agreement signed with the mseb .  the decision to authorise managing director neil mcgregor to issue \\\" notice of termination on the contract to sell 740 mw of power \\\" was taken after the board prevented mseb from voting on the ground that it was an interested party . the decision was taken with six votes in favour and the single opposition vote was cast by idbi , sources said .  according to reports , financial institutions such as anz investment bank , credit suisse first boston , citibank , abn - amro and the state bank of india have on wednesday advised enron against terminating its ppa with mseb . mseb chairman vinay bansal , who with two other directors attended the meeting on wednesday representing maharashtra ' s 15 per cent stake in the near $ 3 - billion project , said : \\\" the indian side told them that it would be unfortunate if enron broke the contract . \\\" while bansal declined comment on the board decision , the sources said the indian side had expressed its interest to holds talks on the issue rather than terminating the project and there were possibilities of a fresh power purchase agreement between the company and the state . ( pti )  the economic times , friday apr 27 2001  mseb pays rs 134 cr under ' protest ' to dpc  despite the threat of a possible termination notice hanging on its head , maharashtra state electricity board on thursday made a \\\" protest payment \\\" of rs 134 crore disputed amount , towards march bill of rs 146 . 64 crore to dabhol . \\\" we were ready with the payment on wednesday itself , but dpc officials could not collect the cheque due to the statewide bandh \\\" , a senior mseb official said . \\\" we have disputed payment of rs 12 . 64 crore and it would be now taken up at the disputes resolution forum , of which enron india managing director k wade cline and krishna rao are members \\\" , mseb sources said .  last week , dpc had dashed off a communication to the government and mseb that it would not accept \\\" protest payments \\\" anymore . cline had said the energy major shall treat such payments as an election to pay the sums , which mseb in fact owed dpc in full and that the company would also not recognise the \\\" purported protest or reservation \\\" . mseb had paid a rs 113 . 5 crore february bill in protest last month . on april 23 last , both domestic and international lenders of dpc had met in london and held exhaustive discussions the multinational ' s move to issue a termination notice to mseb and state government . ( pti )  business standard , friday , april 27 , 001  enron india md authorised to terminate ppa  the board of the enron - promoted dabhol power company ( dpc ) , at its meeting in london on wednesday , authorised the managing director of enron india to issue a notice for terminating the power purchase agreement to the maharashtra state electricity board and the state government . \\\" the board has authorised wade cline to serve the termination notice . however , this does not mean that the termination notice will be served immediately . it is only an enabling provision and will be used only if the situation arises , \\\" a state government source told business standard from london . he said dpc was under pressure from its lenders .  the dpc spokesperson here refused to comment on the issue . the hardening of the board ' s stand is in sharp contrast to the advice of dpc ' s lenders , who had warned enron not to precipitate matters by issuing a termination notice . the lenders had arrived at a consensus that the termination notice need not be served at this stage . serving of the notice requires a nod from the lenders , who have an exposure of about $ 2 billion in the project . sources said given the lenders ' strong opposition to termination of the contract , the enron board ' s \\\" enabling resolution \\\" did not have much significance beyond conveying a hardening of its stand with regard to the current imbroglio . the maharashtra chief minister had warned enron not to scuttle the process of crisis resolution by issuing a termination notice . the state government is to nominate an expert group to renegotiate the terms of the dabhol contract .  enron holds 65 per cent in dpc , while us - based ge and bechtel hold 10 per cent each . the balance 15 per cent is held by mseb through a special purpose vehicle , maharashtra power development corporation . the mseb representatives were not allowed to vote at the meeting since they were an interested party . the idbi representative protested against the board ' s decision . the meeting was attended by state energy secretary vm lal . the meeting was held against the backdrop of a dispute between mseb and dpc over payment of bills .  after mseb failed to pay rs 102 crore towards the december 2000 bill , dpc invoked the state government ' s guarantee and then the union government ' s counter guarantee . when payment of the rs 127 - crore january bill became overdue , dpc again invoked the state government ' s guarantee . mseb retaliated on january 28 , 2001 by slapping a rs 401 - crore penalty for non - supply of electricity at adequate levels . it demanded that dpc adjust the bills against this penalty . \\\" this stand of mseb was explained to dpc at the board meeting \\\" , a state government official said . the centre also supported mseb ' s stand and refused to honour the counter guarantee . the power company then invoked the political force majeure clause . a process of conciliation and arbitration between the centre and dpc is currently on .  the financial express , friday , april 27 , 2001  foreign lenders slam brakes on disbursements to dpc , sanjay jog & raghu mohan  global banks comfortable with enron pull - out  lenders to the dabhol power company ( dpc ) are a sharply divided lot . international lenders , in direct contrast to the stand taken by local ones led by the the industrial develoment bank of india ( idbi ) , are categorical that additional assistance to dpc ' s phase - ii will be held in abeyance despite the completion of 92 per cent of the project work . the stage is also set for a preliminary termination notice to be served by dpc to the maharashtra state electricity board ( mseb ) within the next four weeks . this follows the authorisation given to enron india ' s managing director k wade cline and dpc president & ceo neil mcgregor to serve the termination notice , and transfer notices to mseb , following wednesday ' s dpc board meeting in london .  the essence of the message from the international lenders following the london meeting with dpc board is : emotions do not work . contractual obligations and payments have to be met . we are convinced that the mseb has failed to meet its obligations . there is no point in enron continuing with the project and the company should get out of it . the structuring of dpc ' s debt has created two classes of lenders . in phase - i , international lenders are covered by a sovereign guarantee while in phase - ii , no lender is . however , all lenders have a parri passu charge , making attachment of assets a messy affair .  sources in international banks were quick to point out that local lenders to phase - ii of the project are worried that an awry dpc project will affect their interests more given that they have no security - other than assets - like a sovereign cover . \\\" it was this desperation that made local lenders like idbi slash the interest rates a few months back to 16 . 5 per cent from 21 . 5 per cent , \\\" a leading foreign banker pointed out . three points that were made clear and stressed in no uncertain terms by international lenders were : a ) there are contractual obligations b ) mseb was not punctual in its payments to dpc and c ) mseb adopted a confrontational position by slapping a rs 401 crore rebate charge on dpc for misdeclaration and default on the availability of power .  while local lenders led by idbi - with mseb parroting the same - were of the view that the current situation is a temporary one , international lenders were steadfast that pulling out of the project is the only way out . this is despite the stance taken by idbi and mseb that authorisation for termination given to mr cline and mr mcgregor was not called for . international bankers pointed out that they will now have to look at the issue of charges and protection for their loans in the event of the power project being scrapped in its present form . the points of contention are : a ) that phase - i of dpc is backed by a sovereign guarantee b ) phase - ii is not and c ) to the extent that phase - ii is covered by assets , cancellation of phase - ii may see all assets - even those under phase - i - getting attached . therefore , an examination on the segregation of assets under phase - i and phase - ii is now warranted .  pti adds : in a significant move , dpc board has empowered its management to sever power supply agreement with mseb , a move that could inflict a financial liability of about rs 2840 crore on the centre . a decision to authorise dpc president neil mcgregor to issue a termination notice to mseb for sale of power was taken by the board at its meeting on wednesday .  the indian express , friday , april 27 , 2001  enron : dabhol chief gets powers to end deal with the mseb  the board of dabhol power company , a subsidiary of houston - based enron corp , has decided to warn the maharashtra state electricity board ( mseb ) that it intends to pull the plug on its guhagar - based project . in a board meeting held in london on wednesday , the board decided to authorise dpc president and ceo neil mcgregor and enron india ' s managing director k wade cline to serve a ' ' preliminary ' ' termination notice for sale of power to the mseb within the next four weeks . the dabhol project has been mired in disputes since mseb began missing payments last year . mseb owes dabhol power $ 48 million for power delivered in december and january . the payment ran into a dispute after mseb slapped penalty notices of rs 401 crore on dpc for its failure to supply power within three hours of the demand being placed . but mseb has paid $ 24 million for february . and a payment of $ 31 million was made for march on thursday .  the $ 3 billion dabhol project is the largest foreign investment made in india to date . issuing the preliminary termination notice could enable dabhol to suspend deliveries as it negotiates payment disputes . while a preliminary termination notice is the first of three steps that could potentially lead to the abandonment of the project by enron , analysts have described the decision as a ' ' procedural ' ' move consistent with dpc ' s negotiating strategy to recover overdue payments from the mseb .  after the company issues the preliminary termination notice , step two would be an official termination notice , and step three would be a notice that the company is surrendering control of the project . if the project is terminated , the government of india will have to take a hit of $ 300 million besides paying bills of rs 1 , 500 crore for the next one year to enron as penalty . ' ' our ( centre ' s ) liability , if dabhol power project is terminated , would be one year ' s electricity bill and a termination fee of $ 300 million , ' ' power secretary a k basu said . ' ' contractually , the centre will have to pay one year ' s electricity bill , totalling at present prices about rs 1 , 400 - 1 , 500 crore , and take over dpc ' s debt , which stands at around $ 300 million , if the project was terminated , ' ' basu said in delhi . dabhol power is in the process of completing the second phase of the 2 , 184 - megawatt power - plant project , which is 95 per cent through .  while the international lenders to the project are pressurising the company to get out of the project , indian lenders , led by idbi , are asking the company to reconsider its decision on its termination notice . during the meeting in london , mseb which holds a 15 per cent stake in the project , had strongly opposed dpc ' s move to authorise cline and mcgregor to issue notices for termination .  mseb chairman vinay bansal and technical director prem paunikar - both directors on the dpc board - and the state principal secretary ( energy ) vm lal , an invitee to the board , raised the issue at the board meeting in london . mseb claimed that dpc was needlessly ' ' threatening ' ' to issue various arbitration notices and thereby interpreting the clauses of ppa in isolation . in recent weeks , dabhol has raised the stakes in its spat with the mseb , delivering a notice of political force majeure to maharashtra - a step typically invoked to dissolve a contract in case of an emergency like a war , coup , or a similar radical political event . in this case , dpc ' s move was viewed as a threat to stop providing electricity . dpc has come under fire because of the relatively high cost of its power . critics object to the company charging rs 7 . 1 a kilowatt - hour for its power , compared with around rs 1 . 5 a kilowatt - hour charged by other suppliers .  the hindu , friday , april 27 , 2001  offer of renegotiation ' too late ' : enron , by mahesh vijapurkar  mumbai , april 26 . the enron - sponsored dabhol power company , which last night authorised its local management to issue a notice of termination of its power purchase agreement ( ppa ) with the maharashtra state electricity board , has decided to keep a stiff upper lip . this , in turn , has stoked speculation that the switching off of power from its phase i plant was imminent , while in reality , a lengthy procedure has to be followed as prescribed within the ppa .  as one source familiar with the ppa told the hindu , ` ` it is not sudden death of the project ' ' and in all probability , the dpc , vexed with the developments , including sharp and pointed observations by the godbole committee , has chosen to only arm itself with a serious option . ` ` this would only eventually come into effect . it is not an overnight operation and a lot of legal work is involved ' ' . apparently , the dpc intends to do some arm - twisting .  at the board of directors meeting in london , which maharashtra was initially disinclined to attend but later used the forum to put across its contentions on the project , the dpc squarely told the mseb nominees on the board that the offer of renegotiation had come rather ` ` too late ' ' . it also said it did not see any room for optimism about the outcome . it did not , however , rule out the option of talks , thus underscoring the possibility that the decision to authorise termination was a new weapon .  the maharashtra chief minister , mr . vilasrao deshmukh , had hoped that dpc would not take any ` ` harsh step ' ' which would cause lot of damage to the interests of both the independent power producer and the government and today he expressed his dismay . in fact , the mandate of the team that went , on the strength of its stake in the dpc , was to put across the idea that negotiation was the requirement and not confrontation .  echo in ls  the enron issue also echoed in the lok sabha today where the power minister , mr . suresh prabhu , said that scrapping of the agreement would cost the centre rs . 2 , 840 crores , whose liability in the project agreement was limited . the centre ' s liability in case of termination is one year ' s electricity bill and a termination fee of $ 300 million .  blow to fis  the termination could prove to be a serious blow to the indian financial institutions ( fis ) which , under the leadership of the idbi , were trying to convince the other lenders of the project against the notice . the exposure of indian fis in the project is understood to be not covered by any guarantee either of the centre or the state .  the times of india , friday , 27 april 2001  enron ready to pull out , but lenders say wait  the dabhol power company board , which met on wednesday in london , authorised the company management to issue a termination notice to the maharashtra state electricity board . the company , however , may not pull out of the project yet , considering its lenders , who met on monday , opposed such a move and favoured renegotiations . sources present during both the meetings said that though foreign lenders supported enron on the termination issue , domestic financial institutions , led by the industrial development bank of india , prevailed over the deliberations to oppose any such drastic move . enron needs the lenders ' consent to file a pre - termination notice for pulling out from the project . the decision to empower dpc chief wade cline to issue a termination notice was taken with six votes in favour against a single idbi vote against such a move .  another significant development during the entire proceedings was that the financial institutions made it clear that further funding of phase ii of the project will depend on the government of india assuring payment mechanisms . institutions are yet to disburse about 30 per cent of the sanctioned package , which is crucial for completing the phase ii expansion project . ` ` the board has given powers to wade cline to issue a pre - termination notice . but the meeting quite unanimously felt the need of the hour is not to terminate the project but to initiate serious re - negotiation proceedings , ' ' said mseb chairman vinay bansal , who attended the board meeting . ` ` mseb presented their views to the board members and it was understood by enron which also included the rs 401 crore penalty issue which is heading for arbitration proceedings . ` ` we have also made it clear that the tariff structure of enron is quite high and a downward revision of tariffs is unavoidable , \\\" bansal added .  ` ` they cannot issue a termination notice without our consent since our exposure in the project is quite large and the lenders should approve any plans in that direction , ' ' said a top banker who was present during the lenders ' meet . ` ` there is a general consensus that the project must be completed and the proposal to terminate the ppa should be kept in abeyance , ' ' he added . the global arrangers for the dpc include anz investment bank , credit suisse first boston , abn - amro , citibank and the state bank of india , where all these parties conducted separate meetings with the company officials . however , some bankers said the company can file a termination notice even if one lender with a minimum 5 per cent exposure on the project favours such proceedings .  meanwhile , in a clear reversal of roles , maharashtra chief minister vilasrao deshmukh said that the state government was not keen on terminating the ppa . ` ` we will ask them to refrain from taking any such harsh steps since that would be bad news for all of us , including dpc , ' ' deshmukh said . deshmukh was echoing union power minister suresh prabhu ' s sentiments , who said that the government wanted an amicable settlement of the payment row . he , however , added that termination of the project would not hurt foreign investments , and dismissed warnings by analysts that winding up the $ 2 . 9 billion project would be a blow to india ' s efforts to woo foreign investors .  the dpc has already slapped one conciliation notice on the centre and three arbitration notices on the state government over non - payment of dues amounting to rs 213 crore and interest towards the bills due for december 2000 and january 2001 . meanwhile , mseb officials said in mumbai that the march bills amounting to rs 134 crore was paid on thursday as protest payment , despite the dispute over the amount .  when asked on the future course of action , bansal said it was up to the dpc .  the hindu businessline , friday , april 27 , 2001  dpc board authorises md to issue ppa termination notice  the board of directors of dabhol power company ( dpc ) has authorised the managing director , mr neil mcgregor , to issue the notice of intent to terminate its power purchase agreement ( ppa ) with the maharashtra state electricity board ( mseb ) ` ` at an appropriate time ' ' . the decision was taken at a board meeting held in london yesterday . ` ` while mseb , which is an ` interested party ' , was not allowed to vote , it made a presentation clarifying its stand on the matter , ' ' a senior state government official said .  the resolution to authorise the management to issue the termination notice was carried by six votes to one . idbi voted against the decision , the official said . the serving of the preliminary termination notice will lead to a six - month ` ` suspension period ' ' . according to clause 17 . 8 of the termination procedure , of the ppa : ` ` following the giving of a preliminary termination notice , the parties shall consult for a period of six months ( or such longer period as they may agree ) as to what step shall be taken with a view to mitigating the consequences of the relevant event having regard to all the circumstances . . . ' '  idbi and state bank of india , the principal indian lenders , had earlier persuaded the overseas lenders to hold their consent to the termination notice for some more time . at least one lender has to consent for the company to serve termination notice . it is understood that overseas lenders are in favour of termination of the project and are prepared to consent . however , domestic lenders are worried about the security of their advances if the ppa is abandoned mid - way .  according to institutional sources , indian lenders are trying to get all the parties concerned to thrash out outstanding issues . the maharashtra and central governments too are in favour of a conciliation . mr vilasrao deshmukh , chief minister of maharashtra , yesterday went on record that the state did not want the project terminated . mr yashwant sinha , union finance minister , is also understood to be of the same opinion . ` ` the dpc will now have to decide what is the ` appropriate time ' to serve the notice , ' ' the official said . mseb pays rs 134 crore : meanwhile , mseb has paid dpc rs 134 crore towards its march 2001 bill . mseb officials confirmed that the bill was paid ` in protest ' ' today morning . ` ` they ( dpc ) had billed us for an amount of rs 146 crore . we do not agree with some of the items included , ' ' a senior mseb official said .  the pioneer , friday , april 27 , 2001  enron testing maharashtra ' s nerves , t n raghunatha  dabhol power company ( dpc ) has begun to put fresh pressure on the maharashtra state electricity board ( mseb ) , the maharashtra state government and the centre for an early resolution to the prolonged dispute between them , if the dpc board of directors ' decision to authorise its managing director to serve a contract termination notice to the mseb is any indication .  the dpc board , in its meeting in london on wednesday , empowered the company management to sever its power supply agreement with mseb , a move that could inflict a financial liability of rs 2 , 840 crore on the centre . the decision to authorise the dpc management to issue a termination notice to mseb was taken by a vote of six to one after the maharasthra government representatives were prevented from voting on the ground of \\\" interested party \\\" .  when contacted , the company ' s mumbai - based spokesperson , mr jimmy mogal , declined to comment on the reports about the decision taken by the dpc board . \\\" we have nothing to say on the reports emanating from london . we will express our views after a few days , \\\" he said . however , maharashtra chief minister vilasrao deshmukh on thursday termed the dpc board ' s decision as \\\" unfortunate \\\" . \\\" we have already requested the company not to take any harsh decision \\\" , mr deshmukh said in mumbai .  official sources in the state energy ministry interpreted the dpc board ' s decision as a pressure tactic employed by the enron subsidiary to force the mseb to clear the pending power bills without any further delay . through its tough posture , the dpc wants to make its position stronger before it can formally agree for re - negotiations with the mseb , the centre and the state government for cutting the price of power supplied by it to the state electricity board . the sources said that the dpc ' s reported decision to authorise its managing director to stop electricity supply to the mseb did not mean that the enron subsidiary would actually go ahead with the scrapping of the power contract with the mseb .  \\\" if anything , the dpc ' s reported decision is to mount additional pressure on the mseb for clearance of pending power bills and put itself in a stronger position in settling its dispute with the mseb . as part of its plan to arm itself with powers to break a contract in case situation goes beyond its control , the dpc had recently served a political force majeure to the mseb , the centre and the state government , \\\" the sources said . not surprisingly , the dpc ' s london decision comes on the heels of the maharashtra government ' s decision to set up a high - level committee , comprising representatives of the mseb , the centre and the state government to re - negotiate with the enron ' s subsidiary company for reducing the cost of power supplied to the state electricity board . meanwhile , amidst the threat of a possible termination notice hanging on its head , the mseb on thursday made a \\\" protest payment \\\" of the rs 134 crore disputed amount towards march bill of rs 146 . 64 crore to dpc .  riday , april 27  the telegraph , friday , april 27 , 2001  enron signal to switch off dabhol power  enron today took the first decisive step out of the controversy - ridden dabhol power company when it won an authorisation from the company ' s board to stop sale of power to maharashtra state electricity board ( mseb ) .  the meeting of the company , of which the houston - based energy giant holds 65 per cent and the mseb 15 per cent , was attended by state energy secretary v m lal and mseb technical director p paunikar and it came days after its lenders discussed payment problems and a possible termination . the centre ' s liability , if enron decides to snap the agreement , will be a year ' s power bill and a termination fee of $ 300 million . however , the company will have to wait for six months from the day it serves the notice before it pulls the plug . the centre shrugged off the move , saying there would not be any adverse effect on foreign investment in power if enron walks out . \\\" we do not see fdi inflows into the power sector being hit , \\\" power minister suresh prabhu said . mseb officials said the ball is now in the court of dpc , which said its corporate policy did not allow it to comment on proceedings at board meetings . the decision coincided with a rs 134 - crore ' protest payment ' by the cash - strapped power board as part of the march bill worth rs 146 . 64 crore .  there was speculation that mseb coughed up the amount to cool frayed tempers at enron ' s hub in houston , and because it was rattled by the sudden turn of events in the past few days during which the dispute had come to a head . mseb officials brushed away the allusions , saying the cheque was ready on wednesday but could not be handed over to dpc because of the state - wide bandh . \\\" we have a disputed payment of rs 12 . 64 crore , which will be taken up at the dispute - resolution forum , \\\" a board official said . last week , dpc told the state government and mseb it would no longer accept protest payments in a move to fortify its legal position .  mseb officials say bechtel and general electric , the other partners who hold around 20 per cent in dpc , are willing to go along with enron corp in terminating the deal but financial institutions such as idbi are not game because it puts their loans at risk . investments made by indian institutions are not covered under the centre ' s and state ' s counter - guarantees , unlike those made by international lenders . maharashtra chief minister vilasrao deshmukh called enron ' s decision unfortunate . \\\" we had told state government officials attending the enron board meeting to stop the company from winding up its operations in the state as it will harm both parties . \\\"  the statesman , friday , april 27 , 2001  enron threatens to pull out  the enron crisis deepened with the board of directors of the dabhol power company deciding to authorise the managing director , mr k wade cline , to serve a notice of termination on the contract for the first phase of the $ 2 . 9 billion power project . the decision , which could lead to the cessation of dabhol ' s power supply to the state , was taken at the meeting held yesterday in london according to reports quoting the chairman of the maharashtra state electricity board , mr vinay bansal .  while dpc officials refuse to comment on anything , it is learnt that mseb was itself prepared to serve a legal notice of termination just two days before the meeting . mseb was said to have been dissuaded by the nationalist congress party president , mr sharad pawar , and union power minister mr suresh prabhu , who had talks in new delhi with the maharashtra chief minister , mr vilasrao deshmukh , and an mseb delegation last monday .  the state government has been served two arbitration notices while the centre is ready to go for conciliation with the dpc for failing to honour its counter - guarantee . further , the dpc has already slapped a notice of political force majeure which protects itself against undeserved claims in the event of exigencies that force it to take an extreme step . the union power minister , mr suresh prabhu , contended in delhi that since dpc contributed only 0 . 7 per cent of the total energy output of the country , its termination would not have such a phenomenal impact on the power situation .  however , if terminations proceedings go through , enron corp , a 65 per cent share - holder in the dabhol power company , would stand to net a hefty amount in damages . the union power secretary has been quoted as saying that termination of the dpc would cost the centre rs 1 , 800 crore , which is the total of one years ' electricity bill and a termination fee of $ 300 million . according to an energy analyst , mr pradyumna kaul , the total liability would not cross rs 350 crore . however mr prabhu said in the lok sabha today that the that scrapping of the agreement would cost the centre rs 2 , 840 crore . it is learnt that on 20 april , mr deshmukh had given the go - ahead to the mseb to prepare a legal notice to be issued to enron during the meeting of the dpc ' s board of directors on wednesday . at the meeting , the energy minister , padamsinh patil , energy secretary , mr vinay mohan lal and mseb chairman mr vinay bansal , were also present . the notice was prepared over the past weekend and taken by the delegation when they called on mr prabhu on 24 april . however , the politicians convinced them that enron would not get tough , given its huge stake in the project , and that such a notice would not be necessary . the meeting thus ended with the decision to renegotiate the power tariff , with enron ' s consent .  among those present at the london meeting were mr lal , mr bansal and mseb technical director , mr p paunikar , in their capacity as directors . however , they abstained from voting since they were deemed an interested party . the only vote to go against the decision was that of the idbi which is also represented on the board , it is learnt . the chief minister , mr vilasrao deshmukh , said the state was not in favour of terminating the project . this could mean that the latest manoeuvre to arm - twist the indian authorities could achieve its immediate target of getting the arrears accumulated over the past three months cleared . the mseb owes enron rs 146 . 64 crore for march 2001 and rs 229 crore for december 2000 and january 2001 . the centre today put up a brave face on enron ' s decision saying there would not be any adverse effect on foreign investment in power sector in the country , pti reported from new delhi .  \\\" there will be no adverse impact as a result of any action by any domestic or foreign company . as far as we are concerned there will be no adverse impact on fdi in power sector , \\\" power minister suresh prabhu told reporters when asked about dpc ' s decision to authorise management to issue a termination notice to mseb . emphasising that there would be no fallout of such decision , prabhu said after the meeting of the cabinet committee on economic affairs \\\" we are expecting cooperation from many scandinavian countries as well as european nations in the power sector . \\\" in fact not only the power minister but also the prime minister of norway was here to inaugurate a seminar on power and he promised lot of cooperation in the sector . \\\"  mid day  ' dpc may not wind up '  maharashtra chief secretary v ranganathan has said that though neil mcgregor , managing director of the dabhol power corporation ( dpc ) , has been given complete powers with regard to dpc ' s operations in the state , including the authority to wind up operations , it does not necessarily mean that mcgregor will issue such a termination notice . mcgregor was given the powers at a meeting of the dpc board in london on wednesday . ranganathan said that state officials , including maharashtra state electricity board ( mseb ) chairman vinay bansal and power secretary v m lal , have reported back to him about the meeting in london .  with regard to the state ' s failure to pay enron , ranganathan said , \\\" bills are prepared as per the power purchase agreement ( ppa ) and dpc owes some money to us . our people informed enron officials about this . . in fact , there was no reason to give powers to the md to slap a termination notice . \\\" in the london meeting , mseb and industrial development bank of india ( idbi ) representatives insisted that the dpc must pay rs 411 crore since it could not supply power whenever needed .  chief minister vilasrao deshmukh has already termed as unfortunate the decision of the board of the enron - promoted dpc to give mcgregor powers to wind up operations . deshmukh added , \\\" we have already requested enron not to take any harsh decision . \\\" deshmukh had earlier said , \\\" we have directed state government officials attending the dpc board meeting to desist the energy company from winding up operations in the state , as it would be harmful to both of us . \\\"  enron officials are keeping mum on the issue . mcgregor said , \\\" i am not going to give any comment . \\\"  mid day , april 27 , 2001  enron offers ' no comment ' on renegotiation , h s rao  a crucial meeting of the board of directors of the dabhol power company ( dpc ) , promoted by the us energy major enron , was held here yesterday apparently to discuss fate of its $ 900 - million power project in maharashtra , but there was no official word on the indian and state governments ' decision to renegotiate the contract .  an enron spokesman declined to divulge what transpired at the meeting , saying the issues discussed at the meeting were ' confidential ' . \\\" we have not received any direct communication . unless we get it and evaluate the details , we have no comments to make , \\\" the spokesman said when asked about the proposed decision on re - negotiation of the project in which the maharashtra state electricity board ( mseb ) has 15 per cent stake .  asked whether the board had taken a decision on empowering dpc managing director neil mcgregor to wind up its operations in india , the spokesman said he had nothing to say on them . enron has reportedly authorised mcgregor to look at various options including selling the company ' s stake in dpc . maharashtra chief minister vilasrao deshmukh said in mumbai that the state government would pay up the undisputed dues to the company . he said the maharashtra government \\\" is not in favour of terminating the 2184 - mw project , but wanted an amicable solution to the imbroglio . \\\"  mid day , friday , april 27 , 2001 ,  committee to renegotiate enron deal  a committee to renegotiate the power purchase agreement with the dabhol power company will be appointed by this evening , chief minister vilasrao deshmukh said today . addressing media persons after his meeting with the noted social reformer anna hazare at his official residence varsha , deshmukh said the committee would be formed by this evening or by tomorrow , at the most . he termed as unfortunate the enron board decision empowering dpc chief neil mcgregor to serve a preliminary termination notice on the maharashtra state electricity board and said the state was willing to negotiate the issue with power company .  \\\" renegotiations will be held as per the suggestions made by the godbole committee and the center will also depute its representative on the renegotiating committee . we don ' t want to take any hasty decision , \\\" deshmukh saidhe pointed that the only bone of contention with the dpc had been its expensive tariff and hoped that the issue would be resolved amicably . when pointed that the enron board had taken a decision to serve the notice despite state \\u0019 s willingness to appoint a renegotiating committee , chief minister said it was unfortunate .  earlier , in his meeting with hazare , deshmukh promised to make necessary amendments to the right to information law recently passed by the state so that the information was easily accessed by the common people . he also gave a patient hearing to hazare on his complaints of corruption in various state departments and promised action against guilty after a thorough inquiry within three months .  afternoon , april 27 , 2001  ' enron ' s on ! '  state govt . to renegotiate dabhol power project , by hubert vaz  the us power giant , enron power corporation ' s willingness to wrap up the dabhol power project and leave the shores may not actually materialise , though the dabhol power company chief , mr . wade cline , has been authorised to do so , since the lenders for the project would have a decisive say in the matter .  disclosing this , chief minister vilasrao deshmukh confirmed this morning that the state government would churn out a compromise formula by which the power project at dabhol could be continued , and at the same time enron did not feel slighted . \\\" enron has not yet conveyed to us about this decision . we are waiting for their letter , \\\" he said . when asked what sort of compromise the state government plans to forge , mr . deshmukh said , \\\" let our officers come back . after that we will decide a future course of action . but we are definitely going in for renegotiation of the project . it is very difficult to predict the outcome of enron ' s decision but as of now the project is still on . \\\" when asked whether the project could be moved to another state , if wound up from maharashtra , mr . deshmukh said , that was not possible as per the terms of the agreement between the us company and the state government . however , it was difficult for the project to move out of the state itself , he indicated . he also confirmed that both parties would face considerable losses if the project was terminated .  the board of directors of the dabhol power company , which met in london on wednesday , decided to put an end to all controversies surrounding the project once and for all by empowering the dpc chief to terminate the project , if he deemed it fit . however , this decision , as of now , does not necessarily indicate the death knell for the project . the enron project , which had been riddled with controversies right from its inception , had been a pretext for the political parties in the state to drag each other on the mat from time to time . the previous sena - bjp government , which had been out to terminate the project , however , chose to continue with it following renegotiations with enron ' s top visiting officials like ms . rebecca mark . and , the democratic front government inherited the controversial project when the governments changed hands a year and a half ago .  meanwhile , state energy minister dr . padamsinh patil , when contacted at the osmanabad circuit house , said the state government and the central government have decided to appoint a joint committee to renegotiate the project with enron . \\\" it is not easy for them to walk out of the project just like that . they will have to go in for litigation and this would prove costly for both sides , \\\" he said . in case the project is terminated , the government can still manage the power needs of the state , though it would be a bit tough job , he added .\",\n          \"Subject: from the enron india newsdesk - april 27 th newsclips  fyi news articles from indian press .  - - - - - - - - - - - - - - - - - - - - - - forwarded by sandeep kohli / enron _ development on  04 / 27 / 2001 08 : 24 am - - - - - - - - - - - - - - - - - - - - - - - - - - -  nikita varma  04 / 27 / 2001 07 : 51 am  to : nikita varma / enron _ development @ enron _ development  cc : ( bcc : sandeep kohli / enron _ development )  subject : from the enron india newsdesk - april 27 th newsclips  friday apr 27 2001 , http : / / www . economictimes . com / today / cmo 3 . htm  dpc board empowers md to cancel mseb contract  friday apr 27 2001 , http : / / www . economictimes . com / today / 27 compl 1 . htm  mseb pays rs 134 cr under ' protest ' to dpc  friday , april 27 , 001 ,  enron india md authorised to terminate ppa  friday , april 27 , 2001 , http : / / www . financialexpress . com / fe 20010427 / topl . html  foreign lenders slam brakes on disbursements to dpc , sanjay jog & raghu mohan  global banks comfortable with enron pull - out  friday , april 27 , 2001 , http : / / www . indian - express . com / ie 20010427 / nat 23 . html  enron : dabhol chief gets powers to end deal with the mseb  friday , april 27 , 2001 , http : / / www . the - hindu . com / stories / 0227000 d . htm  offer of renegotiation ' too late ' : enron , by mahesh vijapurkar  friday , 27 april 2001 , http : / / www . timesofindia . com / today / 27 home 2 . htm  enron ready to pull out , but lenders say wait  friday , april 27 , 2001 , http : / / www . hindubusinessline . com / stories / 142756 dh . htm  dpc board authorises md to issue ppa termination notice  friday , april 27 , 2001 ,  enron testing maharashtra ' s nerves , t n raghunatha  friday , april 27 , 2001 , http : / / www . telegraphindia . com /  enron signal to switch off dabhol power  friday , april 27 , 2001 ,  enron threatens to pull out  friday , april 27 , 2001 ,  ' dpc may not wind up '  friday , april 27 , 2001 ,  enron offers ' no comment ' on renegotiation , h s rao  http : / / www . afternoondc . com /  ' enron ' s on ! '  state govt . to renegotiate dabhol power project , by hubert vaz  the economic times , friday apr 27 2001  dpc board empowers md to cancel mseb contract  the enron power project crisis on thursday deepened with the board of dabhol  power company authorising the management to issue a termination notice to the  maharashtra state electricity board even while international lenders to the  project asked enron to renegotiate power purchase agreement signed with the  mseb .  the decision to authorise managing director neil mcgregor to issue \\\" notice of  termination on the contract to sell 740 mw of power \\\" was taken after the  board prevented mseb from voting on the ground that it was an interested  party . the decision was taken with six votes in favour and the single  opposition vote was cast by idbi , sources said .  according to reports , financial institutions such as anz investment bank ,  credit suisse first boston , citibank , abn - amro and the state bank of india  have on wednesday advised enron against terminating its ppa with mseb . mseb  chairman vinay bansal , who with two other directors attended the meeting on  wednesday representing maharashtra \\u0001 , s 15 per cent stake in the near $ 3 - billion  project , said : \\\" the indian side told them that it would be unfortunate if  enron broke the contract . \\\" while bansal declined comment on the board  decision , the sources said the indian side had expressed its interest to  holds talks on the issue rather than terminating the project and there were  possibilities of a fresh power purchase agreement between the company and the  state . ( pti )  the economic times , friday apr 27 2001  mseb pays rs 134 cr under ' protest ' to dpc  despite the threat of a possible termination notice hanging on its head ,  maharashtra state electricity board on thursday made a \\\" protest payment \\\" of  rs 134 crore disputed amount , towards march bill of rs 146 . 64 crore to  dabhol . \\\" we were ready with the payment on wednesday itself , but dpc  officials could not collect the cheque due to the statewide bandh \\\" , a senior  mseb official said . \\\" we have disputed payment of rs 12 . 64 crore and it would  be now taken up at the disputes resolution forum , of which enron india  managing director k wade cline and krishna rao are members \\\" , mseb sources  said .  last week , dpc had dashed off a communication to the government and mseb that  it would not accept \\\" protest payments \\\" anymore . cline had said the energy  major shall treat such payments as an election to pay the sums , which mseb in  fact owed dpc in full and that the company would also not recognise the  \\\" purported protest or reservation \\\" . mseb had paid a rs 113 . 5 crore february  bill in protest last month . on april 23 last , both domestic and international  lenders of dpc had met in london and held exhaustive discussions the  multinational ' s move to issue a termination notice to mseb and state  government . ( pti )  business standard , friday , april 27 , 001  enron india md authorised to terminate ppa  the board of the enron - promoted dabhol power company ( dpc ) , at its meeting in  london on wednesday , authorised the managing director of enron india to issue  a notice for terminating the power purchase agreement to the maharashtra  state electricity board and the state government . \\u0001 & the board has authorised  wade cline to serve the termination notice . however , this does not mean that  the termination notice will be served immediately . it is only an enabling  provision and will be used only if the situation arises , \\u0001 8 a state government  source told business standard from london . he said dpc was under pressure  from its lenders .  the dpc spokesperson here refused to comment on the issue . the hardening of  the board \\u0001 , s stand is in sharp contrast to the advice of dpc ' s lenders , who  had warned enron not to precipitate matters by issuing a termination notice .  the lenders had arrived at a consensus that the termination notice need not  be served at this stage . serving of the notice requires a nod from the  lenders , who have an exposure of about $ 2 billion in the project . sources  said given the lenders ' strong opposition to termination of the contract , the  enron board ' s \\\" enabling resolution \\\" did not have much significance beyond  conveying a hardening of its stand with regard to the current imbroglio . the  maharashtra chief minister had warned enron not to scuttle the process of  crisis resolution by issuing a termination notice . the state government is to  nominate an expert group to renegotiate the terms of the dabhol contract .  enron holds 65 per cent in dpc , while us - based ge and bechtel hold 10 per  cent each . the balance 15 per cent is held by mseb through a special purpose  vehicle , maharashtra power development corporation . the mseb representatives  were not allowed to vote at the meeting since they were an interested party .  the idbi representative protested against the board ' s decision . the meeting  was attended by state energy secretary vm lal . the meeting was held against  the backdrop of a dispute between mseb and dpc over payment of bills .  after mseb failed to pay rs 102 crore towards the december 2000 bill , dpc  invoked the state government ' s guarantee and then the union government ' s  counter guarantee . when payment of the rs 127 - crore january bill became  overdue , dpc again invoked the state government ' s guarantee . mseb retaliated  on january 28 , 2001 by slapping a rs 401 - crore penalty for non - supply of  electricity at adequate levels . it demanded that dpc adjust the bills against  this penalty . \\\" this stand of mseb was explained to dpc at the board meeting \\\" ,  a state government official said . the centre also supported mseb ' s stand and  refused to honour the counter guarantee . the power company then invoked the  political force majeure clause . a process of conciliation and arbitration  between the centre and dpc is currently on .  the financial express , friday , april 27 , 2001  foreign lenders slam brakes on disbursements to dpc , sanjay jog & raghu mohan  global banks comfortable with enron pull - out  lenders to the dabhol power company ( dpc ) are a sharply divided lot .  international lenders , in direct contrast to the stand taken by local ones  led by the the industrial develoment bank of india ( idbi ) , are categorical  that additional assistance to dpc \\u0001 , s phase - ii will be held in abeyance despite  the completion of 92 per cent of the project work . the stage is also set for a  preliminary termination notice to be served by dpc to the maharashtra state  electricity board ( mseb ) within the next four weeks . this follows the  authorisation given to enron india \\u0001 , s managing director k wade cline and dpc  president & ceo neil mcgregor to serve the termination notice , and transfer  notices to mseb , following wednesday \\u0001 , s dpc board meeting in london .  the essence of the message from the international lenders following the  london meeting with dpc board is : emotions do not work . contractual  obligations and payments have to be met . we are convinced that the mseb has  failed to meet its obligations . there is no point in enron continuing with  the project and the company should get out of it . the structuring of dpc \\u0001 , s  debt has created two classes of lenders . in phase - i , international lenders  are covered by a sovereign guarantee while in phase - ii , no lender is .  however , all lenders have a parri passu charge , making attachment of assets a  messy affair .  sources in international banks were quick to point out that local lenders to  phase - ii of the project are worried that an awry dpc project will affect  their interests more given that they have no security \\u0001 * other than assets \\u0001 *  like a sovereign cover . \\u0001 & it was this desperation that made local lenders like  idbi slash the interest rates a few months back to 16 . 5 per cent from 21 . 5  per cent , \\u0001 8 a leading foreign banker pointed out . three points that were made  clear and stressed in no uncertain terms by international lenders were : a )  there are contractual obligations b ) mseb was not punctual in its payments to  dpc and c ) mseb adopted a confrontational position by slapping a rs 401 crore  rebate charge on dpc for misdeclaration and default on the availability of  power .  while local lenders led by idbi \\u0001 * with mseb parroting the same \\u0001 * were of the  view that the current situation is a temporary one , international lenders  were steadfast that pulling out of the project is the only way out . this is  despite the stance taken by idbi and mseb that authorisation for termination  given to mr cline and mr mcgregor was not called for . international bankers  pointed out that they will now have to look at the issue of charges and  protection for their loans in the event of the power project being scrapped  in its present form . the points of contention are : a ) that phase - i of dpc is  backed by a sovereign guarantee b ) phase - ii is not and c ) to the extent that  phase - ii is covered by assets , cancellation of phase - ii may see all assets \\u0001 *  even those under phase - i \\u0001 * getting attached . therefore , an examination on the  segregation of assets under phase - i and phase - ii is now warranted .  pti adds : in a significant move , dpc board has empowered its management to  sever power supply agreement with mseb , a move that could inflict a financial  liability of about rs 2840 crore on the centre . a decision to authorise dpc  president neil mcgregor to issue a termination notice to mseb for sale of  power was taken by the board at its meeting on wednesday .  the indian express , friday , april 27 , 2001  enron : dabhol chief gets powers to end deal with the mseb  the board of dabhol power company , a subsidiary of houston - based enron corp ,  has decided to warn the maharashtra state electricity board ( mseb ) that it  intends to pull the plug on its guhagar - based project . in a board meeting held  in london on wednesday , the board decided to authorise dpc president and ceo  neil mcgregor and enron india \\u0001 , s managing director k wade cline to serve a  \\u0001 + \\u0001 + preliminary \\u0001 , \\u0001 , termination notice for sale of power to the mseb within the  next four weeks . the dabhol project has been mired in disputes since mseb  began missing payments last year . mseb owes dabhol power $ 48 million for  power delivered in december and january . the payment ran into a dispute after  mseb slapped penalty notices of rs 401 crore on dpc for its failure to supply  power within three hours of the demand being placed . but mseb has paid $ 24  million for february . and a payment of $ 31 million was made for march on  thursday .  the $ 3 billion dabhol project is the largest foreign investment made in india  to date . issuing the preliminary termination notice could enable dabhol to  suspend deliveries as it negotiates payment disputes . while a preliminary  termination notice is the first of three steps that could potentially lead to  the abandonment of the project by enron , analysts have described the decision  as a \\u0001 + \\u0001 + procedural \\u0001 , \\u0001 , move consistent with dpc \\u0001 , s negotiating strategy to  recover overdue payments from the mseb .  after the company issues the preliminary termination notice , step two would  be an official termination notice , and step three would be a notice that the  company is surrendering control of the project . if the project is terminated ,  the government of india will have to take a hit of $ 300 million besides  paying bills of rs 1 , 500 crore for the next one year to enron as penalty .  \\u0001 + \\u0001 + our ( centre \\u0001 , s ) liability , if dabhol power project is terminated , would be  one year \\u0001 , s electricity bill and a termination fee of $ 300 million , \\u0001 , \\u0001 , power  secretary a k basu said . \\u0001 + \\u0001 + contractually , the centre will have to pay one year \\u0001 ,  s electricity bill , totalling at present prices about rs 1 , 400 - 1 , 500 crore ,  and take over dpc \\u0001 , s debt , which stands at around $ 300 million , if the project  was terminated , \\u0001 , \\u0001 , basu said in delhi . dabhol power is in the process of  completing the second phase of the 2 , 184 - megawatt power - plant project , which  is 95 per cent through .  while the international lenders to the project are pressurising the company  to get out of the project , indian lenders , led by idbi , are asking the  company to reconsider its decision on its termination notice . during the  meeting in london , mseb which holds a 15 per cent stake in the project , had  strongly opposed dpc \\u0001 , s move to authorise cline and mcgregor to issue notices  for termination .  mseb chairman vinay bansal and technical director prem paunikar \\u0001 * both  directors on the dpc board \\u0001 * and the state principal secretary ( energy ) vm  lal , an invitee to the board , raised the issue at the board meeting in  london . mseb claimed that dpc was needlessly \\u0001 + \\u0001 + threatening \\u0001 , \\u0001 , to issue various  arbitration notices and thereby interpreting the clauses of ppa in  isolation . in recent weeks , dabhol has raised the stakes in its spat with the  mseb , delivering a notice of political force majeure to maharashtra \\u0001 * a step  typically invoked to dissolve a contract in case of an emergency like a war ,  coup , or a similar radical political event . in this case , dpc \\u0001 , s move was  viewed as a threat to stop providing electricity . dpc has come under fire  because of the relatively high cost of its power . critics object to the  company charging rs 7 . 1 a kilowatt - hour for its power , compared with around  rs 1 . 5 a kilowatt - hour charged by other suppliers .  the hindu , friday , april 27 , 2001  offer of renegotiation ' too late ' : enron , by mahesh vijapurkar  mumbai , april 26 . the enron - sponsored dabhol power company , which last night  authorised its local management to issue a notice of termination of its power  purchase agreement ( ppa ) with the maharashtra state electricity board , has  decided to keep a stiff upper lip . this , in turn , has stoked speculation that  the switching off of power from its phase i plant was imminent , while in  reality , a lengthy procedure has to be followed as prescribed within the ppa .  as one source familiar with the ppa told the hindu , ` ` it is not sudden death  of the project ' ' and in all probability , the dpc , vexed with the  developments , including sharp and pointed observations by the godbole  committee , has chosen to only arm itself with a serious option . ` ` this would  only eventually come into effect . it is not an overnight operation and a lot  of legal work is involved ' ' . apparently , the dpc intends to do some  arm - twisting .  at the board of directors meeting in london , which maharashtra was initially  disinclined to attend but later used the forum to put across its contentions  on the project , the dpc squarely told the mseb nominees on the board that the  offer of renegotiation had come rather ` ` too late ' ' . it also said it did not  see any room for optimism about the outcome . it did not , however , rule out  the option of talks , thus underscoring the possibility that the decision to  authorise termination was a new weapon .  the maharashtra chief minister , mr . vilasrao deshmukh , had hoped that dpc  would not take any ` ` harsh step ' ' which would cause lot of damage to the  interests of both the independent power producer and the government and today  he expressed his dismay . in fact , the mandate of the team that went , on the  strength of its stake in the dpc , was to put across the idea that negotiation  was the requirement and not confrontation .  echo in ls  the enron issue also echoed in the lok sabha today where the power minister ,  mr . suresh prabhu , said that scrapping of the agreement would cost the centre  rs . 2 , 840 crores , whose liability in the project agreement was limited . the  centre ' s liability in case of termination is one year ' s electricity bill and  a termination fee of $ 300 million .  blow to fis  the termination could prove to be a serious blow to the indian financial  institutions ( fis ) which , under the leadership of the idbi , were trying to  convince the other lenders of the project against the notice . the exposure of  indian fis in the project is understood to be not covered by any guarantee  either of the centre or the state .  the times of india , friday , 27 april 2001  enron ready to pull out , but lenders say wait  the dabhol power company board , which met on wednesday in london , authorised  the company management to issue a termination notice to the maharashtra state  electricity board . the company , however , may not pull out of the project yet ,  considering its lenders , who met on monday , opposed such a move and favoured  renegotiations . sources present during both the meetings said that though  foreign lenders supported enron on the termination issue , domestic financial  institutions , led by the industrial development bank of india , prevailed over  the deliberations to oppose any such drastic move . enron needs the lenders '  consent to file a pre - termination notice for pulling out from the project .  the decision to empower dpc chief wade cline to issue a termination notice  was taken with six votes in favour against a single idbi vote against such a  move .  another significant development during the entire proceedings was that the  financial institutions made it clear that further funding of phase ii of the  project will depend on the government of india assuring payment mechanisms .  institutions are yet to disburse about 30 per cent of the sanctioned package ,  which is crucial for completing the phase ii expansion project . ` ` the board  has given powers to wade cline to issue a pre - termination notice . but the  meeting quite unanimously felt the need of the hour is not to terminate the  project but to initiate serious re - negotiation proceedings , ' ' said mseb  chairman vinay bansal , who attended the board meeting . ` ` mseb presented their  views to the board members and it was understood by enron which also included  the rs 401 crore penalty issue which is heading for arbitration proceedings .  ` ` we have also made it clear that the tariff structure of enron is quite high  and a downward revision of tariffs is unavoidable , \\\" bansal added .  ` ` they cannot issue a termination notice without our consent since our  exposure in the project is quite large and the lenders should approve any  plans in that direction , ' ' said a top banker who was present during the  lenders ' meet . ` ` there is a general consensus that the project must be  completed and the proposal to terminate the ppa should be kept in abeyance , ' '  he added . the global arrangers for the dpc include anz investment bank ,  credit suisse first boston , abn - amro , citibank and the state bank of india ,  where all these parties conducted separate meetings with the company  officials . however , some bankers said the company can file a termination  notice even if one lender with a minimum 5 per cent exposure on the project  favours such proceedings .  meanwhile , in a clear reversal of roles , maharashtra chief minister vilasrao  deshmukh said that the state government was not keen on terminating the ppa .  ` ` we will ask them to refrain from taking any such harsh steps since that  would be bad news for all of us , including dpc , ' ' deshmukh said . deshmukh was  echoing union power minister suresh prabhu ' s sentiments , who said that the  government wanted an amicable settlement of the payment row . he , however ,  added that termination of the project would not hurt foreign investments , and  dismissed warnings by analysts that winding up the $ 2 . 9 billion project would  be a blow to india ' s efforts to woo foreign investors .  the dpc has already slapped one conciliation notice on the centre and three  arbitration notices on the state government over non - payment of dues  amounting to rs 213 crore and interest towards the bills due for december  2000 and january 2001 . meanwhile , mseb officials said in mumbai that the  march bills amounting to rs 134 crore was paid on thursday as protest  payment , despite the dispute over the amount .  when asked on the future course of action , bansal said it was up to the dpc .  the hindu businessline , friday , april 27 , 2001  dpc board authorises md to issue ppa termination notice  the board of directors of dabhol power company ( dpc ) has authorised the  managing director , mr neil mcgregor , to issue the notice of intent to  terminate its power purchase agreement ( ppa ) with the maharashtra state  electricity board ( mseb ) ` ` at an appropriate time ' ' . the decision was taken  at a board meeting held in london yesterday . ` ` while mseb , which is an  ` interested party ' , was not allowed to vote , it made a presentation  clarifying its stand on the matter , ' ' a senior state government official  said .  the resolution to authorise the management to issue the termination notice  was carried by six votes to one . idbi voted against the decision , the  official said . the serving of the preliminary termination notice will lead to  a six - month ` ` suspension period ' ' . according to clause 17 . 8 of the  termination procedure , of the ppa : ` ` following the giving of a preliminary  termination notice , the parties shall consult for a period of six months ( or  such longer period as they may agree ) as to what step shall be taken with a  view to mitigating the consequences of the relevant event having regard to  all the circumstances . . . ' '  idbi and state bank of india , the principal indian lenders , had earlier  persuaded the overseas lenders to hold their consent to the termination  notice for some more time . at least one lender has to consent for the company  to serve termination notice . it is understood that overseas lenders are in  favour of termination of the project and are prepared to consent . however ,  domestic lenders are worried about the security of their advances if the ppa  is abandoned mid - way .  according to institutional sources , indian lenders are trying to get all the  parties concerned to thrash out outstanding issues . the maharashtra and  central governments too are in favour of a conciliation . mr vilasrao  deshmukh , chief minister of maharashtra , yesterday went on record that the  state did not want the project terminated . mr yashwant sinha , union finance  minister , is also understood to be of the same opinion . ` ` the dpc will now  have to decide what is the ` appropriate time ' to serve the notice , ' ' the  official said . mseb pays rs 134 crore : meanwhile , mseb has paid dpc rs 134  crore towards its march 2001 bill . mseb officials confirmed that the bill was  paid ` in protest ' ' today morning . ` ` they ( dpc ) had billed us for an amount of  rs 146 crore . we do not agree with some of the items included , ' ' a senior  mseb official said .  the pioneer , friday , april 27 , 2001  enron testing maharashtra ' s nerves , t n raghunatha  dabhol power company ( dpc ) has begun to put fresh pressure on the maharashtra  state electricity board ( mseb ) , the maharashtra state government and the  centre for an early resolution to the prolonged dispute between them , if the  dpc board of directors ' decision to authorise its managing director to serve  a contract termination notice to the mseb is any indication .  the dpc board , in its meeting in london on wednesday , empowered the company  management to sever its power supply agreement with mseb , a move that could  inflict a financial liability of rs 2 , 840 crore on the centre . the decision  to authorise the dpc management to issue a termination notice to mseb was  taken by a vote of six to one after the maharasthra government  representatives were prevented from voting on the ground of \\\" interested  party \\\" .  when contacted , the company ' s mumbai - based spokesperson , mr jimmy mogal ,  declined to comment on the reports about the decision taken by the dpc board .  \\\" we have nothing to say on the reports emanating from london . we will express  our views after a few days , \\\" he said . however , maharashtra chief minister  vilasrao deshmukh on thursday termed the dpc board ' s decision as  \\\" unfortunate \\\" . \\\" we have already requested the company not to take any harsh  decision \\\" , mr deshmukh said in mumbai .  official sources in the state energy ministry interpreted the dpc board ' s  decision as a pressure tactic employed by the enron subsidiary to force the  mseb to clear the pending power bills without any further delay . through its  tough posture , the dpc wants to make its position stronger before it can  formally agree for re - negotiations with the mseb , the centre and the state  government for cutting the price of power supplied by it to the state  electricity board . the sources said that the dpc ' s reported decision to  authorise its managing director to stop electricity supply to the mseb did  not mean that the enron subsidiary would actually go ahead with the scrapping  of the power contract with the mseb .  \\\" if anything , the dpc ' s reported decision is to mount additional pressure on  the mseb for clearance of pending power bills and put itself in a stronger  position in settling its dispute with the mseb . as part of its plan to arm  itself with powers to break a contract in case situation goes beyond its  control , the dpc had recently served a political force majeure to the mseb ,  the centre and the state government , \\\" the sources said . not surprisingly , the  dpc ' s london decision comes on the heels of the maharashtra government ' s  decision to set up a high - level committee , comprising representatives of the  mseb , the centre and the state government to re - negotiate with the enron ' s  subsidiary company for reducing the cost of power supplied to the state  electricity board . meanwhile , amidst the threat of a possible termination  notice hanging on its head , the mseb on thursday made a \\\" protest payment \\\" of  the rs 134 crore disputed amount towards march bill of rs 146 . 64 crore to dpc .  riday , april 27  the telegraph , friday , april 27 , 2001  enron signal to switch off dabhol power  enron today took the first decisive step out of the controversy - ridden dabhol  power company when it won an authorisation from the company \\u0001 , s board to stop  sale of power to maharashtra state electricity board ( mseb ) .  the meeting of the company , of which the houston - based energy giant holds 65  per cent and the mseb 15 per cent , was attended by state energy secretary v m  lal and mseb technical director p paunikar and it came days after its lenders  discussed payment problems and a possible termination . the centre \\u0001 , s liability ,  if enron decides to snap the agreement , will be a year \\u0001 , s power bill and a  termination fee of $ 300 million . however , the company will have to wait for  six months from the day it serves the notice before it pulls the plug . the  centre shrugged off the move , saying there would not be any adverse effect on  foreign investment in power if enron walks out . \\u0001 & we do not see fdi inflows  into the power sector being hit , \\u0001 8 power minister suresh prabhu said . mseb  officials said the ball is now in the court of dpc , which said its corporate  policy did not allow it to comment on proceedings at board meetings . the  decision coincided with a rs 134 - crore \\u0001 + protest payment \\u0001 , by the cash - strapped  power board as part of the march bill worth rs 146 . 64 crore .  there was speculation that mseb coughed up the amount to cool frayed tempers  at enron \\u0001 , s hub in houston , and because it was rattled by the sudden turn of  events in the past few days during which the dispute had come to a head . mseb  officials brushed away the allusions , saying the cheque was ready on  wednesday but could not be handed over to dpc because of the state - wide  bandh . \\u0001 & we have a disputed payment of rs 12 . 64 crore , which will be taken up  at the dispute - resolution forum , \\u0001 8 a board official said . last week , dpc told  the state government and mseb it would no longer accept protest payments in a  move to fortify its legal position .  mseb officials say bechtel and general electric , the other partners who hold  around 20 per cent in dpc , are willing to go along with enron corp in  terminating the deal but financial institutions such as idbi are not game  because it puts their loans at risk . investments made by indian institutions  are not covered under the centre \\u0001 , s and state \\u0001 , s counter - guarantees , unlike  those made by international lenders . maharashtra chief minister vilasrao  deshmukh called enron \\u0001 , s decision unfortunate . \\u0001 & we had told state government  officials attending the enron board meeting to stop the company from winding  up its operations in the state as it will harm both parties . \\u0001 8  the statesman , friday , april 27 , 2001  enron threatens to pull out  the enron crisis deepened with the board of directors of the dabhol power  company deciding to authorise the managing director , mr k wade cline , to  serve a notice of termination on the contract for the first phase of the $ 2 . 9  billion power project . the decision , which could lead to the cessation of  dabhol \\u0001 , s power supply to the state , was taken at the meeting held yesterday  in london according to reports quoting the chairman of the maharashtra state  electricity board , mr vinay bansal .  while dpc officials refuse to comment on anything , it is learnt that mseb was  itself prepared to serve a legal notice of termination just two days before  the meeting . mseb was said to have been dissuaded by the nationalist congress  party president , mr sharad pawar , and union power minister mr suresh prabhu ,  who had talks in new delhi with the maharashtra chief minister , mr vilasrao  deshmukh , and an mseb delegation last monday .  the state government has been served two arbitration notices while the centre  is ready to go for conciliation with the dpc for failing to honour its  counter - guarantee . further , the dpc has already slapped a notice of political  force majeure which protects itself against undeserved claims in the event of  exigencies that force it to take an extreme step . the union power minister , mr  suresh prabhu , contended in delhi that since dpc contributed only 0 . 7 per  cent of the total energy output of the country , its termination would not  have such a phenomenal impact on the power situation .  however , if terminations proceedings go through , enron corp , a 65 per cent  share - holder in the dabhol power company , would stand to net a hefty amount  in damages . the union power secretary has been quoted as saying that  termination of the dpc would cost the centre rs 1 , 800 crore , which is the  total of one years \\u0001 , electricity bill and a termination fee of $ 300 million .  according to an energy analyst , mr pradyumna kaul , the total liability would  not cross rs 350 crore . however mr prabhu said in the lok sabha today that  the that scrapping of the agreement would cost the centre rs 2 , 840 crore . it  is learnt that on 20 april , mr deshmukh had given the go - ahead to the mseb to  prepare a legal notice to be issued to enron during the meeting of the dpc \\u0001 , s  board of directors on wednesday . at the meeting , the energy minister ,  padamsinh patil , energy secretary , mr vinay mohan lal and mseb chairman mr  vinay bansal , were also present . the notice was prepared over the past weekend  and taken by the delegation when they called on mr prabhu on 24 april .  however , the politicians convinced them that enron would not get tough , given  its huge stake in the project , and that such a notice would not be necessary .  the meeting thus ended with the decision to renegotiate the power tariff ,  with enron \\u0001 , s consent .  among those present at the london meeting were mr lal , mr bansal and mseb  technical director , mr p paunikar , in their capacity as directors . however ,  they abstained from voting since they were deemed an interested party . the  only vote to go against the decision was that of the idbi which is also  represented on the board , it is learnt . the chief minister , mr vilasrao  deshmukh , said the state was not in favour of terminating the project . this  could mean that the latest manoeuvre to arm - twist the indian authorities  could achieve its immediate target of getting the arrears accumulated over  the past three months cleared . the mseb owes enron rs 146 . 64 crore for march  2001 and rs 229 crore for december 2000 and january 2001 . the centre today put  up a brave face on enron \\u0001 , s decision saying there would not be any adverse  effect on foreign investment in power sector in the country , pti reported  from new delhi .  \\u0001 & there will be no adverse impact as a result of any action by any domestic or  foreign company . as far as we are concerned there will be no adverse impact  on fdi in power sector , \\u0001 8 power minister suresh prabhu told reporters when  asked about dpc \\u0001 , s decision to authorise management to issue a termination  notice to mseb . emphasising that there would be no fallout of such decision ,  prabhu said after the meeting of the cabinet committee on economic affairs  \\u0001 & we are expecting cooperation from many scandinavian countries as well as  european nations in the power sector . \\u0001 & in fact not only the power minister but  also the prime minister of norway was here to inaugurate a seminar on power  and he promised lot of cooperation in the sector . \\u0001 8  mid day  ' dpc may not wind up '  maharashtra chief secretary v ranganathan has said that though neil mcgregor ,  managing director of the dabhol power corporation ( dpc ) , has been given  complete powers with regard to dpc ' s operations in the state , including the  authority to wind up operations , it does not necessarily mean that mcgregor  will issue such a termination notice . mcgregor was given the powers at a  meeting of the dpc board in london on wednesday . ranganathan said that state  officials , including maharashtra state electricity board ( mseb ) chairman  vinay bansal and power secretary v m lal , have reported back to him about the  meeting in london .  with regard to the state ' s failure to pay enron , ranganathan said , \\\" bills  are prepared as per the power purchase agreement ( ppa ) and dpc owes some  money to us . our people informed enron officials about this . . in fact , there  was no reason to give powers to the md to slap a termination notice . \\\" in the  london meeting , mseb and industrial development bank of india ( idbi )  representatives insisted that the dpc must pay rs 411 crore since it could  not supply power whenever needed .  chief minister vilasrao deshmukh has already termed as unfortunate the  decision of the board of the enron - promoted dpc to give mcgregor powers to  wind up operations . deshmukh added , \\\" we have already requested enron not to  take any harsh decision . \\\" deshmukh had earlier said , \\\" we have directed state  government officials attending the dpc board meeting to desist the energy  company from winding up operations in the state , as it would be harmful to  both of us . \\\"  enron officials are keeping mum on the issue . mcgregor said , \\\" i am not going  to give any comment . \\\"  mid day , april 27 , 2001  enron offers ' no comment ' on renegotiation , h s rao  a crucial meeting of the board of directors of the dabhol power company  ( dpc ) , promoted by the us energy major enron , was held here yesterday  apparently to discuss fate of its $ 900 - million power project in maharashtra ,  but there was no official word on the indian and state governments ' decision  to renegotiate the contract .  an enron spokesman declined to divulge what transpired at the meeting , saying  the issues discussed at the meeting were ' confidential ' . \\\" we have not  received any direct communication . unless we get it and evaluate the details ,  we have no comments to make , \\\" the spokesman said when asked about the  proposed decision on re - negotiation of the project in which the maharashtra  state electricity board ( mseb ) has 15 per cent stake .  asked whether the board had taken a decision on empowering dpc managing  director neil mcgregor to wind up its operations in india , the spokesman said  he had nothing to say on them . enron has reportedly authorised mcgregor to  look at various options including selling the company ' s stake in dpc .  maharashtra chief minister vilasrao deshmukh said in mumbai that the state  government would pay up the undisputed dues to the company . he said the  maharashtra government \\\" is not in favour of terminating the 2184 - mw project ,  but wanted an amicable solution to the imbroglio . \\\"  mid day , friday , april 27 , 2001 ,  committee to renegotiate enron deal  a committee to renegotiate the power purchase agreement with the dabhol power  company will be appointed by this evening , chief minister vilasrao deshmukh  said today . addressing media persons after his meeting with the noted social  reformer anna hazare at his official residence varsha , deshmukh said the  committee would be formed by this evening or by tomorrow , at the most . he  termed as unfortunate the enron board decision empowering dpc chief neil  mcgregor to serve a preliminary termination notice on the maharashtra state  electricity board and said the state was willing to negotiate the issue with  power company .  \\\" renegotiations will be held as per the suggestions made by the godbole  committee and the center will also depute its representative on the  renegotiating committee . we don ' t want to take any hasty decision , \\\" deshmukh  saidhe pointed that the only bone of contention with the dpc had been its  expensive tariff and hoped that the issue would be resolved amicably . when  pointed that the enron board had taken a decision to serve the notice despite  state \\u000f 9 s willingness to appoint a renegotiating committee , chief minister  said it was unfortunate .  earlier , in his meeting with hazare , deshmukh promised to make necessary  amendments to the right to information law recently passed by the state so  that the information was easily accessed by the common people . he also gave a  patient hearing to hazare on his complaints of corruption in various state  departments and promised action against guilty after a thorough inquiry  within three months .  afternoon , april 27 , 2001  ' enron ' s on ! '  state govt . to renegotiate dabhol power project , by hubert vaz  the us power giant , enron power corporation ' s willingness to wrap up the  dabhol power project and leave the shores may not actually materialise ,  though the dabhol power company chief , mr . wade cline , has been authorised to  do so , since the lenders for the project would have a decisive say in the  matter .  disclosing this , chief minister vilasrao deshmukh confirmed this morning that  the state government would churn out a compromise formula by which the power  project at dabhol could be continued , and at the same time enron did not feel  slighted . \\\" enron has not yet conveyed to us about this decision . we are  waiting for their letter , \\\" he said . when asked what sort of compromise the  state government plans to forge , mr . deshmukh said , \\\" let our officers come  back . after that we will decide a future course of action . but we are  definitely going in for renegotiation of the project . it is very difficult to  predict the outcome of enron ' s decision but as of now the project is still  on . \\\" when asked whether the project could be moved to another state , if wound  up from maharashtra , mr . deshmukh said , that was not possible as per the  terms of the agreement between the us company and the state government .  however , it was difficult for the project to move out of the state itself , he  indicated . he also confirmed that both parties would face considerable losses  if the project was terminated .  the board of directors of the dabhol power company , which met in london on  wednesday , decided to put an end to all controversies surrounding the project  once and for all by empowering the dpc chief to terminate the project , if he  deemed it fit . however , this decision , as of now , does not necessarily  indicate the death knell for the project . the enron project , which had been  riddled with controversies right from its inception , had been a pretext for  the political parties in the state to drag each other on the mat from time to  time . the previous sena - bjp government , which had been out to terminate the  project , however , chose to continue with it following renegotiations with  enron ' s top visiting officials like ms . rebecca mark . and , the democratic  front government inherited the controversial project when the governments  changed hands a year and a half ago .  meanwhile , state energy minister dr . padamsinh patil , when contacted at the  osmanabad circuit house , said the state government and the central government  have decided to appoint a joint committee to renegotiate the project with  enron . \\\" it is not easy for them to walk out of the project just like that .  they will have to go in for litigation and this would prove costly for both  sides , \\\" he said . in case the project is terminated , the government can still  manage the power needs of the state , though it would be a bit tough job , he  added .\",\n          \"Subject: from the enron india newsdesk - april 23 rd newsclips  vince ,  from the sound of the articles , it appears ene is ready to exit india , or alternately to get into an arbitration battle .  i have scheduled some time with you at 10 . 30 to discuss .  regards ,  sandeep .  - - - - - - - - - - - - - - - - - - - - - - forwarded by sandeep kohli / enron _ development on 04 / 23 / 2001 07 : 59 am - - - - - - - - - - - - - - - - - - - - - - - - - - -  nikita varma  04 / 23 / 2001 07 : 20 am  to : nikita varma / enron _ development @ enron _ development  cc : ( bcc : sandeep kohli / enron _ development )  subject : from the enron india newsdesk - april 23 rd newsclips  april 23 , 2001 , http : / / www . financialexpress . com / fe 20010423 / fed 3 . html  godbole ' s report unearths absurd calculations , maharashtra could use this to wriggle out of the dabhol project  sucheta dalal  april 23 , 2001 , http : / / www . financialexpress . com / fe 20010423 / newsl . html  dpc board set to authorise president , enron md to issue notice of termination , sanjay jog  scrapping of power purchase agreement  monday , april 23 , 2001 , http : / / www . business - standard . com / today / corp 8 . asp ? menu = 2  dpc seeks ok to exit power project , tamal bandyopadhyay & s ravindran  april 23 , 2001 , http : / / www . cybernoon . com / index . html  enron winding up operations in india ?  state for consolidating all dpc arbitration notices , sanjay jog  monday , april 23 , 2001 , http : / / www . financialexpress . com / fe 20010423 / news 3 . html  monday , april 23 , 2001 , http : / / www . economictimes . com / today / 23 econo 4 . htm  maharashtra to set up experts panel on enron  the article also appeared in the following newspaper  business standard  april 23 , 2001 , http : / / www . business - standard . com / today / state 3 . asp ? menu = 32  maharashtra to set up expert panel on enron  april 23 , 2001 , http : / / www . economictimes . com / today / 23 econo 7 . htm  ' enron is a national problem '  april 23 , 2001 , http : / / www . cybernoon . com / index . html  cm takes enron to delhi today  monday , april 23 , 2001 , http : / / www . outlookindia . com / full . asp ? fname = enron + % 28 f % 29 & fodname = 20010430 & sid = 1  the real story of dabhol if a judicial probe , suggested by the committee , is ordered into the enron deal , it could embarrass three governments ranjit bhushan  monday , april 23 , 2001 , http : / / www . business - standard . com / today / state 2 . asp ? menu = 32  mseb revenue collections up at rs 968 crore in march , renni abraham  the financial express , april 23 , 2001  godbole ' s report unearths absurd calculations , maharashtra could use this to wriggle out of the dabhol project , sucheta dalal  it is finally quit india time for enron . though the controversial multinational has denied plans to sell its stake in dabhol power company ( dpc ) , informed sources say that it has sent feelers to china light it deliberately uses expensive raw material ( ignoring world bank warnings ) , has worked on fanciful demand - supply estimates and several legal requirements and permissions .  in fact , the committee has found that the mseb has been paying enron rs 930 crore more than it should every year . this comprises overcharging of rs 253 crore on account of the large regassification plant of which only 42 per cent of the capacity is used for dpc . there ' s also a rs 100 crore extra billing to the mseb for shipping and harbour charges although the cost of these facilities had been included in the capital recovery charge . by charging more than twice the operations & maintenance rate stipulated by the government of india , enron collects approximately rs 246 crore extra every year . it has also been collecting rs 332 crore every year through inflated fuel consumption claims . enron has been charging at 1878 kcal / kwh under the power purchase agreement ( ppa ) although the equipment manufacturer has guaranteed it a much lower consumption rate . this gives it a fat fuel arbitrage opportunity at the cost of the people of maharashtra .  the committee has also pointed to the strange practice of using four different exchange rates for different aspects of the project negotiation : a rate of rs 32 per dollar was assumed for calculating debt service of rupee loans , rs 34 . 5 per dollar as reference rate for phase - i , rs 39 . 35 per dollar as reference rate for phase - ii and a curious rs 42 per dollar for calculating government of india tariff . forcing a reduction of these excessive charges has nothing to do with contract cancellation . all it needs is tough negotiation and public pressure on the political establishment .  the godbole committee has established that dpc ' s tariffs can easily be halved if excess payments are eliminated and unfair conditions such as the dollarisation of payments , the take - or - pay clause and escrow facility ( which is in fact hampering mseb ' s reform particularly in power distribution ) are scrapped . the security of future payments to dpc under the restructured tariff would be based on increased cash flows from a reformed distribution system . the committee also gives enron a difficult escape route . it says that if the multinational finds the conditions for restructuring too onerous , it should free mseb from its contractual obligations and find buyers outside maharashtra . the committee has tried to establish another precedent on all projects negotiated by government : \\\" the public has a right to know what is being contracted on their behalf \\\" and has recommended that all documents , including contracts related to all independent power projects ( ipps ) , particularly dpc , should be published by the maharashtra government within two months .  also , having established that demand - supply estimates by the state government were fanciful , the committee has asked mseb to defer all negotiations with power producers until demand levels in the state permit full absorption of power generation from such ipps . it recommends that such negotiations should be in accordance with the least - cost plan spelt out by the report . this should also end the hectic lobbying by reliance ( patalganga ) , mittals ( bhadravati ) , the bses ( saphale ) and others to set up ipps in maharashtra .  - - - - - - - - - - - - - - - - - - - - - - - - - - - - - - - - - - - - - - - - - - - - - - - - - - - - - - - - - - - - - - - - - - - - - - - - - - - - - - - - - - - - - - - - - - - - - - - - - - - - - - - - - - - - - - - - - - - - - - - - - - - - - - - - - - - - - - - - the financial express , april 23 , 2001  dpc board set to authorise president , enron md to issue notice of termination , sanjay jog  scrapping of power purchase agreement  the board of directors of dabhol power company ( dpc ) , which has already taken an aggressive posture , has proposed to authorise the enron india managing director k wade cline and dpc president and chief executive officer neil mcgregor to issue notices for the termination of power purchase agreement ( ppa ) and transfer of dabhol project in view of continuing default by the state and central governments and maharashtra state electricity board ( mseb ) .  the board of directors , which would meet on april 25 in london , also plans to appoint mr cline as its \\\" true and lawful attorney - in - fact \\\" and authorise him to represent the company in the negotiation of all project contracts and financing agreements and their amendments and modifications . top sources told the financial express that dpc would authorise mr cline and / or mr mcgregor to serve the preliminary termination notices and transfer notices to the state and central governments and mseb under clause 17 and schedule 11 of the ppa .  \\\" in response to the continuing default by the mseb of its payment obligations under the ppa , the failure of the government of maharashtra to honour obligations under its guarantee and state support agreement and failure of the government of india to honour obligations under its counter guarantee , the company has sought recourse to dispute resolution and has initiated conciliation and arbitration proceedings , \\\" the company resolution said . \\\" consistent with this recourse to contractual remedies , the company now seeks the authority to serve preliminary termination notices and transfer notices pursuant to clause 17 and schedule 11 of the ppa from time to time and at any time upon the occurrence of an event giving rise to its right to serve such notices as determined by the company , \\\" the resolution added .  according to the resolution , the directors , the company secretary and officers of the company and each of them acting individually , are authorised and empowered to execute and deliver such documents and instruments and take such other actions as they deem fit to effect the purpose of the resolution , in the name and for and on behalf of the company . against this backdrop , the state government and mseb have been exploring the possibilities of issuing termination notice to the dpc for its failure to meet the contractual obligations under the ppa . the state government and mseb sources said that such a notice could be served by the mseb as dpc has not paid the rebate ( penalty ) of rs 409 crore for misdeclaration and default on the availability of power on january 28 and february 13 .  the state government and mseb , which reviewed its position on saturday at a meeting convened by the chief minister vilasrao deshmukh , are of the view that they have a strong case and substantial grounds to slap the termination notice to the dpc . the dpc ' s move to appoint mr k wade cline as its \\\" true and lawful attorney - in - fact \\\" deserves importance especially when the state government proposes to set up a negotiating committee to cut the per unit cost and gauge the possibility of sale of dabhol power to the power deficit states .  mr cline would also be authorised to dispose of equipment that is worn out or obsolete or other equipment or fuel no longer expected to be used in the ordinary course in amounts exceeding rs 64 crore or the equivalent in foreign currency in any financial year . furthermore , mr cline would be in a position to enter into contracts and take any other actions for purpose relating to the day - to - day operation of the company ' s business or exercise its rights and discharge its obligations under the project contracts and the financing agreements  - - - - - - - - - - - - - - - - - - - - - - - - - - - - - - - - - - - - - - - - - - - - - - - - - - - - - - - - - - - - - - - - - - - - - - - - - - - - - - - - - - - - - - - - - - - - - - - - - - - - - - - - - - - - - - - - - - - - - - - - - - - - - - - - - - - - - - - - business standard , monday , april 23 , 2001  dpc seeks ok to exit power project , tamal bandyopadhyay otherwise it cannot be a complete exercise , \\\" he added .  deshmukh and the mseb team are scheduled to meet union finance minister yashwant sinha and power minister suresh prabhu on monday in new delhi to discuss the stalemate and find a acceptable solution for the same . \\\" i am meeting sinha and prabhu to request them to take an initiative and send representatives for the negotiations committee , \\\" he said . deshmukh ' s meeting with the centre comes at a crucial stage as dpc ' s lenders would be meeting in london , on the same day , to decide upon the future finances of the controversy marred 2 , 184 - mw project in dabhol .  moreover , the dpc board is also scheduled to meet on april 25 in london to decide the fate of its $ 900 million project in dabhol , including winding up of its operations . the meeting would discuss the topmost item on the agenda , which was to empower dpc managing director neil mcgregor to wind up operations in the country . dpc has already slapped one conciliation notice on the centre and three arbitration notices on the state government over non - payment of dues amounting to rs 213 crore plus interest towards the bills due for the months of december 2000 and january 2001 .  asked whether the centre had send any feel over a possible clubbing together of the arbitration and conciliation processes , deshmukh replied in the negative . deshmukh said mseb chairman vinay bansal along with two senior officials would attend dpc ' s board meeting in london . bansal had said on sunday that mseb would present its case concerning the rs 401 - crore penalty that the loss - making board slapped on dpc on february 28 , for not generating required power within the stipulated time as per the ppa . currently , enron india holds 65 per cent in the $ 900 - million dpc project , which includes mseb ' s 15 per cent , while general electric and bechtel hold 10 per cent each . ( pti )  - - - - - - - - - - - - - - - - - - - - - - - - - - - - - - - - - - - - - - - - - - - - - - - - - - - - - - - - - - - - - - - - - - - - - - - - - - - - - - - - - - - - - - - - - - - - - - - - - - - - - - - - - - - - - - - - - - - - - - - - - - - - - - - - - - - - - - - - the economic times , april 23 , 2001  ' enron is a national problem '  union power minister suresh prabhu on sunday said the centre would render all possible help to resolve the enron crisis faced by maharashtra which is \\\" haunting the entire country \\\" . prabhu said he would meet the state chief minister vilasrao deshmukh in new delhi tomorrow to discuss stalemate over the payments due to the us energy major - promoted dhabol power company by the maharashtra state electricity board . referring to godbole committee report ' s finding that dpc was keen on offering mseb ' s 15 per cent stake to the national thermal power corporation , prabhu said : \\\" the centre has not received any such proposal regarding participation of the central power utility . \\\" ( pti )  - - - - - - - - - - - - - - - - - - - - - - - - - - - - - - - - - - - - - - - - - - - - - - - - - - - - - - - - - - - - - - - - - - - - - - - - - - - - - - - - - - - - - - - - - - - - - - - - - - - - - - - - - - - - - - - - - - - - - - - - - - - - - - - - - - - - - - - - afternoon , april 23 , 2001  cm takes enron to delhi today  chief minister vilasrao deshmukh will discuss the enron imbroglio with union finance minister yashwant sinha and union power minister suresh prabhu in delhi today . he will request the centre to appoint a representative to the committee that the state government is setting up to carry on discussions and negotiations regarding the dabhol power project of the us - based enron power company . today , a special meeting of representatives of all those finanicial institutions which have extended loans to the dabhol power project is also being held in london . a meeting of its directors will be held on wednesday to discuss the fate of the $ 900 million project which has been under a cloud ever since its inception .  yesterday , mr . prabhu declared at a ' janata darbar ' in thane that the centre would extend all help to solve the enron crisis . this is in the backdrop of pending bills to the tune of rs . 213 crore which the state fowarded to the centre against payments for the months of december 2000 and january 2001 . confirming that there was no proposal from the state government to handover the project to the centre , mr . prabhu said that the situation of the electricity boards in the country was precarious . the centre had decided to assist maharashtra upto rs . 250 crore every year to improve customer services .  - - - - - - - - - - - - - - - - - - - - - - - - - - - - - - - - - - - - - - - - - - - - - - - - - - - - - - - - - - - - - - - - - - - - - - - - - - - - - - - - - - - - - - - - - - - - - - - - - - - - - - - - - - - - - - - - - - - - - - - - - - - - - - - - - - - - - - - - outlook , monday , april 23 , 2001  the real story of dabhol if a judicial probe , suggested by the committee , is ordered into the enron deal , it could embarrass three governments ranjit bhushan  \\\" the committee has prima facie found infirmities in several decisions taken in respect of the enron project at different points of time by successive governments and agencies in the centre and state . \\\"  - - energy review committee headed by former home secretary madhav godbole  this could well be the real enron story  a five - member high - powered committee headed by madhav godbole - and including former union economic affairs secretary e . a . s . sarma , hdfc chairman deepak parekh , teri chairman rajendrapachauri and maharashtra government official vinay mohan lal - has recommended a judicial probe into the entire enron power project deal saying it signified \\\" the utter failure of governance that seems to have characterised almost every step of the decision - making process relating to the dabhol project \\\" . the report , which was submitted to the maharashtra government last fortnight and has been acquired by outlook , is severely critical of former chief minister sharad pawar ( with the congress then ) , the 13 - day bjp - led union government which reworked the deal in 1996 , shiv sena supremo balasaheb thackeray and his government in maharashtra headed by manohar joshi  \\\" the utter failure of governance seems to have characterised almost every step of decision - making relating to the dabhol project . \\\" madhav godbole committee report  an investigation , if ordered , could embarrass at least these three governments the report clearly upholds the allegations of money being paid by enron to politicians and bureaucrats for clinching the deal . according to the committee , the deal reveals failure of governance , both at the centre and state , and across different agencies . \\\" it strains belief to accept that such widespread and consistent failure to execute responsibilities is purely coincidental , \\\" the report said , proposing a set of measures to be implemented if something of the project was to be retrieved . godbole and sarma also felt that the panel should categorically recommend the government of india to order a judicial inquiry . this was finally adopted by it . says a congress leader : \\\" enron could well become the biggest political issue in maharashtra and put to question liberalisation , particularly in the power sector . \\\"  the proposal has already struck panic . says ncp ' s praful patel : \\\" if the enron decision has at all been detrimental , it is because of the haste with which phase 2 was cleared by the shiv sena - bjp government . now with the state having already entered into an agreement with enron , the important thing is to resolve it amicably . a judicial inquiry will be an eyewash because it ' s not an issue of corruption but that of perception . \\\"  pro - market congressmen privately admit that it was their governments at the centre and the state which invited enron , even though the second phase was cleared by the bjp - shiv sena combine . says congress spokesperson jaipal reddy : \\\" right now we ' re too involved with the parliament deadlock over tehelka . \\\" pro - liberalisation congress mps also fear that such witch - hunting could send wrong signals to foreign investors . non - congress mps from maharashtra , meanwhile , claim that the godbole committee was instituted with the express purpose of politicising the enron issue . \\\" i think i know vilasrao deshmukh ' s gameplan , \\\" says an mp from the state . but some mps like congress ' prithviraj chavan question the cloak of secrecy that ' s surrounded the deal : \\\" i ' ve maintained for long that there should be a judicial committee to examine this \\\" .  the committee report also says that had the enron project been subjected to a techno - economic appraisal , as envisaged under provisions of the electricity supply act of 1948 and related legislations , the infirmities could have been avoided . since this wasn ' t done , questions about a concerted effort towards exercising undue influence at every stage of the project are bound to arise , the exhaustive 93 - page report points out .  \\\" i ' d highlight the speed with which the 13 - day vajpayee government cleared the project minutes before it quit , \\\" says congress mp prithviraj chavan .  the enron project had been held out as an exemplar of the impending liberalisation in the early ' 90 s and , despite several controversies , is now an established power project at dabhol , 150 km south of mumbai . in july 1992 , enron signed an mou with the maharashtra state electricity board ( mseb ) to set up a 2 , 550 mw station as part of the government ' s ' fast track ' projects .  subsequently , when the shiv - sena - bjp came to power in maharashtra it filed a writ against the project . this curiously led to renegotiations with enron . the committee has quoted a bombay high court order on the renegotiated deal . \\\" once it ( gom ) decided to revive the project , it acted in the very same manner its predecessors in office had done . it forgot all about competitive bidding and transparency . the speed with which the negotiating group studied the project and made its proposal for renegotiatons , which was accepted by dabhol , is unprecedented . \\\" says chavan : \\\" i would particularly like to highlight the speed with which the 13 - day vajpayee government at centre endorsed the renegotiated project minutes before it resigned . \\\"  since the commissioning of the plant in may 1999 , the mseb has paid rs 1 , 607 crore for the power it has bought from dabhol . if the same watttage of power had been bought from indian - built power plants fired by indigenous coal , the payment would have been approximately rs 736 crore . in the first year - and - a - half of its operation itself , the dpc had drained the maharashtra exchequer of nearly rs 1 , 000 crore .  the central electricity authority ( cea ) , in fact , pointed out that the dabhol plant was not the least costly option . the mseb had other inexpensive alternatives like the four units of kaparkheda , but they were in a preliminary stage . the report notes : \\\" . . . if the mseb had made efforts to seriously pursue these projects , they might not have remained in their preliminary stages \\\" . it adds that the members were of the opinion that \\\" the mseb and the maharashtra government erred seriously , based on information available at that time , in proceeding with the dpc as a base - load factor even when its capacity was reduced . \\\" the failure seems to have been compounded by the laxity of the union power ministry , finance ministry and the cea . it quotes the cea as saying that since the union finance ministry found the tariff reasonable , no further examination was required  strangely , bal thackeray ' s shiv sena , when it came to power together with the bjp in maharashtra , filed a writ in the court and then renegotiated the deal .  after the new shiv sena - bjp government took over , its cm , manohar joshi , appointed a renegotiating committee in 1996 which made the right noises , actually managing to reduce the tariff . but certain things remained inexplicable . no fresh clearances were required from the cea , which also said that \\\" since no cost increase was involved . . . fresh formal clearance wasn ' t necessary . \\\" says the committee : \\\" this only adds strength to the suspicion that the cea didn ' t consider the economic aspects of the project at all . indeed , given the non - availability of any official record of the meeting on june 24 , 1994 , with the committee and the nature of this letter dated december 23 , 1994 , the committee is doubtful whether the economic aspects of dpc were discussed at all . ' '  the credibility of the shiv sena - bjp government has been seriously questioned . \\\" the committee finds it unexplicable ( sic ) why there was no mention of any reduction in capital cost of the project from $ 2 , 828 million to $ 2 , 501 million as agreed by dpc in the summary report of the renegotiating committee , \\\" the panel observes . says lawyer prashant bhushan : \\\" it is strange that the shiv sena - bjp government first filed a writ in the court and then coolly renegotiated the deal . \\\" the committee further spells out the losses incurred through the deal . \\\" subsequent to the commissioning of the dpc , the financial deterioration of mseb has been rapid . while the mseb was in profit in 1998 - 99 , it plunged into huge losses of rs 1681 crore in 1999 - 2000 . \\\"  significantly , the world bank in 1993 had predicted the system ' s inherent weaknesses . in a letter written to the then power secretary , r . vasudevan , a top bank official had said that \\\" after a detailed review of the analytical framework and costing assumptions , we reconfirm our earlier conclusion that the dabhol project , as presently formulated , is not economically justified \\\" and that in \\\" our assessment the project is too large to enter the mseb system in 1998 . the proposed base - load operation could result in uneconomic plant dispatch , as already existing lower variable cost coal power would be replaced by the higher cost lng power . \\\"  enron ' s persistence and the ' gullibility ' of the indian side can be gauged from high - ranking enron official joe sutton ' s letter to a key indian official , ajit nimbalkar : \\\" i recently met with the world bank and have been following the articles in the india papers . i feel that the world bank opinion can be changed . we ' ll engage a pr firm and hopefully manage the media from here on . the project has solid support from all other agencies in washington . \\\"  the key question in the enron deal is whether a developed state like maharashtra needs outside intervention in the power sector at all ? for the first time the godbole committee has raised objections about the viability of such a project . according to the report , the mseb has been one of the better performing boards in the country and has , despite a faulty transmission and distribution ( t and d ) system , managed to consistently earn net revenue surpluses on an accrual basis .  maharashtra accounts for nearly one - fourth of the gross value of india ' s industrial sector . it ' s one of the few states to achieve 100 per cent electrification . since ' 95 , the mseb has been adding to its generation . \\\" this improvement , which has been largely due to renovation and modernisation undertaken by the mseb , exceeded its own expectations at a time when the dpc was being considered , \\\" the report points out . following a policy of cross - subsidy , roughly nine out of its ten users are subsidised .  but the gap between the average cost of supply and average realisation hasn ' t been much . in fact , the subsidy claim decreased from rs 630 crore in 1995 - 96 to rs 355 crore in 1998 - 99 , until in 1999 - 2000 it increased nearly five - fold to rs 2 , 084 crore due to the sudden increase in the gap by 26 paise per unit - from 15 to 41 paise - an increase of 173 per cent . \\\" the increase in the subsidy claim by rs 1 , 729 crore is due to the increase in the gap principally because of the increase in power purchase costs , \\\" says the committee , adding : \\\" without the dpc and without problems of t and d loss , the mseb could be financially healthy . \\\"  but can that happen now since enron is here to stay ? the committee has come up with some far - reaching recommendations : make public all dabhol - related documents and agreements , restructure the dabhol project itself to bring down the cost of power , restructure dpc financially , allow sale of dpc power outside maharashtra , re - examine ppas in accordance with least - cost plans , and thoroughly reform the mseb . the committee know this can become reality only with political consensus and through forming of public opinion . the question is , can that be achieved in an unstable political environment ?  with priya sahgal  making of a scam  ? 1992 : centre invites enron to set up ' fast track ' power project  ? dec 1993 : first ppa signed with mseb  ? 1994 : enron starts construction  ? 1995 : sena - bjp govt scraps enron  ? 1996 : state govt renegotiates project  ? 1996 : 13 - day vajpayee govt approves counter - guarantee  ? may 1996 : state cabinet clears ppa  ? may 13 , 1999 : phase i commissioned  ? jul 1999 : financial closure for phase ii  ? oct 2000 : mseb defaults on payment , subsequently stops paying monthly bills  ? feb 6 , 2001 : enron invokes central government ' s counter - guarantee  - - - - - - - - - - - - - - - - - - - - - - - - - - - - - - - - - - - - - - - - - - - - - - - - - - - - - - - - - - - - - - - - - - - - - - - - - - - - - - - - - - - - - - - - - - - - - - - - - - - - - - - - - - - - - - - - - - - - - - - - - - - - - - - - - - - - - - - - business standard , monday , april 23 , 2001  mseb revenue collections up at rs 968 crore in march , renni abraham  the maharashtra state electricity board ' s ( mseb ) revenue collections in march 2001 stood at a record rs 968 crore . this was largely due to the disconnection drive on defaulter connections - - pegged at nearly 20 , 000 disconnections a month - - which resulted in compliance by consumers . with the dabhol power company ( dpc ) monthly financial burden issue now a topic of discussion among arbitrators on the negotiating table , the mseb has turned to putting its house in order .  as if to ward of any criticism of its fiscal condition that could be termed as the facilitator to the entire dpc tariff crisis , the state electricity board has put matters relating to its performance on record . for instance , mseb has recorded the highest power generation in the year ended march 31 , 2001 , at 45930 units , compared with the previous year ' s 45582 units , making it the top seb of the country in this respect . similarly its power stations recorded the highest availability percentage at 86 . 1 up from 84 . 6 per cent last fiscal . plant load factor is up to 72 . 78 per cent , compared with 71 . 7 per cent in 2000 .  the parli power station has recorded the highest ever generation in the ten years of its life time in 2000 at 4545 million units , which made it eligible for the meritorious productivity award under the eligibility guidelines issued by the government of india carrying a cash award of rs 12 . 5 lakh . all other power stations in the state , without exception , also fulfill the eligibility criteria for the cash award , a senior mseb official said . similarly , the chandrapur power station became the first power station of any state electricity board to get the iso 9002 certification .  a senior mseb official said : \\\" earlier mseb was suffering from too much interference in its day to day functioning . the agriculturists were touted as the major reason for its deteriorating accruals , while theft of electricity during the transmission and distribution stage was conveniently camouflaged under this head . in the recent past , the government has authorised mseb to take steps to curb this misuse of power by its own officials , many of whom , including a chief engineer have suffered suspensions\"\n        ],\n        \"semantic_type\": \"\",\n        \"description\": \"\"\n      }\n    },\n    {\n      \"column\": \"label\",\n      \"properties\": {\n        \"dtype\": \"number\",\n        \"std\": 0,\n        \"min\": 0,\n        \"max\": 0,\n        \"num_unique_values\": 1,\n        \"samples\": [\n          0\n        ],\n        \"semantic_type\": \"\",\n        \"description\": \"\"\n      }\n    },\n    {\n      \"column\": \"length\",\n      \"properties\": {\n        \"dtype\": \"number\",\n        \"std\": 7441,\n        \"min\": 31055,\n        \"max\": 43952,\n        \"num_unique_values\": 3,\n        \"samples\": [\n          43952\n        ],\n        \"semantic_type\": \"\",\n        \"description\": \"\"\n      }\n    }\n  ]\n}"
            }
          },
          "metadata": {},
          "execution_count": 14
        }
      ]
    },
    {
      "cell_type": "code",
      "source": [
        "# VISUALIZATION\n",
        "counts = spam_df['label'].value_counts().reset_index()\n",
        "counts.columns = ['Label', 'Count']\n",
        "# Create a bar plot using Plotly Express\n",
        "fig = px.bar(counts, x='Label', y='Count', color='Label')\n",
        "fig.update_layout(title='Number of Spam and Ham Emails', xaxis_title='Label', yaxis_title='Count')\n",
        "fig.update_xaxes(tickvals=[0, 1], ticktext=['Ham', 'Spam'])\n",
        "fig.show()"
      ],
      "metadata": {
        "colab": {
          "base_uri": "https://localhost:8080/",
          "height": 542
        },
        "id": "o7SNhQUJd9sU",
        "outputId": "b2d8f32d-e9f2-4963-e700-4b29928fbfc9"
      },
      "execution_count": 15,
      "outputs": [
        {
          "output_type": "display_data",
          "data": {
            "text/html": [
              "<html>\n",
              "<head><meta charset=\"utf-8\" /></head>\n",
              "<body>\n",
              "    <div>            <script src=\"https://cdnjs.cloudflare.com/ajax/libs/mathjax/2.7.5/MathJax.js?config=TeX-AMS-MML_SVG\"></script><script type=\"text/javascript\">if (window.MathJax && window.MathJax.Hub && window.MathJax.Hub.Config) {window.MathJax.Hub.Config({SVG: {font: \"STIX-Web\"}});}</script>                <script type=\"text/javascript\">window.PlotlyConfig = {MathJaxConfig: 'local'};</script>\n",
              "        <script charset=\"utf-8\" src=\"https://cdn.plot.ly/plotly-2.35.2.min.js\"></script>                <div id=\"0221202e-8a79-4eac-9e33-5d4cf0ca3f15\" class=\"plotly-graph-div\" style=\"height:525px; width:100%;\"></div>            <script type=\"text/javascript\">                                    window.PLOTLYENV=window.PLOTLYENV || {};                                    if (document.getElementById(\"0221202e-8a79-4eac-9e33-5d4cf0ca3f15\")) {                    Plotly.newPlot(                        \"0221202e-8a79-4eac-9e33-5d4cf0ca3f15\",                        [{\"alignmentgroup\":\"True\",\"hovertemplate\":\"Label=%{marker.color}\\u003cbr\\u003eCount=%{y}\\u003cextra\\u003e\\u003c\\u002fextra\\u003e\",\"legendgroup\":\"\",\"marker\":{\"color\":[0,1],\"coloraxis\":\"coloraxis\",\"pattern\":{\"shape\":\"\"}},\"name\":\"\",\"offsetgroup\":\"\",\"orientation\":\"v\",\"showlegend\":false,\"textposition\":\"auto\",\"x\":[0,1],\"xaxis\":\"x\",\"y\":[4327,1368],\"yaxis\":\"y\",\"type\":\"bar\"}],                        {\"template\":{\"data\":{\"histogram2dcontour\":[{\"type\":\"histogram2dcontour\",\"colorbar\":{\"outlinewidth\":0,\"ticks\":\"\"},\"colorscale\":[[0.0,\"#0d0887\"],[0.1111111111111111,\"#46039f\"],[0.2222222222222222,\"#7201a8\"],[0.3333333333333333,\"#9c179e\"],[0.4444444444444444,\"#bd3786\"],[0.5555555555555556,\"#d8576b\"],[0.6666666666666666,\"#ed7953\"],[0.7777777777777778,\"#fb9f3a\"],[0.8888888888888888,\"#fdca26\"],[1.0,\"#f0f921\"]]}],\"choropleth\":[{\"type\":\"choropleth\",\"colorbar\":{\"outlinewidth\":0,\"ticks\":\"\"}}],\"histogram2d\":[{\"type\":\"histogram2d\",\"colorbar\":{\"outlinewidth\":0,\"ticks\":\"\"},\"colorscale\":[[0.0,\"#0d0887\"],[0.1111111111111111,\"#46039f\"],[0.2222222222222222,\"#7201a8\"],[0.3333333333333333,\"#9c179e\"],[0.4444444444444444,\"#bd3786\"],[0.5555555555555556,\"#d8576b\"],[0.6666666666666666,\"#ed7953\"],[0.7777777777777778,\"#fb9f3a\"],[0.8888888888888888,\"#fdca26\"],[1.0,\"#f0f921\"]]}],\"heatmap\":[{\"type\":\"heatmap\",\"colorbar\":{\"outlinewidth\":0,\"ticks\":\"\"},\"colorscale\":[[0.0,\"#0d0887\"],[0.1111111111111111,\"#46039f\"],[0.2222222222222222,\"#7201a8\"],[0.3333333333333333,\"#9c179e\"],[0.4444444444444444,\"#bd3786\"],[0.5555555555555556,\"#d8576b\"],[0.6666666666666666,\"#ed7953\"],[0.7777777777777778,\"#fb9f3a\"],[0.8888888888888888,\"#fdca26\"],[1.0,\"#f0f921\"]]}],\"heatmapgl\":[{\"type\":\"heatmapgl\",\"colorbar\":{\"outlinewidth\":0,\"ticks\":\"\"},\"colorscale\":[[0.0,\"#0d0887\"],[0.1111111111111111,\"#46039f\"],[0.2222222222222222,\"#7201a8\"],[0.3333333333333333,\"#9c179e\"],[0.4444444444444444,\"#bd3786\"],[0.5555555555555556,\"#d8576b\"],[0.6666666666666666,\"#ed7953\"],[0.7777777777777778,\"#fb9f3a\"],[0.8888888888888888,\"#fdca26\"],[1.0,\"#f0f921\"]]}],\"contourcarpet\":[{\"type\":\"contourcarpet\",\"colorbar\":{\"outlinewidth\":0,\"ticks\":\"\"}}],\"contour\":[{\"type\":\"contour\",\"colorbar\":{\"outlinewidth\":0,\"ticks\":\"\"},\"colorscale\":[[0.0,\"#0d0887\"],[0.1111111111111111,\"#46039f\"],[0.2222222222222222,\"#7201a8\"],[0.3333333333333333,\"#9c179e\"],[0.4444444444444444,\"#bd3786\"],[0.5555555555555556,\"#d8576b\"],[0.6666666666666666,\"#ed7953\"],[0.7777777777777778,\"#fb9f3a\"],[0.8888888888888888,\"#fdca26\"],[1.0,\"#f0f921\"]]}],\"surface\":[{\"type\":\"surface\",\"colorbar\":{\"outlinewidth\":0,\"ticks\":\"\"},\"colorscale\":[[0.0,\"#0d0887\"],[0.1111111111111111,\"#46039f\"],[0.2222222222222222,\"#7201a8\"],[0.3333333333333333,\"#9c179e\"],[0.4444444444444444,\"#bd3786\"],[0.5555555555555556,\"#d8576b\"],[0.6666666666666666,\"#ed7953\"],[0.7777777777777778,\"#fb9f3a\"],[0.8888888888888888,\"#fdca26\"],[1.0,\"#f0f921\"]]}],\"mesh3d\":[{\"type\":\"mesh3d\",\"colorbar\":{\"outlinewidth\":0,\"ticks\":\"\"}}],\"scatter\":[{\"fillpattern\":{\"fillmode\":\"overlay\",\"size\":10,\"solidity\":0.2},\"type\":\"scatter\"}],\"parcoords\":[{\"type\":\"parcoords\",\"line\":{\"colorbar\":{\"outlinewidth\":0,\"ticks\":\"\"}}}],\"scatterpolargl\":[{\"type\":\"scatterpolargl\",\"marker\":{\"colorbar\":{\"outlinewidth\":0,\"ticks\":\"\"}}}],\"bar\":[{\"error_x\":{\"color\":\"#2a3f5f\"},\"error_y\":{\"color\":\"#2a3f5f\"},\"marker\":{\"line\":{\"color\":\"#E5ECF6\",\"width\":0.5},\"pattern\":{\"fillmode\":\"overlay\",\"size\":10,\"solidity\":0.2}},\"type\":\"bar\"}],\"scattergeo\":[{\"type\":\"scattergeo\",\"marker\":{\"colorbar\":{\"outlinewidth\":0,\"ticks\":\"\"}}}],\"scatterpolar\":[{\"type\":\"scatterpolar\",\"marker\":{\"colorbar\":{\"outlinewidth\":0,\"ticks\":\"\"}}}],\"histogram\":[{\"marker\":{\"pattern\":{\"fillmode\":\"overlay\",\"size\":10,\"solidity\":0.2}},\"type\":\"histogram\"}],\"scattergl\":[{\"type\":\"scattergl\",\"marker\":{\"colorbar\":{\"outlinewidth\":0,\"ticks\":\"\"}}}],\"scatter3d\":[{\"type\":\"scatter3d\",\"line\":{\"colorbar\":{\"outlinewidth\":0,\"ticks\":\"\"}},\"marker\":{\"colorbar\":{\"outlinewidth\":0,\"ticks\":\"\"}}}],\"scattermapbox\":[{\"type\":\"scattermapbox\",\"marker\":{\"colorbar\":{\"outlinewidth\":0,\"ticks\":\"\"}}}],\"scatterternary\":[{\"type\":\"scatterternary\",\"marker\":{\"colorbar\":{\"outlinewidth\":0,\"ticks\":\"\"}}}],\"scattercarpet\":[{\"type\":\"scattercarpet\",\"marker\":{\"colorbar\":{\"outlinewidth\":0,\"ticks\":\"\"}}}],\"carpet\":[{\"aaxis\":{\"endlinecolor\":\"#2a3f5f\",\"gridcolor\":\"white\",\"linecolor\":\"white\",\"minorgridcolor\":\"white\",\"startlinecolor\":\"#2a3f5f\"},\"baxis\":{\"endlinecolor\":\"#2a3f5f\",\"gridcolor\":\"white\",\"linecolor\":\"white\",\"minorgridcolor\":\"white\",\"startlinecolor\":\"#2a3f5f\"},\"type\":\"carpet\"}],\"table\":[{\"cells\":{\"fill\":{\"color\":\"#EBF0F8\"},\"line\":{\"color\":\"white\"}},\"header\":{\"fill\":{\"color\":\"#C8D4E3\"},\"line\":{\"color\":\"white\"}},\"type\":\"table\"}],\"barpolar\":[{\"marker\":{\"line\":{\"color\":\"#E5ECF6\",\"width\":0.5},\"pattern\":{\"fillmode\":\"overlay\",\"size\":10,\"solidity\":0.2}},\"type\":\"barpolar\"}],\"pie\":[{\"automargin\":true,\"type\":\"pie\"}]},\"layout\":{\"autotypenumbers\":\"strict\",\"colorway\":[\"#636efa\",\"#EF553B\",\"#00cc96\",\"#ab63fa\",\"#FFA15A\",\"#19d3f3\",\"#FF6692\",\"#B6E880\",\"#FF97FF\",\"#FECB52\"],\"font\":{\"color\":\"#2a3f5f\"},\"hovermode\":\"closest\",\"hoverlabel\":{\"align\":\"left\"},\"paper_bgcolor\":\"white\",\"plot_bgcolor\":\"#E5ECF6\",\"polar\":{\"bgcolor\":\"#E5ECF6\",\"angularaxis\":{\"gridcolor\":\"white\",\"linecolor\":\"white\",\"ticks\":\"\"},\"radialaxis\":{\"gridcolor\":\"white\",\"linecolor\":\"white\",\"ticks\":\"\"}},\"ternary\":{\"bgcolor\":\"#E5ECF6\",\"aaxis\":{\"gridcolor\":\"white\",\"linecolor\":\"white\",\"ticks\":\"\"},\"baxis\":{\"gridcolor\":\"white\",\"linecolor\":\"white\",\"ticks\":\"\"},\"caxis\":{\"gridcolor\":\"white\",\"linecolor\":\"white\",\"ticks\":\"\"}},\"coloraxis\":{\"colorbar\":{\"outlinewidth\":0,\"ticks\":\"\"}},\"colorscale\":{\"sequential\":[[0.0,\"#0d0887\"],[0.1111111111111111,\"#46039f\"],[0.2222222222222222,\"#7201a8\"],[0.3333333333333333,\"#9c179e\"],[0.4444444444444444,\"#bd3786\"],[0.5555555555555556,\"#d8576b\"],[0.6666666666666666,\"#ed7953\"],[0.7777777777777778,\"#fb9f3a\"],[0.8888888888888888,\"#fdca26\"],[1.0,\"#f0f921\"]],\"sequentialminus\":[[0.0,\"#0d0887\"],[0.1111111111111111,\"#46039f\"],[0.2222222222222222,\"#7201a8\"],[0.3333333333333333,\"#9c179e\"],[0.4444444444444444,\"#bd3786\"],[0.5555555555555556,\"#d8576b\"],[0.6666666666666666,\"#ed7953\"],[0.7777777777777778,\"#fb9f3a\"],[0.8888888888888888,\"#fdca26\"],[1.0,\"#f0f921\"]],\"diverging\":[[0,\"#8e0152\"],[0.1,\"#c51b7d\"],[0.2,\"#de77ae\"],[0.3,\"#f1b6da\"],[0.4,\"#fde0ef\"],[0.5,\"#f7f7f7\"],[0.6,\"#e6f5d0\"],[0.7,\"#b8e186\"],[0.8,\"#7fbc41\"],[0.9,\"#4d9221\"],[1,\"#276419\"]]},\"xaxis\":{\"gridcolor\":\"white\",\"linecolor\":\"white\",\"ticks\":\"\",\"title\":{\"standoff\":15},\"zerolinecolor\":\"white\",\"automargin\":true,\"zerolinewidth\":2},\"yaxis\":{\"gridcolor\":\"white\",\"linecolor\":\"white\",\"ticks\":\"\",\"title\":{\"standoff\":15},\"zerolinecolor\":\"white\",\"automargin\":true,\"zerolinewidth\":2},\"scene\":{\"xaxis\":{\"backgroundcolor\":\"#E5ECF6\",\"gridcolor\":\"white\",\"linecolor\":\"white\",\"showbackground\":true,\"ticks\":\"\",\"zerolinecolor\":\"white\",\"gridwidth\":2},\"yaxis\":{\"backgroundcolor\":\"#E5ECF6\",\"gridcolor\":\"white\",\"linecolor\":\"white\",\"showbackground\":true,\"ticks\":\"\",\"zerolinecolor\":\"white\",\"gridwidth\":2},\"zaxis\":{\"backgroundcolor\":\"#E5ECF6\",\"gridcolor\":\"white\",\"linecolor\":\"white\",\"showbackground\":true,\"ticks\":\"\",\"zerolinecolor\":\"white\",\"gridwidth\":2}},\"shapedefaults\":{\"line\":{\"color\":\"#2a3f5f\"}},\"annotationdefaults\":{\"arrowcolor\":\"#2a3f5f\",\"arrowhead\":0,\"arrowwidth\":1},\"geo\":{\"bgcolor\":\"white\",\"landcolor\":\"#E5ECF6\",\"subunitcolor\":\"white\",\"showland\":true,\"showlakes\":true,\"lakecolor\":\"white\"},\"title\":{\"x\":0.05},\"mapbox\":{\"style\":\"light\"}}},\"xaxis\":{\"anchor\":\"y\",\"domain\":[0.0,1.0],\"title\":{\"text\":\"Label\"},\"tickvals\":[0,1],\"ticktext\":[\"Ham\",\"Spam\"]},\"yaxis\":{\"anchor\":\"x\",\"domain\":[0.0,1.0],\"title\":{\"text\":\"Count\"}},\"coloraxis\":{\"colorbar\":{\"title\":{\"text\":\"Label\"}},\"colorscale\":[[0.0,\"#0d0887\"],[0.1111111111111111,\"#46039f\"],[0.2222222222222222,\"#7201a8\"],[0.3333333333333333,\"#9c179e\"],[0.4444444444444444,\"#bd3786\"],[0.5555555555555556,\"#d8576b\"],[0.6666666666666666,\"#ed7953\"],[0.7777777777777778,\"#fb9f3a\"],[0.8888888888888888,\"#fdca26\"],[1.0,\"#f0f921\"]]},\"legend\":{\"tracegroupgap\":0},\"margin\":{\"t\":60},\"barmode\":\"relative\",\"title\":{\"text\":\"Number of Spam and Ham Emails\"}},                        {\"responsive\": true}                    ).then(function(){\n",
              "                            \n",
              "var gd = document.getElementById('0221202e-8a79-4eac-9e33-5d4cf0ca3f15');\n",
              "var x = new MutationObserver(function (mutations, observer) {{\n",
              "        var display = window.getComputedStyle(gd).display;\n",
              "        if (!display || display === 'none') {{\n",
              "            console.log([gd, 'removed!']);\n",
              "            Plotly.purge(gd);\n",
              "            observer.disconnect();\n",
              "        }}\n",
              "}});\n",
              "\n",
              "// Listen for the removal of the full notebook cells\n",
              "var notebookContainer = gd.closest('#notebook-container');\n",
              "if (notebookContainer) {{\n",
              "    x.observe(notebookContainer, {childList: true});\n",
              "}}\n",
              "\n",
              "// Listen for the clearing of the current output cell\n",
              "var outputEl = gd.closest('.output');\n",
              "if (outputEl) {{\n",
              "    x.observe(outputEl, {childList: true});\n",
              "}}\n",
              "\n",
              "                        })                };                            </script>        </div>\n",
              "</body>\n",
              "</html>"
            ]
          },
          "metadata": {}
        }
      ]
    },
    {
      "cell_type": "code",
      "source": [
        "spam_df.hist(column = 'length', by ='label',figsize=(12,4), bins = 10,color='skyblue')"
      ],
      "metadata": {
        "colab": {
          "base_uri": "https://localhost:8080/",
          "height": 447
        },
        "id": "X-WyPjkreMyE",
        "outputId": "f221d24f-5fbe-4ecf-f073-33501da5d29a"
      },
      "execution_count": 16,
      "outputs": [
        {
          "output_type": "execute_result",
          "data": {
            "text/plain": [
              "array([<Axes: title={'center': '0'}>, <Axes: title={'center': '1'}>],\n",
              "      dtype=object)"
            ]
          },
          "metadata": {},
          "execution_count": 16
        },
        {
          "output_type": "display_data",
          "data": {
            "text/plain": [
              "<Figure size 1200x400 with 2 Axes>"
            ],
            "image/png": "[encoded data removed]"
          },
          "metadata": {}
        }
      ]
    },
    {
      "cell_type": "markdown",
      "source": [
        "Data preprocessing¶\n",
        "\n",
        "Remove punctuations\n",
        "\n",
        "Lowering the case\n",
        "\n",
        "Remove stop words\n",
        "\n",
        "Lemmatization\n",
        "\n",
        "Identify spam and ham words using N-gram model"
      ],
      "metadata": {
        "id": "Xjju2oGMeUsF"
      }
    },
    {
      "cell_type": "code",
      "source": [
        "import nltk\n",
        "nltk.download('punkt')\n"
      ],
      "metadata": {
        "colab": {
          "base_uri": "https://localhost:8080/"
        },
        "id": "lpffChwpfA4f",
        "outputId": "b61b180d-fedd-4e4f-8a0b-832158929e1a"
      },
      "execution_count": 17,
      "outputs": [
        {
          "output_type": "stream",
          "name": "stderr",
          "text": [
            "[nltk_data] Downloading package punkt to /root/nltk_data...\n",
            "[nltk_data]   Package punkt is already up-to-date!\n"
          ]
        },
        {
          "output_type": "execute_result",
          "data": {
            "text/plain": [
              "True"
            ]
          },
          "metadata": {},
          "execution_count": 17
        }
      ]
    },
    {
      "cell_type": "code",
      "source": [
        "nltk.download('stopwords')\n"
      ],
      "metadata": {
        "colab": {
          "base_uri": "https://localhost:8080/"
        },
        "id": "AF2CLZ7QervR",
        "outputId": "3d3d6ec8-228e-4f7c-9f82-e0170e2bdf5c"
      },
      "execution_count": 18,
      "outputs": [
        {
          "output_type": "stream",
          "name": "stderr",
          "text": [
            "[nltk_data] Downloading package stopwords to /root/nltk_data...\n",
            "[nltk_data]   Package stopwords is already up-to-date!\n"
          ]
        },
        {
          "output_type": "execute_result",
          "data": {
            "text/plain": [
              "True"
            ]
          },
          "metadata": {},
          "execution_count": 18
        }
      ]
    },
    {
      "cell_type": "code",
      "source": [
        "nltk.download('wordnet')\n",
        "nltk.download('omw-1.4')\n"
      ],
      "metadata": {
        "colab": {
          "base_uri": "https://localhost:8080/"
        },
        "id": "7Uzj98PHfi2u",
        "outputId": "804e987a-b52c-4518-c921-37376b7620aa"
      },
      "execution_count": 19,
      "outputs": [
        {
          "output_type": "stream",
          "name": "stderr",
          "text": [
            "[nltk_data] Downloading package wordnet to /root/nltk_data...\n",
            "[nltk_data]   Package wordnet is already up-to-date!\n",
            "[nltk_data] Downloading package omw-1.4 to /root/nltk_data...\n",
            "[nltk_data]   Package omw-1.4 is already up-to-date!\n"
          ]
        },
        {
          "output_type": "execute_result",
          "data": {
            "text/plain": [
              "True"
            ]
          },
          "metadata": {},
          "execution_count": 19
        }
      ]
    },
    {
      "cell_type": "code",
      "source": [
        "import nltk\n",
        "nltk.download('punkt')  # ✅ This is the one that fixes it"
      ],
      "metadata": {
        "colab": {
          "base_uri": "https://localhost:8080/"
        },
        "id": "rMThJ7ljgkAO",
        "outputId": "38d34cc9-37e4-402e-9d31-ae82603f6d47"
      },
      "execution_count": 20,
      "outputs": [
        {
          "output_type": "stream",
          "name": "stderr",
          "text": [
            "[nltk_data] Downloading package punkt to /root/nltk_data...\n",
            "[nltk_data]   Package punkt is already up-to-date!\n"
          ]
        },
        {
          "output_type": "execute_result",
          "data": {
            "text/plain": [
              "True"
            ]
          },
          "metadata": {},
          "execution_count": 20
        }
      ]
    },
    {
      "cell_type": "code",
      "source": [
        "# Initialize tools\n",
        "stop_words = set(stopwords.words('english'))\n",
        "lemmatizer = WordNetLemmatizer()\n",
        "\n",
        "def preprocess_text(text):\n",
        "    text = str(text).lower()\n",
        "    text = re.sub(r'^subject:\\s*', '', text)\n",
        "    text = text.translate(str.maketrans('', '', string.punctuation))\n",
        "    tokens = word_tokenize(text)\n",
        "    tokens = [lemmatizer.lemmatize(word) for word in tokens if word not in stop_words and word.isalpha()]\n",
        "    return ' '.join(tokens)"
      ],
      "metadata": {
        "id": "Q52Eh3z-fnQe"
      },
      "execution_count": 21,
      "outputs": []
    },
    {
      "cell_type": "code",
      "source": [
        "import nltk\n",
        "nltk.download('wordnet')\n",
        "nltk.download('omw-1.4')  # Required for lemmatization in some setups\n"
      ],
      "metadata": {
        "colab": {
          "base_uri": "https://localhost:8080/"
        },
        "id": "yS5yjCnXhWbu",
        "outputId": "82a669b4-889a-4cd5-a96b-47d0037f1098"
      },
      "execution_count": 23,
      "outputs": [
        {
          "output_type": "stream",
          "name": "stderr",
          "text": [
            "[nltk_data] Downloading package wordnet to /root/nltk_data...\n",
            "[nltk_data]   Package wordnet is already up-to-date!\n",
            "[nltk_data] Downloading package omw-1.4 to /root/nltk_data...\n",
            "[nltk_data]   Package omw-1.4 is already up-to-date!\n"
          ]
        },
        {
          "output_type": "execute_result",
          "data": {
            "text/plain": [
              "True"
            ]
          },
          "metadata": {},
          "execution_count": 23
        }
      ]
    },
    {
      "cell_type": "code",
      "source": [
        "import re\n",
        "import string\n",
        "\n",
        "def preprocess_text(text):\n",
        "    text = str(text).lower()  # lowercase & ensure string\n",
        "    text = re.sub(r'^subject:\\s*', '', text)  # remove Subject:\n",
        "    text = text.translate(str.maketrans('', '', string.punctuation))  # remove punctuation\n",
        "    text = re.sub(r'\\d+', '', text)  # remove numbers\n",
        "    text = re.sub(r'\\s+', ' ', text).strip()  # remove extra whitespace\n",
        "    return text\n",
        "\n",
        "spam_df[\"preprocessed_text\"] = spam_df[\"text\"].apply(preprocess_text)\n",
        "spam_df.head()\n"
      ],
      "metadata": {
        "colab": {
          "base_uri": "https://localhost:8080/",
          "height": 206
        },
        "id": "XAZZLzNwfygr",
        "outputId": "d0ed979b-7619-43b8-9cb8-311d987e962c"
      },
      "execution_count": 25,
      "outputs": [
        {
          "output_type": "execute_result",
          "data": {
            "text/plain": [
              "                                                text  label  length  \\\n",
              "0  Subject: naturally irresistible your corporate...      1    1484   \n",
              "1  Subject: the stock trading gunslinger  fanny i...      1     598   \n",
              "2  Subject: unbelievable new homes made easy  im ...      1     448   \n",
              "3  Subject: 4 color printing special  request add...      1     500   \n",
              "4  Subject: do not have money , get software cds ...      1     235   \n",
              "\n",
              "                                   preprocessed_text  \n",
              "0  naturally irresistible your corporate identity...  \n",
              "1  the stock trading gunslinger fanny is merrill ...  \n",
              "2  unbelievable new homes made easy im wanting to...  \n",
              "3  color printing special request additional info...  \n",
              "4  do not have money get software cds from here s...  "
            ],
            "text/html": [
              "\n",
              "  <div id=\"df-9ef4419c-cecd-4cd6-b949-2d2df2d34924\" class=\"colab-df-container\">\n",
              "    <div>\n",
              "<style scoped>\n",
              "    .dataframe tbody tr th:only-of-type {\n",
              "        vertical-align: middle;\n",
              "    }\n",
              "\n",
              "    .dataframe tbody tr th {\n",
              "        vertical-align: top;\n",
              "    }\n",
              "\n",
              "    .dataframe thead th {\n",
              "        text-align: right;\n",
              "    }\n",
              "</style>\n",
              "<table border=\"1\" class=\"dataframe\">\n",
              "  <thead>\n",
              "    <tr style=\"text-align: right;\">\n",
              "      <th></th>\n",
              "      <th>text</th>\n",
              "      <th>label</th>\n",
              "      <th>length</th>\n",
              "      <th>preprocessed_text</th>\n",
              "    </tr>\n",
              "  </thead>\n",
              "  <tbody>\n",
              "    <tr>\n",
              "      <th>0</th>\n",
              "      <td>Subject: naturally irresistible your corporate...</td>\n",
              "      <td>1</td>\n",
              "      <td>1484</td>\n",
              "      <td>naturally irresistible your corporate identity...</td>\n",
              "    </tr>\n",
              "    <tr>\n",
              "      <th>1</th>\n",
              "      <td>Subject: the stock trading gunslinger  fanny i...</td>\n",
              "      <td>1</td>\n",
              "      <td>598</td>\n",
              "      <td>the stock trading gunslinger fanny is merrill ...</td>\n",
              "    </tr>\n",
              "    <tr>\n",
              "      <th>2</th>\n",
              "      <td>Subject: unbelievable new homes made easy  im ...</td>\n",
              "      <td>1</td>\n",
              "      <td>448</td>\n",
              "      <td>unbelievable new homes made easy im wanting to...</td>\n",
              "    </tr>\n",
              "    <tr>\n",
              "      <th>3</th>\n",
              "      <td>Subject: 4 color printing special  request add...</td>\n",
              "      <td>1</td>\n",
              "      <td>500</td>\n",
              "      <td>color printing special request additional info...</td>\n",
              "    </tr>\n",
              "    <tr>\n",
              "      <th>4</th>\n",
              "      <td>Subject: do not have money , get software cds ...</td>\n",
              "      <td>1</td>\n",
              "      <td>235</td>\n",
              "      <td>do not have money get software cds from here s...</td>\n",
              "    </tr>\n",
              "  </tbody>\n",
              "</table>\n",
              "</div>\n",
              "    <div class=\"colab-df-buttons\">\n",
              "\n",
              "  <div class=\"colab-df-container\">\n",
              "    <button class=\"colab-df-convert\" onclick=\"convertToInteractive('df-9ef4419c-cecd-4cd6-b949-2d2df2d34924')\"\n",
              "            title=\"Convert this dataframe to an interactive table.\"\n",
              "            style=\"display:none;\">\n",
              "\n",
              "  <svg xmlns=\"http://www.w3.org/2000/svg\" height=\"24px\" viewBox=\"0 -960 960 960\">\n",
              "    <path d=\"M120-120v-720h720v720H120Zm60-500h600v-160H180v160Zm220 220h160v-160H400v160Zm0 220h160v-160H400v160ZM180-400h160v-160H180v160Zm440 0h160v-160H620v160ZM180-180h160v-160H180v160Zm440 0h160v-160H620v160Z\"/>\n",
              "  </svg>\n",
              "    </button>\n",
              "\n",
              "  <style>\n",
              "    .colab-df-container {\n",
              "      display:flex;\n",
              "      gap: 12px;\n",
              "    }\n",
              "\n",
              "    .colab-df-convert {\n",
              "      background-color: #E8F0FE;\n",
              "      border: none;\n",
              "      border-radius: 50%;\n",
              "      cursor: pointer;\n",
              "      display: none;\n",
              "      fill: #1967D2;\n",
              "      height: 32px;\n",
              "      padding: 0 0 0 0;\n",
              "      width: 32px;\n",
              "    }\n",
              "\n",
              "    .colab-df-convert:hover {\n",
              "      background-color: #E2EBFA;\n",
              "      box-shadow: 0px 1px 2px rgba(60, 64, 67, 0.3), 0px 1px 3px 1px rgba(60, 64, 67, 0.15);\n",
              "      fill: #174EA6;\n",
              "    }\n",
              "\n",
              "    .colab-df-buttons div {\n",
              "      margin-bottom: 4px;\n",
              "    }\n",
              "\n",
              "    [theme=dark] .colab-df-convert {\n",
              "      background-color: #3B4455;\n",
              "      fill: #D2E3FC;\n",
              "    }\n",
              "\n",
              "    [theme=dark] .colab-df-convert:hover {\n",
              "      background-color: #434B5C;\n",
              "      box-shadow: 0px 1px 3px 1px rgba(0, 0, 0, 0.15);\n",
              "      filter: drop-shadow(0px 1px 2px rgba(0, 0, 0, 0.3));\n",
              "      fill: #FFFFFF;\n",
              "    }\n",
              "  </style>\n",
              "\n",
              "    <script>\n",
              "      const buttonEl =\n",
              "        document.querySelector('#df-9ef4419c-cecd-4cd6-b949-2d2df2d34924 button.colab-df-convert');\n",
              "      buttonEl.style.display =\n",
              "        google.colab.kernel.accessAllowed ? 'block' : 'none';\n",
              "\n",
              "      async function convertToInteractive(key) {\n",
              "        const element = document.querySelector('#df-9ef4419c-cecd-4cd6-b949-2d2df2d34924');\n",
              "        const dataTable =\n",
              "          await google.colab.kernel.invokeFunction('convertToInteractive',\n",
              "                                                    [key], {});\n",
              "        if (!dataTable) return;\n",
              "\n",
              "        const docLinkHtml = 'Like what you see? Visit the ' +\n",
              "          '<a target=\"_blank\" href=https://colab.research.google.com/notebooks/data_table.ipynb>data table notebook</a>'\n",
              "          + ' to learn more about interactive tables.';\n",
              "        element.innerHTML = '';\n",
              "        dataTable['output_type'] = 'display_data';\n",
              "        await google.colab.output.renderOutput(dataTable, element);\n",
              "        const docLink = document.createElement('div');\n",
              "        docLink.innerHTML = docLinkHtml;\n",
              "        element.appendChild(docLink);\n",
              "      }\n",
              "    </script>\n",
              "  </div>\n",
              "\n",
              "\n",
              "    <div id=\"df-10cec30e-f1e3-4ce9-adf0-db96a0b74a80\">\n",
              "      <button class=\"colab-df-quickchart\" onclick=\"quickchart('df-10cec30e-f1e3-4ce9-adf0-db96a0b74a80')\"\n",
              "                title=\"Suggest charts\"\n",
              "                style=\"display:none;\">\n",
              "\n",
              "<svg xmlns=\"http://www.w3.org/2000/svg\" height=\"24px\"viewBox=\"0 0 24 24\"\n",
              "     width=\"24px\">\n",
              "    <g>\n",
              "        <path d=\"M19 3H5c-1.1 0-2 .9-2 2v14c0 1.1.9 2 2 2h14c1.1 0 2-.9 2-2V5c0-1.1-.9-2-2-2zM9 17H7v-7h2v7zm4 0h-2V7h2v10zm4 0h-2v-4h2v4z\"/>\n",
              "    </g>\n",
              "</svg>\n",
              "      </button>\n",
              "\n",
              "<style>\n",
              "  .colab-df-quickchart {\n",
              "      --bg-color: #E8F0FE;\n",
              "      --fill-color: #1967D2;\n",
              "      --hover-bg-color: #E2EBFA;\n",
              "      --hover-fill-color: #174EA6;\n",
              "      --disabled-fill-color: #AAA;\n",
              "      --disabled-bg-color: #DDD;\n",
              "  }\n",
              "\n",
              "  [theme=dark] .colab-df-quickchart {\n",
              "      --bg-color: #3B4455;\n",
              "      --fill-color: #D2E3FC;\n",
              "      --hover-bg-color: #434B5C;\n",
              "      --hover-fill-color: #FFFFFF;\n",
              "      --disabled-bg-color: #3B4455;\n",
              "      --disabled-fill-color: #666;\n",
              "  }\n",
              "\n",
              "  .colab-df-quickchart {\n",
              "    background-color: var(--bg-color);\n",
              "    border: none;\n",
              "    border-radius: 50%;\n",
              "    cursor: pointer;\n",
              "    display: none;\n",
              "    fill: var(--fill-color);\n",
              "    height: 32px;\n",
              "    padding: 0;\n",
              "    width: 32px;\n",
              "  }\n",
              "\n",
              "  .colab-df-quickchart:hover {\n",
              "    background-color: var(--hover-bg-color);\n",
              "    box-shadow: 0 1px 2px rgba(60, 64, 67, 0.3), 0 1px 3px 1px rgba(60, 64, 67, 0.15);\n",
              "    fill: var(--button-hover-fill-color);\n",
              "  }\n",
              "\n",
              "  .colab-df-quickchart-complete:disabled,\n",
              "  .colab-df-quickchart-complete:disabled:hover {\n",
              "    background-color: var(--disabled-bg-color);\n",
              "    fill: var(--disabled-fill-color);\n",
              "    box-shadow: none;\n",
              "  }\n",
              "\n",
              "  .colab-df-spinner {\n",
              "    border: 2px solid var(--fill-color);\n",
              "    border-color: transparent;\n",
              "    border-bottom-color: var(--fill-color);\n",
              "    animation:\n",
              "      spin 1s steps(1) infinite;\n",
              "  }\n",
              "\n",
              "  @keyframes spin {\n",
              "    0% {\n",
              "      border-color: transparent;\n",
              "      border-bottom-color: var(--fill-color);\n",
              "      border-left-color: var(--fill-color);\n",
              "    }\n",
              "    20% {\n",
              "      border-color: transparent;\n",
              "      border-left-color: var(--fill-color);\n",
              "      border-top-color: var(--fill-color);\n",
              "    }\n",
              "    30% {\n",
              "      border-color: transparent;\n",
              "      border-left-color: var(--fill-color);\n",
              "      border-top-color: var(--fill-color);\n",
              "      border-right-color: var(--fill-color);\n",
              "    }\n",
              "    40% {\n",
              "      border-color: transparent;\n",
              "      border-right-color: var(--fill-color);\n",
              "      border-top-color: var(--fill-color);\n",
              "    }\n",
              "    60% {\n",
              "      border-color: transparent;\n",
              "      border-right-color: var(--fill-color);\n",
              "    }\n",
              "    80% {\n",
              "      border-color: transparent;\n",
              "      border-right-color: var(--fill-color);\n",
              "      border-bottom-color: var(--fill-color);\n",
              "    }\n",
              "    90% {\n",
              "      border-color: transparent;\n",
              "      border-bottom-color: var(--fill-color);\n",
              "    }\n",
              "  }\n",
              "</style>\n",
              "\n",
              "      <script>\n",
              "        async function quickchart(key) {\n",
              "          const quickchartButtonEl =\n",
              "            document.querySelector('#' + key + ' button');\n",
              "          quickchartButtonEl.disabled = true;  // To prevent multiple clicks.\n",
              "          quickchartButtonEl.classList.add('colab-df-spinner');\n",
              "          try {\n",
              "            const charts = await google.colab.kernel.invokeFunction(\n",
              "                'suggestCharts', [key], {});\n",
              "          } catch (error) {\n",
              "            console.error('Error during call to suggestCharts:', error);\n",
              "          }\n",
              "          quickchartButtonEl.classList.remove('colab-df-spinner');\n",
              "          quickchartButtonEl.classList.add('colab-df-quickchart-complete');\n",
              "        }\n",
              "        (() => {\n",
              "          let quickchartButtonEl =\n",
              "            document.querySelector('#df-10cec30e-f1e3-4ce9-adf0-db96a0b74a80 button');\n",
              "          quickchartButtonEl.style.display =\n",
              "            google.colab.kernel.accessAllowed ? 'block' : 'none';\n",
              "        })();\n",
              "      </script>\n",
              "    </div>\n",
              "\n",
              "    </div>\n",
              "  </div>\n"
            ],
            "application/vnd.google.colaboratory.intrinsic+json": {
              "type": "dataframe",
              "variable_name": "spam_df",
              "summary": "{\n  \"name\": \"spam_df\",\n  \"rows\": 5695,\n  \"fields\": [\n    {\n      \"column\": \"text\",\n      \"properties\": {\n        \"dtype\": \"string\",\n        \"num_unique_values\": 5695,\n        \"samples\": [\n          \"Subject: eprm article  hi vince ,  ?  as always , it was good to see you again in houston - we all enjoyed the meal  very much , the restaurant was a good choice .  ?  it ' s that time again i ' m afraid . can you pls cast your eye over the  attached ? and , if at all possible , get back to me in the next few days - i  have to deliver something to london by friday .  ?  how ' s the course going at rice ? not too much work i hope .  ?  best regards .  ?  chris .  ?  - eprm _ 09 _ fwd _ vol _ estimation . doc\",\n          \"Subject: fluid analysis  our customer speak volumes about our spur m product  \\\" i just wanted to write and thank you for spur - m .  i suffered from poor sperm count and motility . i found  your site and ordered spur - m fertility blend for men .  i have wondered for years what caused low semen and sperm  count , and how i could improve my fertility and help my wife  conceive . spur - m seems to have done just that ! thank you  for your support . \\\"  andrew h . , london , uk  \\\" spur - m really does help improve fertility and effectiveness  of sperm and semen motility . i used it for the past few months ,  and not only does it work - i also feel better to . i have  more energy . this is an excellent counter to low sperm count  and motility . i ' ll be buying more ! ! ! \\\"  franz k . , bonn , germany  http : / / findgoodstuffhere . com / spur /  for removing , pls go here  http : / / findgoodstuffhere . com / rm . php\",\n          \"Subject: re : liquids limits oct . 20  john :  i will be here most of the week , and am looking forward to working with niamh  c . i will also check the availability of people in vince k . group as well as  naveen andrews in ours .  regards  bjorn h .  john l nowlan  24 / 10 / 2000 10 : 32  to : bjorn hagelmann / hou / ect @ ect  cc : ted murphy / hou / ect @ ect  subject : re : liquids limits oct . 20  bjorn , niamh clarke is going to come to houston from mon afternoon to friday  next week to work on nvar . she developed var models for mitsubishi and has  lots of experience in this area . can you please provide her with the best  people we can from research and rac so we can try and get a better  understanding and more confidence in our model . i ' m sure you agree with me  that if my group is going to make any progress we need to get this sorted .  thanks in advance .  - - - - - - - - - - - - - - - - - - - - - - forwarded by john l nowlan / hou / ect on 10 / 24 / 2000 09 : 51  am - - - - - - - - - - - - - - - - - - - - - - - - - - -  from : bjorn hagelmann  10 / 24 / 2000 07 : 31 am  to : john l nowlan / hou / ect @ ect  cc : scott earnest / hou / ect @ ect  subject : re : liquids limits oct . 20  i think we need to sit down and talk about developing reporting that will  show the risk in the books . at this point and time it can be derived , but  only if you know what to look for . i would appreciate if you had some time to  do so .  regards  bjorn h  john l nowlan  23 / 10 / 2000 13 : 10  to : christian lebroc / corp / enron @ enron , scott earnest / hou / ect @ ect , bjorn  hagelmann / hou / ect @ ect  cc :  subject : re : liquids limits oct . 20  looking at these numbers i think the var model must be waaaaaaaaaay over  calcing something , most likely the spreads . the net and outright product  position are negligible . seems it would take one hell of a daily move to  loose 12 . 7 on these positions .\"\n        ],\n        \"semantic_type\": \"\",\n        \"description\": \"\"\n      }\n    },\n    {\n      \"column\": \"label\",\n      \"properties\": {\n        \"dtype\": \"number\",\n        \"std\": 0,\n        \"min\": 0,\n        \"max\": 1,\n        \"num_unique_values\": 2,\n        \"samples\": [\n          0,\n          1\n        ],\n        \"semantic_type\": \"\",\n        \"description\": \"\"\n      }\n    },\n    {\n      \"column\": \"length\",\n      \"properties\": {\n        \"dtype\": \"number\",\n        \"std\": 2047,\n        \"min\": 13,\n        \"max\": 43952,\n        \"num_unique_values\": 2710,\n        \"samples\": [\n          2639,\n          5253\n        ],\n        \"semantic_type\": \"\",\n        \"description\": \"\"\n      }\n    },\n    {\n      \"column\": \"preprocessed_text\",\n      \"properties\": {\n        \"dtype\": \"string\",\n        \"num_unique_values\": 5504,\n        \"samples\": [\n          \"kin tso ut candidate for direct hire vince just wanted to follow up on our conversation yesterday regarding kin tso charlene actually called kin yesterday to let him know that your group was interested in him as a direct hire and would be contacting him this week as we discussed kin was told that his quantitative skills were a much better fit for your group instead of our rotating associate program we let him know that the associate program would not be making him an offer but he is being considered for a direct hire kin was receptive and is looking forward to hearing from you we will consider this issue closed from the associate and analyst program we hope that you might find a direct hire fit for him in your area if you have any additional questions please let me know thanks so much\",\n          \"best mortgage rate vjd with regards to want to refinance fill out this quick form and immediately have mortgage companies compete for you business you will be offered the absolute best refinance rates available your credit doesn t matter don t even worry about past credit problems we can refinance anyone let us put our expertise to work for you http or site http agileconcepts com erase http optout htm\"\n        ],\n        \"semantic_type\": \"\",\n        \"description\": \"\"\n      }\n    }\n  ]\n}"
            }
          },
          "metadata": {},
          "execution_count": 25
        }
      ]
    },
    {
      "cell_type": "markdown",
      "source": [
        "N GRAM"
      ],
      "metadata": {
        "id": "lO10jvu5iPv4"
      }
    },
    {
      "cell_type": "code",
      "source": [
        "import matplotlib.pyplot as plt\n",
        "import seaborn as sns\n",
        "from sklearn.feature_extraction.text import CountVectorizer\n",
        "\n",
        "sns.set(style=\"whitegrid\")\n",
        "\n",
        "def plot_ngrams(ax, texts, ngram_range=(2, 2), num_top_ngrams=25, title=''):\n",
        "    vectorizer = CountVectorizer(ngram_range=ngram_range)\n",
        "    X = vectorizer.fit_transform(texts)\n",
        "    feature_names = vectorizer.get_feature_names_out()\n",
        "    ngram_counts = X.sum(axis=0).A1\n",
        "    ngram_dict = dict(zip(feature_names, ngram_counts))\n",
        "    sorted_ngrams = sorted(ngram_dict.items(), key=lambda x: x[1], reverse=True)\n",
        "    top_ngrams = sorted_ngrams[:num_top_ngrams]\n",
        "\n",
        "    sns.barplot(ax=ax, x=[count for _, count in top_ngrams],\n",
        "                y=[ngram for ngram, _ in top_ngrams],\n",
        "                orient=\"h\",\n",
        "                width=0.5,\n",
        "                palette='Spectral')\n",
        "    ax.set_xlabel('Frequency')\n",
        "    ax.set_ylabel('N-gram')\n",
        "    ax.set_title(title)\n",
        "    ax.grid(axis='x')\n",
        "\n",
        "spam_texts = spam_df[spam_df['label'] == 1]['preprocessed_text']\n",
        "non_spam_texts = spam_df[spam_df['label'] == 0]['preprocessed_text']\n",
        "\n",
        "fig, axes = plt.subplots(1, 2, figsize=(14, 6))\n",
        "plot_ngrams(axes[0], spam_texts, title='Top Bigrams in Spam Messages')\n",
        "plot_ngrams(axes[1], non_spam_texts, title='Top Bigrams in Non-Spam Messages')\n",
        "plt.tight_layout()\n",
        "plt.show()\n"
      ],
      "metadata": {
        "colab": {
          "base_uri": "https://localhost:8080/",
          "height": 601
        },
        "id": "Q0mw_F6riRi0",
        "outputId": "fdf09aa3-6906-4b64-989f-2bf0b4f8d047"
      },
      "execution_count": 26,
      "outputs": [
        {
          "output_type": "display_data",
          "data": {
            "text/plain": [
              "<Figure size 1400x600 with 2 Axes>"
            ],
            "image/png": "[encoded data removed]"
          },
          "metadata": {}
        }
      ]
    },
    {
      "cell_type": "markdown",
      "source": [
        "Feature Engineering¶\n",
        "\n",
        "1.Count Vectorizer\n",
        "\n",
        "\n",
        "2.TF-IDF Vectorizer (Term Frequency Inverse Document Frequency)\n",
        "\n",
        "\n",
        "1.Count Vectorizer\n",
        "\n",
        "\n",
        "Count Vectorizer is a simple method used to convert a collection of text documents into a matrix of token counts. It works by converting text documents into a sparse matrix representation where each row corresponds to a document, and each column corresponds to a unique word in the corpus (collection of documents). The value in each cell of the matrix represents the frequency of occurrence of the corresponding word in the corresponding document\n",
        "\n",
        "\n",
        "fit_transform learns the vocabulary of the text data (i.e., all unique words) and transforms the text data into a sparse matrix representation called a bag-of-words (BoW) representation"
      ],
      "metadata": {
        "id": "PYV_Tcf_iZ3t"
      }
    },
    {
      "cell_type": "code",
      "source": [
        "# Initialize count vectorizer\n",
        "vectorizer = CountVectorizer()\n",
        "# Bag of words\n",
        "bow_text = vectorizer.fit_transform(spam_df[\"preprocessed_text\"])\n",
        "# Fetch the vocabulary set\n",
        "print(f\"10 Bag Of Words Features: {vectorizer.get_feature_names_out()[100:110]}\")\n",
        "print(f\"Total number of vocab words: {len(vectorizer.vocabulary_)}\")"
      ],
      "metadata": {
        "colab": {
          "base_uri": "https://localhost:8080/"
        },
        "id": "JjBstxmnie20",
        "outputId": "d4b5a96f-047e-49b7-a90a-9367dfc602e5"
      },
      "execution_count": 27,
      "outputs": [
        {
          "output_type": "stream",
          "name": "stdout",
          "text": [
            "10 Bag Of Words Features: ['absent' 'absolute' 'absolutely' 'absolutes' 'absolve' 'absolved'\n",
            " 'absorb' 'absorbing' 'absorbowac' 'absorbs']\n",
            "Total number of vocab words: 33715\n"
          ]
        }
      ]
    },
    {
      "cell_type": "code",
      "source": [
        "# transform only transforms the text data into BoW representation using the vocabulary learned during fitting. It does not re-learn the vocabulary.\n",
        "\n",
        "# Convert strings to vectors using BoW\n",
        "transformed_bow = vectorizer.transform(spam_df[\"preprocessed_text\"])\n",
        "\n",
        "# Print the shape of the sparse matrix and count the number of non-zero occurrences\n",
        "print(f\"Shape of sparse matrix: {transformed_bow.shape}\")\n",
        "print(f\"Amount of non-zero occurrences: {transformed_bow.nnz}\")"
      ],
      "metadata": {
        "colab": {
          "base_uri": "https://localhost:8080/"
        },
        "id": "9iX3NTuejGcu",
        "outputId": "a0b8317d-5c32-4d7c-d4a7-1ccda3505725"
      },
      "execution_count": 28,
      "outputs": [
        {
          "output_type": "stream",
          "name": "stdout",
          "text": [
            "Shape of sparse matrix: (5695, 33715)\n",
            "Amount of non-zero occurrences: 657003\n"
          ]
        }
      ]
    },
    {
      "cell_type": "markdown",
      "source": [
        "2. TF-IDF Vectorizer\n",
        "\n",
        "TF-IDF Vectorizer is another technique for text feature extraction, but it goes beyond simple word counts. It considers both the importance of a word within a document (term frequency) and its overall importance across the entire document collection (inverse document frequency).\n",
        "\n",
        "Term Frequency (TF): Similar to CountVectorizer, TF-IDF calculates the frequency of each word in a document. However, it often normalizes this value by dividing by the document's total word count. This prevents documents with more words from getting higher weightage solely based on word count.\n",
        "\n",
        "Inverse Document Frequency (IDF): IDF focuses on the significance of a word across the entire document collection. It downplays the importance of common words that appear frequently in many documents and emphasizes words that are unique or distinctive to a particular document\n",
        "\n",
        "By multiplying TF and IDF scores for each word in a document, TF-IDF Vectorizer creates a weight that reflects a word's importance within a specific document relative to the entire document collectio"
      ],
      "metadata": {
        "id": "PnzL3kqfjVT8"
      }
    },
    {
      "cell_type": "code",
      "source": [
        "# TF-IDF\n",
        "tfidf_transformer = TfidfTransformer().fit(transformed_bow)\n",
        "# Transform entire BoW into tf-idf corpus\n",
        "text_tfidf = tfidf_transformer.transform(transformed_bow)\n",
        "print(text_tfidf.shape)"
      ],
      "metadata": {
        "colab": {
          "base_uri": "https://localhost:8080/"
        },
        "id": "IwI1wAaPjNE0",
        "outputId": "ea4da969-19ac-46a1-8778-f52ec1287e9e"
      },
      "execution_count": 29,
      "outputs": [
        {
          "output_type": "stream",
          "name": "stdout",
          "text": [
            "(5695, 33715)\n"
          ]
        }
      ]
    },
    {
      "cell_type": "markdown",
      "source": [
        "Model selction\n",
        "Split the data into train and test\n",
        "Classification Model\n",
        "Support vector machine (SVM) classification model\n",
        "Random Forest Classification Model\n",
        "\n",
        "Evaluate the model\n",
        "\n",
        "1. Split the data into train and test\n",
        "\n",
        "we have split the data as 80-20"
      ],
      "metadata": {
        "id": "a_bu9h0gjgnU"
      }
    },
    {
      "cell_type": "code",
      "source": [
        "# Split the dataset to train and test sets\n",
        "x_train, x_test, y_train, y_test = train_test_split(\n",
        "    text_tfidf, spam_df[\"label\"], test_size=0.2\n",
        ")\n",
        "\n",
        "print(f\"train dataset features size: {x_train.shape}\")\n",
        "print(f\"train dataset label size: {y_train.shape}\")\n",
        "\n",
        "print(f\"test dataset features size: {x_test.shape}\")\n",
        "print(f\"test dataset label size: {y_test.shape}\")"
      ],
      "metadata": {
        "colab": {
          "base_uri": "https://localhost:8080/"
        },
        "id": "aI5xvvqIjlMr",
        "outputId": "986cfb73-4640-4500-9a0f-09722c8c05e2"
      },
      "execution_count": 30,
      "outputs": [
        {
          "output_type": "stream",
          "name": "stdout",
          "text": [
            "train dataset features size: (4556, 33715)\n",
            "train dataset label size: (4556,)\n",
            "test dataset features size: (1139, 33715)\n",
            "test dataset label size: (1139,)\n"
          ]
        }
      ]
    },
    {
      "cell_type": "markdown",
      "source": [
        "2. classification model\n",
        "\n",
        "\n",
        "Initialize SVM model\n",
        "\n",
        "Train the SVM model\n",
        "\n",
        "Make predictions on the test data\n",
        "\n",
        "Confusion Matrix\n",
        "\n",
        "Evaluate the model"
      ],
      "metadata": {
        "id": "h65TtDopjw_K"
      }
    },
    {
      "cell_type": "code",
      "source": [
        "def evaluate_model(model, x_test, y_test, model_name=\"Model\"):\n",
        "\n",
        "  # Predict labels on testing data\n",
        "  y_pred = model.predict(x_test)\n",
        "\n",
        "  # Calculate confusion matrix\n",
        "  conf_matrix = confusion_matrix(y_test, y_pred)\n",
        "\n",
        "  # Extract TP, TN, FP, FN\n",
        "  TN, FP, FN, TP = conf_matrix.ravel()\n",
        "\n",
        "  # Calculate various performance metrics\n",
        "  accuracy = accuracy_score(y_test, y_pred)\n",
        "  recall = recall_score(y_test, y_pred)\n",
        "  precision = precision_score(y_test, y_pred)\n",
        "  f1 = f1_score(y_test, y_pred)\n",
        "  specificity = TN / (TN + FP)\n",
        "  miss_rate = FN / (FN + TP)\n",
        "\n",
        "  # Calculate mean accuracy using cross-validation\n",
        "  mean_accuracy = cross_val_predict(model, x_train, y_train, cv=10).mean()\n",
        "\n",
        "  # Calculate mean square error (for regression tasks, not applicable here)\n",
        "  mse = mean_squared_error(y_test, y_pred)\n",
        "  classification_rep = classification_report(y_test, y_pred, output_dict=True)\n",
        "  metrics = {\n",
        "        \"Accuracy\": accuracy,\n",
        "        \"Recall\": recall,\n",
        "        \"Precision\": precision,\n",
        "        \"F1-score\": f1,\n",
        "        \"Specificity\": specificity,\n",
        "        \"Miss Rate\": miss_rate,\n",
        "        \"Mean Accuracy\": mean_accuracy,\n",
        "        \"Mean Square Error\": mse,\n",
        "        \"Classification Report\": classification_rep\n",
        "    }\n",
        "  # Print evaluation metrics\n",
        "  print(f\"\\033[1m EVALUATION METRICS ({model_name}) \\033[0m\")\n",
        "  print(f\"\\n \\033 ---------------------------------------------------------------- \\033[0m\")\n",
        "  print(\"\\nTrue Positives (TP):\", TP)\n",
        "  print(\"True Negatives (TN):\", TN)\n",
        "  print(\"False Positives (FP):\", FP)\n",
        "  print(\"False Negatives (FN):\", FN)\n",
        "  print(\"\\nAccuracy   : \", accuracy)\n",
        "  print(\"Recall       : \", recall)\n",
        "  print(\"Precision    : \", precision)\n",
        "  print(\"F1-score     : \", f1)\n",
        "  print(\"Specificity  : \", specificity)\n",
        "  print(\"Miss Rate    : \", miss_rate)\n",
        "  print(\"Mean Accuracy: \", mean_accuracy)\n",
        "  print(\"Mean Square Error:\", mse)  # Not applicable for classification\n",
        "  print(f\" \\033 ---------------------------------------------------------------- \\033[0m\")\n",
        "\n",
        "  # Print classification report\n",
        "  print(\"\\033[1m Classification Report: \\033[0m\")\n",
        "  print(classification_report(y_test, y_pred))\n",
        "  print(f\"\\n \\033 ---------------------------------------------------------------- \\033[0m\")\n",
        "  print(\"\\033[1m Confusion Matrix \\033[0m\")\n",
        "  # Plot the confusion matrix\n",
        "  disp = ConfusionMatrixDisplay(confusion_matrix=conf_matrix)\n",
        "  disp.plot(cmap='bone_r')  # specify the colormap for better visualization\n",
        "  plt.show()\n",
        "  return metrics,y_pred"
      ],
      "metadata": {
        "id": "2aeqxExUjtMD"
      },
      "execution_count": 31,
      "outputs": []
    },
    {
      "cell_type": "code",
      "source": [
        "# Train SVM model\n",
        "svm_model = SVC()\n",
        "svm_model.fit(x_train, y_train)\n",
        "# Evaluate SVM model\n",
        "svm_metrics,y_pred_svm = evaluate_model(svm_model, x_test, y_test, model_name=\"SVM\")"
      ],
      "metadata": {
        "colab": {
          "base_uri": "https://localhost:8080/",
          "height": 996
        },
        "id": "16EtFHhFkCwE",
        "outputId": "fe38b267-f5c8-4021-e4e0-7dbe86165776"
      },
      "execution_count": 32,
      "outputs": [
        {
          "output_type": "stream",
          "name": "stdout",
          "text": [
            "\u001b[1m EVALUATION METRICS (SVM) \u001b[0m\n",
            "\n",
            " \u001b ---------------------------------------------------------------- \u001b[0m\n",
            "\n",
            "True Positives (TP): 248\n",
            "True Negatives (TN): 883\n",
            "False Positives (FP): 1\n",
            "False Negatives (FN): 7\n",
            "\n",
            "Accuracy   :  0.9929762949956101\n",
            "Recall       :  0.9725490196078431\n",
            "Precision    :  0.9959839357429718\n",
            "F1-score     :  0.9841269841269841\n",
            "Specificity  :  0.998868778280543\n",
            "Miss Rate    :  0.027450980392156862\n",
            "Mean Accuracy:  0.2370500438981563\n",
            "Mean Square Error: 0.007023705004389816\n",
            " \u001b ---------------------------------------------------------------- \u001b[0m\n",
            "\u001b[1m Classification Report: \u001b[0m\n",
            "              precision    recall  f1-score   support\n",
            "\n",
            "           0       0.99      1.00      1.00       884\n",
            "           1       1.00      0.97      0.98       255\n",
            "\n",
            "    accuracy                           0.99      1139\n",
            "   macro avg       0.99      0.99      0.99      1139\n",
            "weighted avg       0.99      0.99      0.99      1139\n",
            "\n",
            "\n",
            " \u001b ---------------------------------------------------------------- \u001b[0m\n",
            "\u001b[1m Confusion Matrix \u001b[0m\n"
          ]
        },
        {
          "output_type": "display_data",
          "data": {
            "text/plain": [
              "<Figure size 640x480 with 2 Axes>"
            ],
            "image/png": "[encoded data removed]"
          },
          "metadata": {}
        }
      ]
    },
    {
      "cell_type": "markdown",
      "source": [
        "Metric\tValue\tInterpretation\n",
        "True Positives (TP)\t 248\t Spam emails correctly identified as spam\n",
        "\n",
        "True Negatives (TN)\t883\tNon-spam emails correctly identified as non-spam\n",
        "\n",
        "False Positives (FP)\t1\tNon-spam emails incorrectly marked as spam (Type I error)\n",
        "\n",
        "False Negatives (FN)\t7\tSpam emails missed by the classifier (Type II error)\n",
        "\n",
        "Accuracy\t0.993\tOverall, 99.3% emails correctly classified\n",
        "\n",
        "Recall (Sensitivity)\t0.973\t97.3% of actual spam detected (very good at catching spam)\n",
        "\n",
        "Precision\t0.996\tWhen it predicts spam, it’s right 99.6% of the time (very few false alarms)\n",
        "\n",
        "F1-score\t0.984\tBalanced metric combining precision & recall — excellent overall performance\n",
        "\n",
        "Specificity\t0.999\t99.9% of non-spam correctly identified (very few false positives)\n",
        "\n",
        "Miss Rate\t0.027\tOnly 2.7% of spam missed — quite low\n",
        "\n",
        "Mean Accuracy\t0.237\tThis looks suspiciously low — likely unrelated or incorrectly calculated\n",
        "\n",
        "Mean Square Error (MSE)\t0.007\tLow error rate in prediction probability (good)"
      ],
      "metadata": {
        "id": "Gjsw-ThylCWe"
      }
    },
    {
      "cell_type": "code",
      "source": [
        "# Train Random Forest model\n",
        "randomForest_model = RandomForestClassifier()\n",
        "randomForest_model.fit(x_train, y_train)\n",
        "# Evaluate Random Forest model\n",
        "rf_metrics,y_pred_rf = evaluate_model(randomForest_model, x_test, y_test, model_name=\"Random Forest\")"
      ],
      "metadata": {
        "colab": {
          "base_uri": "https://localhost:8080/",
          "height": 996
        },
        "id": "-mkAuGpAlbvD",
        "outputId": "465471e4-dbec-4e3b-dad3-6c609ee2750a"
      },
      "execution_count": 33,
      "outputs": [
        {
          "output_type": "stream",
          "name": "stdout",
          "text": [
            "\u001b[1m EVALUATION METRICS (Random Forest) \u001b[0m\n",
            "\n",
            " \u001b ---------------------------------------------------------------- \u001b[0m\n",
            "\n",
            "True Positives (TP): 214\n",
            "True Negatives (TN): 883\n",
            "False Positives (FP): 1\n",
            "False Negatives (FN): 41\n",
            "\n",
            "Accuracy   :  0.9631255487269534\n",
            "Recall       :  0.8392156862745098\n",
            "Precision    :  0.9953488372093023\n",
            "F1-score     :  0.9106382978723404\n",
            "Specificity  :  0.998868778280543\n",
            "Miss Rate    :  0.1607843137254902\n",
            "Mean Accuracy:  0.20522388059701493\n",
            "Mean Square Error: 0.03687445127304653\n",
            " \u001b ---------------------------------------------------------------- \u001b[0m\n",
            "\u001b[1m Classification Report: \u001b[0m\n",
            "              precision    recall  f1-score   support\n",
            "\n",
            "           0       0.96      1.00      0.98       884\n",
            "           1       1.00      0.84      0.91       255\n",
            "\n",
            "    accuracy                           0.96      1139\n",
            "   macro avg       0.98      0.92      0.94      1139\n",
            "weighted avg       0.96      0.96      0.96      1139\n",
            "\n",
            "\n",
            " \u001b ---------------------------------------------------------------- \u001b[0m\n",
            "\u001b[1m Confusion Matrix \u001b[0m\n"
          ]
        },
        {
          "output_type": "display_data",
          "data": {
            "text/plain": [
              "<Figure size 640x480 with 2 Axes>"
            ],
            "image/png": "[encoded data removed]"
          },
          "metadata": {}
        }
      ]
    },
    {
      "cell_type": "code",
      "source": [
        "decisionTree_model = DecisionTreeClassifier()\n",
        "decisionTree_model.fit(x_train, y_train)\n",
        "dt_metrics,y_pred_dt = evaluate_model(decisionTree_model, x_test, y_test, model_name=\"Decision Tree\")"
      ],
      "metadata": {
        "colab": {
          "base_uri": "https://localhost:8080/",
          "height": 996
        },
        "id": "vmDCmAKfl9QI",
        "outputId": "09970fc4-cc90-477b-cc88-33dcc722e963"
      },
      "execution_count": 34,
      "outputs": [
        {
          "output_type": "stream",
          "name": "stdout",
          "text": [
            "\u001b[1m EVALUATION METRICS (Decision Tree) \u001b[0m\n",
            "\n",
            " \u001b ---------------------------------------------------------------- \u001b[0m\n",
            "\n",
            "True Positives (TP): 240\n",
            "True Negatives (TN): 847\n",
            "False Positives (FP): 37\n",
            "False Negatives (FN): 15\n",
            "\n",
            "Accuracy   :  0.9543459174714662\n",
            "Recall       :  0.9411764705882353\n",
            "Precision    :  0.8664259927797834\n",
            "F1-score     :  0.9022556390977443\n",
            "Specificity  :  0.9581447963800905\n",
            "Miss Rate    :  0.058823529411764705\n",
            "Mean Accuracy:  0.2515364354697103\n",
            "Mean Square Error: 0.0456540825285338\n",
            " \u001b ---------------------------------------------------------------- \u001b[0m\n",
            "\u001b[1m Classification Report: \u001b[0m\n",
            "              precision    recall  f1-score   support\n",
            "\n",
            "           0       0.98      0.96      0.97       884\n",
            "           1       0.87      0.94      0.90       255\n",
            "\n",
            "    accuracy                           0.95      1139\n",
            "   macro avg       0.92      0.95      0.94      1139\n",
            "weighted avg       0.96      0.95      0.96      1139\n",
            "\n",
            "\n",
            " \u001b ---------------------------------------------------------------- \u001b[0m\n",
            "\u001b[1m Confusion Matrix \u001b[0m\n"
          ]
        },
        {
          "output_type": "display_data",
          "data": {
            "text/plain": [
              "<Figure size 640x480 with 2 Axes>"
            ],
            "image/png": "[encoded data removed]"
          },
          "metadata": {}
        }
      ]
    },
    {
      "cell_type": "code",
      "source": [
        "NaiveBayes_model = GaussianNB()\n",
        "NaiveBayes_model.fit(x_train.toarray(), y_train)\n",
        "nb_metrics,y_pred_nb = evaluate_model(decisionTree_model, x_test.toarray(), y_test, model_name=\"Naive Bayes\")"
      ],
      "metadata": {
        "colab": {
          "base_uri": "https://localhost:8080/",
          "height": 996
        },
        "id": "Y0FVbNJLmIzw",
        "outputId": "05375310-d1cc-4021-e083-0800cb3aa98d"
      },
      "execution_count": 35,
      "outputs": [
        {
          "output_type": "stream",
          "name": "stdout",
          "text": [
            "\u001b[1m EVALUATION METRICS (Naive Bayes) \u001b[0m\n",
            "\n",
            " \u001b ---------------------------------------------------------------- \u001b[0m\n",
            "\n",
            "True Positives (TP): 240\n",
            "True Negatives (TN): 847\n",
            "False Positives (FP): 37\n",
            "False Negatives (FN): 15\n",
            "\n",
            "Accuracy   :  0.9543459174714662\n",
            "Recall       :  0.9411764705882353\n",
            "Precision    :  0.8664259927797834\n",
            "F1-score     :  0.9022556390977443\n",
            "Specificity  :  0.9581447963800905\n",
            "Miss Rate    :  0.058823529411764705\n",
            "Mean Accuracy:  0.2521949078138718\n",
            "Mean Square Error: 0.0456540825285338\n",
            " \u001b ---------------------------------------------------------------- \u001b[0m\n",
            "\u001b[1m Classification Report: \u001b[0m\n",
            "              precision    recall  f1-score   support\n",
            "\n",
            "           0       0.98      0.96      0.97       884\n",
            "           1       0.87      0.94      0.90       255\n",
            "\n",
            "    accuracy                           0.95      1139\n",
            "   macro avg       0.92      0.95      0.94      1139\n",
            "weighted avg       0.96      0.95      0.96      1139\n",
            "\n",
            "\n",
            " \u001b ---------------------------------------------------------------- \u001b[0m\n",
            "\u001b[1m Confusion Matrix \u001b[0m\n"
          ]
        },
        {
          "output_type": "display_data",
          "data": {
            "text/plain": [
              "<Figure size 640x480 with 2 Axes>"
            ],
            "image/png": "[encoded data removed]"
          },
          "metadata": {}
        }
      ]
    },
    {
      "cell_type": "code",
      "source": [
        "svm_fpr, svm_tpr, threshold = roc_curve(y_test, y_pred_svm)\n",
        "auc_svm = auc(svm_fpr, svm_tpr)\n",
        "rf_fpr, rf_tpr, threshold = roc_curve(y_test, y_pred_rf)\n",
        "auc_rfc = auc(rf_fpr, rf_tpr)\n",
        "dt_fpr, dt_tpr, threshold = roc_curve(y_test, y_pred_dt)\n",
        "auc_rfc = auc(dt_fpr, dt_tpr)\n",
        "nb_fpr, nb_tpr, threshold = roc_curve(y_test, y_pred_nb)\n",
        "auc_rfc = auc(nb_fpr, nb_tpr)"
      ],
      "metadata": {
        "id": "A5A5nhH6mVYs"
      },
      "execution_count": 36,
      "outputs": []
    },
    {
      "cell_type": "code",
      "source": [
        "classifiers = {\n",
        "    'Naive Bayes': (y_pred_nb, nb_fpr, nb_tpr),\n",
        "    'Decision Tree Classifier': (y_pred_dt, dt_fpr, dt_tpr),\n",
        "    'SVM': (y_pred_svm, svm_fpr, svm_tpr),\n",
        "    'RandomForest Classifier': (y_pred_rf, rf_fpr, rf_tpr)\n",
        "}\n",
        "\n",
        "plt.figure(figsize=(8, 6), dpi=100)\n",
        "colors=['crimson','orange','steelblue','limegreen']\n",
        "\n",
        "\n",
        "for i, (clf_name, (y_pred, fpr, tpr)) in enumerate(classifiers.items()):\n",
        "    auc_score = roc_auc_score(y_test, y_pred)  # Calculate AUC score using roc_auc_score\n",
        "    sns.lineplot(x=fpr, y=tpr, marker='.', label=f'{clf_name} (AUC = {auc_score:.3f})', color=colors[i])\n",
        "\n",
        "# Loop through classifiers and plot ROC curves\n",
        "#for clf_name, (y_pred, fpr, tpr) in classifiers.items():\n",
        "#    auc_score = roc_auc_score(y_test, y_pred)  # Calculate AUC score using roc_auc_score\n",
        "#    sns.lineplot(x=fpr, y=tpr, marker='.', label=f'{clf_name} (AUC = {auc_score:.3f})')  # Use seaborn lineplot\n",
        "\n",
        "# plot\n",
        "plt.xlabel('False Positive Rate (FPR)')\n",
        "plt.ylabel('True Positive Rate (TPR)')\n",
        "plt.title('ROC Curves for Classifiers')\n",
        "plt.grid(True)\n",
        "plt.legend()\n",
        "plt.show()"
      ],
      "metadata": {
        "colab": {
          "base_uri": "https://localhost:8080/",
          "height": 573
        },
        "id": "9ETdjps4meBp",
        "outputId": "5b5d7e72-75d4-499d-b0c5-916b5708ccaa"
      },
      "execution_count": 37,
      "outputs": [
        {
          "output_type": "display_data",
          "data": {
            "text/plain": [
              "<Figure size 800x600 with 1 Axes>"
            ],
            "image/png": "[encoded data removed]"
          },
          "metadata": {}
        }
      ]
    },
    {
      "cell_type": "code",
      "source": [
        "# MODEL PERFORMANCE COMPARISON\n",
        "# Extract metric names and values\n",
        "metric_names = list(svm_metrics.keys())\n",
        "svm_values = [svm_metrics[key] for key in metric_names if key != 'Classification Report']\n",
        "rf_values = [rf_metrics[key] for key in metric_names if key != 'Classification Report']\n",
        "dt_values = [dt_metrics[key] for key in metric_names if key != 'Classification Report']\n",
        "nb_values = [nb_metrics[key] for key in metric_names if key != 'Classification Report']\n",
        "\n",
        "length = len(metric_names)-1\n",
        "\n",
        "length_svm = len(svm_values)\n",
        "length_rf = len(rf_values)\n",
        "length_dt = len(dt_values)\n",
        "length_nb = len(nb_values)\n",
        "\n",
        "print(length,length_svm,length_rf,length_dt,length_nb)\n",
        "print()"
      ],
      "metadata": {
        "colab": {
          "base_uri": "https://localhost:8080/"
        },
        "id": "kHQSF7GGmqPR",
        "outputId": "e2e70eb2-7a6a-4050-d1a2-6a98a3b9d87b"
      },
      "execution_count": 38,
      "outputs": [
        {
          "output_type": "stream",
          "name": "stdout",
          "text": [
            "8 8 8 8 8\n",
            "\n"
          ]
        }
      ]
    },
    {
      "cell_type": "code",
      "source": [
        "# Create a bar chart\n",
        "plt.figure(figsize=(10, 6))\n",
        "x = np.arange(length)\n",
        "width = 0.2\n",
        "\n",
        "# Plot comparison\n",
        "#plt.bar(x, svm_values, width, label='SVM', color='darkolivegreen')\n",
        "#plt.bar(x + width, rf_values, width, label='Random Forest', color='limegreen')\n",
        "# Plot bars for each model\n",
        "plt.bar(x - width, svm_values, width, label='SVM', color='mediumvioletred')\n",
        "plt.bar(x, rf_values, width, label='Random Forest', color='deeppink')\n",
        "plt.bar(x + width, dt_values, width, label='Decision Tree', color='palevioletred')\n",
        "plt.bar(x + 2*width, nb_values, width, label='Naive Bayes', color='lightpink')\n",
        "\n",
        "\n",
        "plt.xticks(x, [name for name in metric_names if name != 'Classification Report'], rotation=45, ha='right')\n",
        "plt.ylabel('Metric Score')\n",
        "plt.title('Comparison of Model Metrics')\n",
        "plt.legend()\n",
        "\n",
        "# Show the plot\n",
        "plt.grid(axis='y', linestyle='--', alpha=0.7)\n",
        "plt.tight_layout()\n",
        "plt.show()"
      ],
      "metadata": {
        "colab": {
          "base_uri": "https://localhost:8080/",
          "height": 601
        },
        "id": "gxRya9Hum1JW",
        "outputId": "e37ec44a-d2da-4e2e-cec3-0e5ef3cc0678"
      },
      "execution_count": 39,
      "outputs": [
        {
          "output_type": "display_data",
          "data": {
            "text/plain": [
              "<Figure size 1000x600 with 1 Axes>"
            ],
            "image/png": "[encoded data removed]"
          },
          "metadata": {}
        }
      ]
    },
    {
      "cell_type": "markdown",
      "source": [
        "Conclusion\n",
        "\n",
        "\n",
        "SVM:\n",
        "\n",
        "\n",
        "Best overall performance across almost all metrics.\n",
        "\n",
        "\n",
        "Highest accuracy (99.3%), recall (97.3%), and precision (99.6%).\n",
        "\n",
        "\n",
        "Very few false negatives and false positives.\n",
        "\n",
        "\n",
        "Ideal if you want to catch almost all spam while minimizing false alarms.\n",
        "\n",
        "\n",
        "Random Forest:\n",
        "\n",
        "\n",
        "Good precision (99.5%) and specificity (99.9%) but noticeably lower recall (83.9%).\n",
        "\n",
        "\n",
        "Higher false negatives means it misses more spam compared to SVM.\n",
        "\n",
        "\n",
        "Still a strong classifier, but less sensitive to spam detection.\n",
        "\n",
        "\n",
        "Decision Tree and Naive Bayes:\n",
        "\n",
        "\n",
        "Similar performance with about 95.4% accuracy.\n",
        "\n",
        "\n",
        "Balanced recall (~94%) and precision (~87%), but more false positives (37).\n",
        "\n",
        "\n",
        "More false alarms compared to SVM and Random Forest.\n",
        "\n",
        "\n",
        "Suitable if interpretability or speed is a priority."
      ],
      "metadata": {
        "id": "B-0IEVf9oBWY"
      }
    }
  ]
}